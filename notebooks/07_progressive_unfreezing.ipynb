{
 "cells": [
  {
   "cell_type": "markdown",
   "metadata": {},
   "source": [
    "# 07_progressive_unfreezing.ipynb"
   ]
  },
  {
   "cell_type": "code",
   "execution_count": null,
   "metadata": {},
   "outputs": [],
   "source": [
    "# Investigating Progressive Unfreezing Approach\n",
    "# \n",
    "# This notebook implements progressive unfreezing for transfer learning on the EuroSAT dataset.\n",
    "# We start with a frozen backbone and gradually unfreeze layers from top to bottom to achieve the best trade-off between accuracy and training time.\n",
    "#\n",
    "# Note: notebook is a WORK IN PROGRESS"
   ]
  },
  {
   "cell_type": "code",
   "execution_count": 2,
   "metadata": {},
   "outputs": [],
   "source": [
    "# Import libraries\n",
    "import os\n",
    "import json\n",
    "import time\n",
    "import datetime\n",
    "import numpy as np\n",
    "import matplotlib.pyplot as plt\n",
    "import seaborn as sns\n",
    "from tqdm.notebook import tqdm\n",
    "from sklearn.metrics import confusion_matrix, classification_report\n",
    "import warnings\n",
    "warnings.filterwarnings('ignore')\n",
    "\n",
    "import torch\n",
    "import torch.nn as nn\n",
    "import torch.optim as optim\n",
    "from torch.utils.data import DataLoader, Dataset, Subset\n",
    "from torchvision import models, transforms\n",
    "from PIL import Image"
   ]
  },
  {
   "cell_type": "code",
   "execution_count": 3,
   "metadata": {},
   "outputs": [],
   "source": [
    "# Set paths and create directories\n",
    "DATASET_DIR = \"../data/raw/EuroSAT_RGB\"\n",
    "OUTPUT_DIR = \"../data/processed\"\n",
    "MODEL_DIR = \"../models\"\n",
    "RESULTS_DIR = \"../results\"\n",
    "\n",
    "os.makedirs(MODEL_DIR, exist_ok=True)\n",
    "os.makedirs(OUTPUT_DIR, exist_ok=True)\n",
    "os.makedirs(RESULTS_DIR, exist_ok=True)"
   ]
  },
  {
   "cell_type": "code",
   "execution_count": 4,
   "metadata": {},
   "outputs": [],
   "source": [
    "# Set random seeds for reproducibility\n",
    "SEED = 42\n",
    "torch.manual_seed(SEED)\n",
    "np.random.seed(SEED)\n",
    "if torch.cuda.is_available():\n",
    "    torch.cuda.manual_seed(SEED)\n",
    "    torch.backends.cudnn.deterministic = True"
   ]
  },
  {
   "cell_type": "code",
   "execution_count": 5,
   "metadata": {},
   "outputs": [
    {
     "name": "stdout",
     "output_type": "stream",
     "text": [
      "Using device: cpu\n"
     ]
    }
   ],
   "source": [
    "# Set device\n",
    "device = torch.device(\"cuda:0\" if torch.cuda.is_available() else \"cpu\")\n",
    "print(f\"Using device: {device}\")"
   ]
  },
  {
   "cell_type": "code",
   "execution_count": 6,
   "metadata": {},
   "outputs": [],
   "source": [
    "# Dataset and Dataloader setup\n",
    "class EuroSATDataset(Dataset):\n",
    "    \"\"\"\n",
    "    Dataset class for EuroSAT dataset\n",
    "    \"\"\"\n",
    "    def __init__(self, root_dir, transform=None):\n",
    "        self.root_dir = root_dir\n",
    "        self.transform = transform\n",
    "        self.classes = sorted([d for d in os.listdir(root_dir) if os.path.isdir(os.path.join(root_dir, d))])\n",
    "        self.class_to_idx = {cls_name: i for i, cls_name in enumerate(self.classes)}\n",
    "        \n",
    "        self.images = []\n",
    "        self.labels = []\n",
    "        \n",
    "        # Load all image paths and labels\n",
    "        for class_name in self.classes:\n",
    "            class_dir = os.path.join(root_dir, class_name)\n",
    "            class_idx = self.class_to_idx[class_name]\n",
    "            \n",
    "            for img_name in os.listdir(class_dir):\n",
    "                if img_name.endswith('.jpg'):\n",
    "                    self.images.append(os.path.join(class_dir, img_name))\n",
    "                    self.labels.append(class_idx)\n",
    "    \n",
    "    def __len__(self):\n",
    "        return len(self.images)\n",
    "    \n",
    "    def __getitem__(self, idx):\n",
    "        img_path = self.images[idx]\n",
    "        image = Image.open(img_path).convert('RGB')\n",
    "        label = self.labels[idx]\n",
    "        \n",
    "        if self.transform:\n",
    "            image = self.transform(image)\n",
    "            \n",
    "        return image, label"
   ]
  },
  {
   "cell_type": "code",
   "execution_count": 7,
   "metadata": {},
   "outputs": [],
   "source": [
    "class TransformedSubset(Dataset):\n",
    "    \"\"\"\n",
    "    Dataset wrapper that applies transforms to a subset\n",
    "    \"\"\"\n",
    "    def __init__(self, subset, transform=None):\n",
    "        self.subset = subset\n",
    "        self.transform = transform\n",
    "        \n",
    "    def __getitem__(self, idx):\n",
    "        x, y = self.subset[idx]\n",
    "        if self.transform:\n",
    "            x = self.transform(x)\n",
    "        return x, y\n",
    "    \n",
    "    def __len__(self):\n",
    "        return len(self.subset)"
   ]
  },
  {
   "cell_type": "code",
   "execution_count": 8,
   "metadata": {},
   "outputs": [],
   "source": [
    "# Load data splits or create them if not available\n",
    "def get_data_loaders(batch_size=32, num_workers=0): # set num_workers > 0 for parallel data loading\n",
    "    \"\"\"\n",
    "    Prepare datasets and dataloaders\n",
    "    \n",
    "    Args:\n",
    "        batch_size: Batch size for training\n",
    "        num_workers: Number of workers for data loading\n",
    "        \n",
    "    Returns:\n",
    "        train_loader, val_loader, test_loader, class_to_idx, idx_to_class\n",
    "    \"\"\"\n",
    "    # Define transformations\n",
    "    train_transform = transforms.Compose([\n",
    "        transforms.RandomHorizontalFlip(),\n",
    "        transforms.RandomVerticalFlip(),\n",
    "        transforms.RandomRotation(10),\n",
    "        transforms.ColorJitter(brightness=0.2, contrast=0.2),\n",
    "        transforms.ToTensor(),\n",
    "        transforms.Normalize([0.485, 0.456, 0.406], [0.229, 0.224, 0.225])\n",
    "    ])\n",
    "\n",
    "    val_transform = transforms.Compose([\n",
    "        transforms.ToTensor(),\n",
    "        transforms.Normalize([0.485, 0.456, 0.406], [0.229, 0.224, 0.225])\n",
    "    ])\n",
    "    \n",
    "    # Try loading existing splits\n",
    "    splits_path = os.path.join(OUTPUT_DIR, 'dataset_splits.pt')\n",
    "    \n",
    "    if os.path.exists(splits_path):\n",
    "        print(\"Loading existing dataset splits...\")\n",
    "        full_dataset = EuroSATDataset(DATASET_DIR, transform=None)\n",
    "        class_to_idx = full_dataset.class_to_idx\n",
    "        idx_to_class = {i: name for name, i in class_to_idx.items()}\n",
    "        \n",
    "        # Load dataset splits\n",
    "        splits = torch.load(splits_path)\n",
    "        train_indices = splits['train_indices']\n",
    "        val_indices = splits['val_indices']\n",
    "        test_indices = splits['test_indices']\n",
    "        \n",
    "        # Create subsets\n",
    "        train_dataset = Subset(full_dataset, train_indices)\n",
    "        val_dataset = Subset(full_dataset, val_indices)\n",
    "        test_dataset = Subset(full_dataset, test_indices)\n",
    "        \n",
    "    else:\n",
    "        print(\"Creating new dataset splits...\")\n",
    "        # Create full dataset\n",
    "        full_dataset = EuroSATDataset(DATASET_DIR, transform=None)\n",
    "        class_to_idx = full_dataset.class_to_idx\n",
    "        idx_to_class = {i: name for name, i in class_to_idx.items()}\n",
    "        \n",
    "        # Split dataset into train, validation, and test sets\n",
    "        total_size = len(full_dataset)\n",
    "        train_size = int(0.7 * total_size)\n",
    "        val_size = int(0.15 * total_size)\n",
    "        test_size = total_size - (train_size + val_size)\n",
    "        \n",
    "        train_dataset, val_dataset, test_dataset = torch.utils.data.random_split(\n",
    "            full_dataset, [train_size, val_size, test_size], \n",
    "            generator=torch.Generator().manual_seed(SEED)\n",
    "        )\n",
    "        \n",
    "        # Save dataset splits\n",
    "        torch.save({\n",
    "            'train_indices': train_dataset.indices,\n",
    "            'val_indices': val_dataset.indices,\n",
    "            'test_indices': test_dataset.indices,\n",
    "        }, splits_path)\n",
    "        \n",
    "        # Save class mappings\n",
    "        with open(os.path.join(OUTPUT_DIR, \"class_mappings.json\"), \"w\") as f:\n",
    "            json.dump({\"class_to_idx\": class_to_idx, \"idx_to_class\": idx_to_class}, f)\n",
    "    \n",
    "    # Apply transformations to datasets\n",
    "    train_dataset = TransformedSubset(train_dataset, train_transform)\n",
    "    val_dataset = TransformedSubset(val_dataset, val_transform)\n",
    "    test_dataset = TransformedSubset(test_dataset, val_transform)\n",
    "    \n",
    "    # Create data loaders\n",
    "    train_loader = DataLoader(train_dataset, batch_size=batch_size, shuffle=True, num_workers=num_workers)\n",
    "    val_loader = DataLoader(val_dataset, batch_size=batch_size, shuffle=False, num_workers=num_workers)\n",
    "    test_loader = DataLoader(test_dataset, batch_size=batch_size, shuffle=False, num_workers=num_workers)\n",
    "    \n",
    "    print(f\"Dataset loaded with {len(train_dataset)} training, {len(val_dataset)} validation, and {len(test_dataset)} test images\")\n",
    "    \n",
    "    return train_loader, val_loader, test_loader, class_to_idx, idx_to_class"
   ]
  },
  {
   "cell_type": "code",
   "execution_count": 9,
   "metadata": {},
   "outputs": [],
   "source": [
    "# Create model with frozen backbone\n",
    "def create_model(model_name='resnet18', num_classes=10):\n",
    "    \"\"\"\n",
    "    Create a model with pretrained backbone\n",
    "    \n",
    "    Args:\n",
    "        model_name: Name of the model to use\n",
    "        num_classes: Number of output classes\n",
    "        \n",
    "    Returns:\n",
    "        model: PyTorch model\n",
    "    \"\"\"\n",
    "    # Load pretrained model\n",
    "    if model_name == 'resnet18':\n",
    "        model = models.resnet18(weights='IMAGENET1K_V1')\n",
    "    elif model_name == 'resnet50':\n",
    "        model = models.resnet50(weights='IMAGENET1K_V1')\n",
    "    elif model_name == 'efficientnet_b0':\n",
    "        model = models.efficientnet_b0(weights='IMAGENET1K_V1')\n",
    "    elif model_name == 'efficientnet_b4':\n",
    "        model = models.efficientnet_b4(weights='IMAGENET1K_V1')\n",
    "    else:\n",
    "        raise ValueError(f\"Model {model_name} not supported\")\n",
    "    \n",
    "    # Freeze all backbone parameters\n",
    "    for param in model.parameters():\n",
    "        param.requires_grad = False\n",
    "    \n",
    "    # Replace the last fully connected layer\n",
    "    if model_name.startswith('resnet'):\n",
    "        num_ftrs = model.fc.in_features\n",
    "        model.fc = nn.Linear(num_ftrs, num_classes)\n",
    "    elif model_name.startswith('efficientnet'):\n",
    "        num_ftrs = model.classifier[1].in_features\n",
    "        model.classifier[1] = nn.Linear(num_ftrs, num_classes)\n",
    "    \n",
    "    return model"
   ]
  },
  {
   "cell_type": "code",
   "execution_count": 10,
   "metadata": {},
   "outputs": [],
   "source": [
    "# Function to progressively unfreeze model layers\n",
    "def unfreeze_model_layers(model, model_name, unfreeze_stage=0):\n",
    "    \"\"\"\n",
    "    Progressively unfreeze model layers from top to bottom\n",
    "    \n",
    "    Args:\n",
    "        model: PyTorch model\n",
    "        model_name: Name of the model architecture\n",
    "        unfreeze_stage: Stage of unfreezing (0=only classifier, 1=last stage, 2=last two stages, etc.)\n",
    "        \n",
    "    Returns:\n",
    "        model: Model with selected layers unfrozen\n",
    "    \"\"\"\n",
    "    # First, freeze all parameters\n",
    "    for param in model.parameters():\n",
    "        param.requires_grad = False\n",
    "    \n",
    "    # Now unfreeze based on stages\n",
    "    if model_name.startswith('resnet'):\n",
    "        # ResNet layers in order from top to bottom\n",
    "        if unfreeze_stage >= 0:  # Always unfreeze classifier\n",
    "            for param in model.fc.parameters():\n",
    "                param.requires_grad = True\n",
    "            print(\"Unfrozen layers: fc\")\n",
    "            \n",
    "        if unfreeze_stage >= 1:  # Last conv block\n",
    "            for param in model.layer4.parameters():\n",
    "                param.requires_grad = True\n",
    "            print(\"Unfrozen layers: fc, layer4\")\n",
    "            \n",
    "        if unfreeze_stage >= 2:  # Second last conv block\n",
    "            for param in model.layer3.parameters():\n",
    "                param.requires_grad = True\n",
    "            print(\"Unfrozen layers: fc, layer4, layer3\")\n",
    "            \n",
    "        if unfreeze_stage >= 3:  # Third last conv block\n",
    "            for param in model.layer2.parameters():\n",
    "                param.requires_grad = True\n",
    "            print(\"Unfrozen layers: fc, layer4, layer3, layer2\")\n",
    "            \n",
    "        if unfreeze_stage >= 4:  # First conv block\n",
    "            for param in model.layer1.parameters():\n",
    "                param.requires_grad = True\n",
    "            print(\"Unfrozen layers: fc, layer4, layer3, layer2, layer1\")\n",
    "            \n",
    "        if unfreeze_stage >= 5:  # Initial conv + bn\n",
    "            for param in model.conv1.parameters():\n",
    "                param.requires_grad = True\n",
    "            for param in model.bn1.parameters():\n",
    "                param.requires_grad = True\n",
    "            print(\"Unfrozen layers: fc, layer4, layer3, layer2, layer1, conv1, bn1\")\n",
    "    \n",
    "    elif model_name.startswith('efficientnet'):\n",
    "        # Unfreeze classifier\n",
    "        if unfreeze_stage >= 0:\n",
    "            for param in model.classifier.parameters():\n",
    "                param.requires_grad = True\n",
    "            print(\"Unfrozen layers: classifier\")\n",
    "            \n",
    "        # EfficientNet features is a sequential with multiple MBConv blocks\n",
    "        # We unfreeze from the end towards the beginning\n",
    "        if unfreeze_stage >= 1:\n",
    "            num_features_blocks = len(model.features)\n",
    "            blocks_per_stage = max(1, num_features_blocks // 5)  # Roughly divide into 5 stages\n",
    "            \n",
    "            # Unfreeze blocks from the top down based on unfreeze_stage\n",
    "            for stage in range(1, min(unfreeze_stage + 1, 6)):\n",
    "                start_idx = max(0, num_features_blocks - stage * blocks_per_stage)\n",
    "                for i in range(start_idx, num_features_blocks):\n",
    "                    for param in model.features[i].parameters():\n",
    "                        param.requires_grad = True\n",
    "                print(f\"Unfrozen feature blocks: {start_idx}-{num_features_blocks-1}\")\n",
    "    \n",
    "    # Count trainable parameters\n",
    "    trainable_params = sum(p.numel() for p in model.parameters() if p.requires_grad)\n",
    "    total_params = sum(p.numel() for p in model.parameters())\n",
    "    print(f\"Trainable parameters: {trainable_params:,} / {total_params:,} ({100 * trainable_params / total_params:.2f}%)\")\n",
    "    \n",
    "    return model"
   ]
  },
  {
   "cell_type": "code",
   "execution_count": 11,
   "metadata": {},
   "outputs": [],
   "source": [
    "# Training function\n",
    "def train_model(model, train_loader, val_loader, criterion, optimizer, scheduler=None, num_epochs=5, patience=3):\n",
    "    \"\"\"\n",
    "    Train a model with early stopping\n",
    "    \n",
    "    Args:\n",
    "        model: PyTorch model to train\n",
    "        train_loader: DataLoader for training data\n",
    "        val_loader: DataLoader for validation data\n",
    "        criterion: Loss function\n",
    "        optimizer: Optimizer\n",
    "        scheduler: Learning rate scheduler (optional)\n",
    "        num_epochs: Maximum number of epochs to train for\n",
    "        patience: Number of epochs to wait for improvement before early stopping\n",
    "        \n",
    "    Returns:\n",
    "        model: Trained model\n",
    "        history: Training history dictionary\n",
    "    \"\"\"\n",
    "    model = model.to(device)\n",
    "    \n",
    "    # Initialize training metrics\n",
    "    best_model_wts = model.state_dict()\n",
    "    best_acc = 0.0\n",
    "    epochs_no_improve = 0\n",
    "    early_stopped = False\n",
    "    \n",
    "    # For tracking metrics\n",
    "    history = {\n",
    "        'train_loss': [],\n",
    "        'val_loss': [],\n",
    "        'train_acc': [],\n",
    "        'val_acc': []\n",
    "    }\n",
    "    \n",
    "    # Time tracking\n",
    "    start_time = time.time()\n",
    "    \n",
    "    for epoch in range(num_epochs):\n",
    "        print(f'Epoch {epoch+1}/{num_epochs}')\n",
    "        print('-' * 10)\n",
    "        \n",
    "        # Each epoch has a training and validation phase\n",
    "        for phase in ['train', 'val']:\n",
    "            if phase == 'train':\n",
    "                model.train()\n",
    "                dataloader = train_loader\n",
    "            else:\n",
    "                model.eval()\n",
    "                dataloader = val_loader\n",
    "            \n",
    "            running_loss = 0.0\n",
    "            running_corrects = 0\n",
    "            \n",
    "            # Iterate over data\n",
    "            progress_bar = tqdm(dataloader, desc=f\"{phase.capitalize()} Batch\")\n",
    "            for inputs, labels in progress_bar:\n",
    "                inputs = inputs.to(device)\n",
    "                labels = labels.to(device)\n",
    "                \n",
    "                # Zero the parameter gradients\n",
    "                optimizer.zero_grad()\n",
    "                \n",
    "                # Forward pass\n",
    "                with torch.set_grad_enabled(phase == 'train'):\n",
    "                    outputs = model(inputs)\n",
    "                    _, preds = torch.max(outputs, 1)\n",
    "                    loss = criterion(outputs, labels)\n",
    "                    \n",
    "                    # Backward + optimize only if in training phase\n",
    "                    if phase == 'train':\n",
    "                        loss.backward()\n",
    "                        optimizer.step()\n",
    "                \n",
    "                # Stats\n",
    "                batch_loss = loss.item() * inputs.size(0)\n",
    "                batch_corrects = torch.sum(preds == labels.data).item()\n",
    "                batch_accuracy = batch_corrects / inputs.size(0)\n",
    "                \n",
    "                running_loss += batch_loss\n",
    "                running_corrects += batch_corrects\n",
    "                \n",
    "                # Update progress bar\n",
    "                progress_bar.set_postfix({\n",
    "                    'loss': f\"{batch_loss / inputs.size(0):.4f}\",\n",
    "                    'acc': f\"{batch_accuracy:.4f}\"\n",
    "                })\n",
    "            \n",
    "            epoch_loss = running_loss / len(dataloader.dataset)\n",
    "            epoch_acc = running_corrects / len(dataloader.dataset)\n",
    "            \n",
    "            # Store history\n",
    "            if phase == 'train':\n",
    "                history['train_loss'].append(epoch_loss)\n",
    "                history['train_acc'].append(epoch_acc)\n",
    "                if scheduler and scheduler.__class__.__name__ != 'ReduceLROnPlateau':\n",
    "                    scheduler.step()\n",
    "            else:  # val\n",
    "                history['val_loss'].append(epoch_loss)\n",
    "                history['val_acc'].append(epoch_acc)\n",
    "                \n",
    "                # If scheduler is ReduceLROnPlateau, step based on validation loss\n",
    "                if scheduler and scheduler.__class__.__name__ == 'ReduceLROnPlateau':\n",
    "                    scheduler.step(epoch_loss)\n",
    "                \n",
    "                # Deep copy the model if best validation accuracy\n",
    "                if epoch_acc > best_acc:\n",
    "                    best_acc = epoch_acc\n",
    "                    best_model_wts = model.state_dict().copy()\n",
    "                    epochs_no_improve = 0\n",
    "                else:\n",
    "                    epochs_no_improve += 1\n",
    "            \n",
    "            print(f'{phase} Loss: {epoch_loss:.4f} Acc: {epoch_acc:.4f}')\n",
    "        \n",
    "        # Early stopping check\n",
    "        if epochs_no_improve >= patience:\n",
    "            print(f'Early stopping triggered after {epoch+1} epochs')\n",
    "            early_stopped = True\n",
    "            break\n",
    "        \n",
    "        print()  # Empty line between epochs\n",
    "    \n",
    "    # Calculate training time\n",
    "    time_elapsed = time.time() - start_time\n",
    "    print(f'Training complete in {time_elapsed // 60:.0f}m {time_elapsed % 60:.0f}s')\n",
    "    print(f'Best validation accuracy: {best_acc:.4f}')\n",
    "    \n",
    "    # Add early stopping info to history\n",
    "    history['early_stopped'] = early_stopped\n",
    "    history['epochs_completed'] = epoch + 1\n",
    "    history['best_val_acc'] = best_acc\n",
    "    history['training_time'] = time_elapsed\n",
    "    \n",
    "    # Load best model weights\n",
    "    model.load_state_dict(best_model_wts)\n",
    "    return model, history, best_acc"
   ]
  },
  {
   "cell_type": "code",
   "execution_count": 12,
   "metadata": {},
   "outputs": [],
   "source": [
    "# Evaluation function\n",
    "def evaluate_model(model, test_loader, class_names=None):\n",
    "    \"\"\"\n",
    "    Evaluate a trained model on the test set\n",
    "    \n",
    "    Args:\n",
    "        model: Trained PyTorch model\n",
    "        test_loader: DataLoader for test data\n",
    "        class_names: List of class names\n",
    "        \n",
    "    Returns:\n",
    "        test_acc: Test accuracy\n",
    "        y_true: True labels\n",
    "        y_pred: Predicted labels\n",
    "    \"\"\"\n",
    "    model.eval()\n",
    "    \n",
    "    y_true = []\n",
    "    y_pred = []\n",
    "    test_loss = 0\n",
    "    criterion = nn.CrossEntropyLoss()\n",
    "    \n",
    "    with torch.no_grad():\n",
    "        for inputs, labels in tqdm(test_loader, desc=\"Evaluating\"):\n",
    "            inputs = inputs.to(device)\n",
    "            labels = labels.to(device)\n",
    "            \n",
    "            outputs = model(inputs)\n",
    "            _, preds = torch.max(outputs, 1)\n",
    "            \n",
    "            # Calculate loss\n",
    "            loss = criterion(outputs, labels)\n",
    "            test_loss += loss.item() * inputs.size(0)\n",
    "            \n",
    "            y_true.extend(labels.cpu().numpy())\n",
    "            y_pred.extend(preds.cpu().numpy())\n",
    "    \n",
    "    # Calculate metrics\n",
    "    test_loss = test_loss / len(test_loader.dataset)\n",
    "    test_acc = (np.array(y_true) == np.array(y_pred)).mean()\n",
    "    \n",
    "    print(f'Test Loss: {test_loss:.4f}')\n",
    "    print(f'Test Accuracy: {test_acc:.4f}')\n",
    "    \n",
    "    # If class names provided, create confusion matrix\n",
    "    if class_names:\n",
    "        cm = confusion_matrix(y_true, y_pred)\n",
    "        \n",
    "        plt.figure(figsize=(12, 10))\n",
    "        sns.heatmap(cm, annot=True, fmt='d', cmap='Blues', xticklabels=class_names, yticklabels=class_names)\n",
    "        plt.xlabel('Predicted')\n",
    "        plt.ylabel('True')\n",
    "        plt.title('Confusion Matrix')\n",
    "        plt.xticks(rotation=45, ha='right')\n",
    "        plt.tight_layout()\n",
    "        plt.show()\n",
    "        \n",
    "        # Print classification report\n",
    "        print(\"Classification Report:\")\n",
    "        print(classification_report(y_true, y_pred, target_names=class_names, digits=4))\n",
    "    \n",
    "    return test_acc, y_true, y_pred"
   ]
  },
  {
   "cell_type": "code",
   "execution_count": 14,
   "metadata": {},
   "outputs": [],
   "source": [
    "# Plotting function for progressive unfreezing\n",
    "def plot_progressive_unfreezing_results(results):\n",
    "    \"\"\"\n",
    "    Plot training curves for progressive unfreezing\n",
    "    \n",
    "    Args:\n",
    "        results: Results dictionary from run_progressive_unfreezing_experiment\n",
    "    \"\"\"\n",
    "    model_name = results['model_name']\n",
    "    all_histories = results['all_histories']\n",
    "    stage_results = results['stage_results']\n",
    "    \n",
    "    # Create figure for all curves\n",
    "    plt.figure(figsize=(15, 10))\n",
    "    \n",
    "    # Plot training loss\n",
    "    plt.subplot(2, 2, 1)\n",
    "    for i, history in enumerate(all_histories):\n",
    "        # Calculate epoch offsets for consecutive plotting\n",
    "        if i == 0:\n",
    "            offset = 0\n",
    "        else:\n",
    "            offset = sum(h['epochs_completed'] for h in all_histories[:i])\n",
    "        \n",
    "        epochs = range(offset, offset + history['epochs_completed'])\n",
    "        plt.plot(epochs, history['train_loss'], label=f'Stage {i}')\n",
    "    \n",
    "    plt.title('Training Loss')\n",
    "    plt.xlabel('Epoch')\n",
    "    plt.ylabel('Loss')\n",
    "    plt.legend()\n",
    "    \n",
    "    # Plot validation loss\n",
    "    plt.subplot(2, 2, 2)\n",
    "    for i, history in enumerate(all_histories):\n",
    "        # Calculate epoch offsets\n",
    "        if i == 0:\n",
    "            offset = 0\n",
    "        else:\n",
    "            offset = sum(h['epochs_completed'] for h in all_histories[:i])\n",
    "        \n",
    "        epochs = range(offset, offset + history['epochs_completed'])\n",
    "        plt.plot(epochs, history['val_loss'], label=f'Stage {i}')\n",
    "    \n",
    "    plt.title('Validation Loss')\n",
    "    plt.xlabel('Epoch')\n",
    "    plt.ylabel('Loss')\n",
    "    plt.legend()\n",
    "    \n",
    "    # Plot training accuracy\n",
    "    plt.subplot(2, 2, 3)\n",
    "    for i, history in enumerate(all_histories):\n",
    "        # Calculate epoch offsets\n",
    "        if i == 0:\n",
    "            offset = 0\n",
    "        else:\n",
    "            offset = sum(h['epochs_completed'] for h in all_histories[:i])\n",
    "        \n",
    "        epochs = range(offset, offset + history['epochs_completed'])\n",
    "        plt.plot(epochs, history['train_acc'], label=f'Stage {i}')\n",
    "    \n",
    "    plt.title('Training Accuracy')\n",
    "    plt.xlabel('Epoch')\n",
    "    plt.ylabel('Accuracy')\n",
    "    plt.legend()\n",
    "    \n",
    "    # Plot validation accuracy\n",
    "    plt.subplot(2, 2, 4)\n",
    "    for i, history in enumerate(all_histories):\n",
    "        # Calculate epoch offsets\n",
    "        if i == 0:\n",
    "            offset = 0\n",
    "        else:\n",
    "            offset = sum(h['epochs_completed'] for h in all_histories[:i])\n",
    "        \n",
    "        epochs = range(offset, offset + history['epochs_completed'])\n",
    "        plt.plot(epochs, history['val_acc'], label=f'Stage {i}')\n",
    "    \n",
    "    plt.title('Validation Accuracy')\n",
    "    plt.xlabel('Epoch')\n",
    "    plt.ylabel('Accuracy')\n",
    "    plt.legend()\n",
    "    \n",
    "    plt.tight_layout()\n",
    "    plt.savefig(os.path.join(RESULTS_DIR, f\"{model_name}_progressive_unfreezing.png\"))\n",
    "    plt.show()\n",
    "    \n",
    "    # Plot stage-by-stage accuracy comparison\n",
    "    plt.figure(figsize=(10, 6))\n",
    "    stages = list(stage_results.keys())\n",
    "    \n",
    "    # Extract validation accuracies for each stage\n",
    "    val_accs = [stage_results[stage]['val_acc'] for stage in stages]\n",
    "    best_val_accs = [stage_results[stage]['best_val_acc'] for stage in stages]\n",
    "    \n",
    "    # Create bar chart\n",
    "    x = np.arange(len(stages))\n",
    "    width = 0.35\n",
    "    \n",
    "    plt.bar(x - width/2, val_accs, width, label='Final Validation Accuracy')\n",
    "    plt.bar(x + width/2, best_val_accs, width, label='Best Validation Accuracy')\n",
    "    \n",
    "    plt.xlabel('Stage')\n",
    "    plt.ylabel('Accuracy')\n",
    "    plt.title('Validation Accuracy by Progressive Unfreezing Stage')\n",
    "    plt.xticks(x, [f\"Stage {i}\" for i in range(len(stages))])\n",
    "    plt.ylim(0.7, 1.0)  # Adjust y-axis for better visibility\n",
    "    plt.legend()\n",
    "    \n",
    "    # Add accuracy values on top of bars\n",
    "    for i, v in enumerate(val_accs):\n",
    "        plt.text(i - width/2, v + 0.01, f\"{v:.4f}\", ha='center')\n",
    "    \n",
    "    for i, v in enumerate(best_val_accs):\n",
    "        plt.text(i + width/2, v + 0.01, f\"{v:.4f}\", ha='center')\n",
    "    \n",
    "    plt.tight_layout()\n",
    "    plt.savefig(os.path.join(RESULTS_DIR, f\"{model_name}_stage_comparison.png\"))\n",
    "    plt.show()"
   ]
  },
  {
   "cell_type": "code",
   "execution_count": 15,
   "metadata": {},
   "outputs": [],
   "source": [
    "# Save results\n",
    "def save_progressive_unfreezing_results(model, results, class_to_idx):\n",
    "    \"\"\"\n",
    "    Save model and results from progressive unfreezing experiment\n",
    "    \n",
    "    Args:\n",
    "        model: Trained PyTorch model\n",
    "        results: Results dictionary from run_progressive_unfreezing_experiment\n",
    "        class_to_idx: Class to index mapping\n",
    "    \"\"\"\n",
    "    model_name = results['model_name']\n",
    "    test_accuracy = results['test_accuracy']\n",
    "    \n",
    "    # Create timestamp for filenames\n",
    "    timestamp = datetime.datetime.now().strftime(\"%Y%m%d_%H%M\")\n",
    "    \n",
    "    # Save model\n",
    "    model_path = os.path.join(MODEL_DIR, f\"{model_name}_progressive_{timestamp}.pth\")\n",
    "    torch.save({\n",
    "        'model_state_dict': model.state_dict(),\n",
    "        'class_to_idx': class_to_idx,\n",
    "        'idx_to_class': {i: name for name, i in class_to_idx.items()},\n",
    "        'model_name': model_name,\n",
    "        'test_accuracy': test_accuracy,\n",
    "        'results': results,\n",
    "        'timestamp': timestamp\n",
    "    }, model_path)\n",
    "    \n",
    "    # Save results as JSON\n",
    "    results_path = os.path.join(RESULTS_DIR, f\"{model_name}_progressive_results_{timestamp}.json\")\n",
    "    \n",
    "    # Convert NumPy arrays to lists for JSON serialization\n",
    "    serializable_results = results.copy()\n",
    "    \n",
    "    # Process all_histories to make it JSON serializable\n",
    "    for i, history in enumerate(serializable_results['all_histories']):\n",
    "        for key in history:\n",
    "            if isinstance(history[key], np.ndarray):\n",
    "                serializable_results['all_histories'][i][key] = history[key].tolist()\n",
    "            elif isinstance(history[key], (np.float32, np.float64)):\n",
    "                serializable_results['all_histories'][i][key] = float(history[key])\n",
    "    \n",
    "    # Process stage_results to make it JSON serializable\n",
    "    for stage in serializable_results['stage_results']:\n",
    "        for key in serializable_results['stage_results'][stage]:\n",
    "            if isinstance(serializable_results['stage_results'][stage][key], np.ndarray):\n",
    "                serializable_results['stage_results'][stage][key] = serializable_results['stage_results'][stage][key].tolist()\n",
    "            elif isinstance(serializable_results['stage_results'][stage][key], (np.float32, np.float64)):\n",
    "                serializable_results['stage_results'][stage][key] = float(serializable_results['stage_results'][stage][key])\n",
    "    \n",
    "    # Save to JSON\n",
    "    with open(results_path, 'w') as f:\n",
    "        json.dump(serializable_results, f, indent=4)\n",
    "    \n",
    "    print(f\"Model saved to {model_path}\")\n",
    "    print(f\"Results saved to {results_path}\")"
   ]
  },
  {
   "cell_type": "code",
   "execution_count": 13,
   "metadata": {},
   "outputs": [],
   "source": [
    "# Progressive unfreezing experiment\n",
    "def run_progressive_unfreezing_experiment(\n",
    "    model_name='resnet18',\n",
    "    batch_size=32,\n",
    "    epochs_per_stage=5,\n",
    "    lr_start=0.01,\n",
    "    total_stages=5,\n",
    "    plot_results=True\n",
    "):\n",
    "    \"\"\"\n",
    "    Run a progressive unfreezing experiment, training the model in stages\n",
    "    \n",
    "    Args:\n",
    "        model_name: Model architecture to use\n",
    "        batch_size: Batch size for training\n",
    "        epochs_per_stage: Number of epochs to train for each unfreezing stage\n",
    "        lr_start: Initial learning rate for stage 0 (only classifier)\n",
    "        total_stages: Total number of unfreezing stages\n",
    "        plot_results: Whether to plot training curves\n",
    "        \n",
    "    Returns:\n",
    "        model: Trained model\n",
    "        results: Dictionary containing results for each stage\n",
    "        test_acc: Final test accuracy\n",
    "    \"\"\"\n",
    "    # Load data\n",
    "    train_loader, val_loader, test_loader, class_to_idx, idx_to_class = get_data_loaders(batch_size=batch_size)\n",
    "    class_names = [idx_to_class[i] for i in range(len(class_to_idx))]\n",
    "    num_classes = len(class_to_idx)\n",
    "    \n",
    "    # Create initial model (all frozen except classifier)\n",
    "    model = create_model(model_name=model_name, num_classes=num_classes)\n",
    "    \n",
    "    # Track results for each stage\n",
    "    stage_results = {}\n",
    "    all_histories = []\n",
    "    \n",
    "    # Learning rate reduction for deeper layers\n",
    "    lr_reduction_factor = 5  # Each stage reduces LR by this factor\n",
    "    \n",
    "    # Train the model stage by stage\n",
    "    for stage in range(total_stages):\n",
    "        print(f\"\\n{'='*20} Stage {stage}: Unfreezing more layers {'='*20}\")\n",
    "        \n",
    "        # Unfreeze layers according to current stage\n",
    "        model = unfreeze_model_layers(model, model_name, unfreeze_stage=stage)\n",
    "        \n",
    "        # Adjust learning rate based on stage\n",
    "        current_lr = lr_start / (lr_reduction_factor ** stage)\n",
    "        print(f\"Learning rate for stage {stage}: {current_lr}\")\n",
    "        \n",
    "        # Create optimizer - we use SGD with momentum for fine-tuning\n",
    "        optimizer = optim.SGD(\n",
    "            [p for p in model.parameters() if p.requires_grad], \n",
    "            lr=current_lr,\n",
    "            momentum=0.9\n",
    "        )\n",
    "        \n",
    "        # Learning rate scheduler\n",
    "        scheduler = optim.lr_scheduler.ReduceLROnPlateau(\n",
    "            optimizer, mode='min', factor=0.1, patience=2, verbose=True\n",
    "        )\n",
    "        \n",
    "        # Loss function\n",
    "        criterion = nn.CrossEntropyLoss()\n",
    "        \n",
    "        # Train model for this stage\n",
    "        model, history, best_val_acc = train_model(\n",
    "            model=model,\n",
    "            train_loader=train_loader,\n",
    "            val_loader=val_loader,\n",
    "            criterion=criterion,\n",
    "            optimizer=optimizer,\n",
    "            scheduler=scheduler,\n",
    "            num_epochs=epochs_per_stage,\n",
    "            patience=epochs_per_stage  # No early stopping within a stage\n",
    "        )\n",
    "        \n",
    "        # Store history for this stage\n",
    "        history['stage'] = stage\n",
    "        all_histories.append(history)\n",
    "        \n",
    "        # Evaluate after this stage\n",
    "        stage_val_acc = history['val_acc'][-1]\n",
    "        print(f\"Stage {stage} completed. Validation accuracy: {stage_val_acc:.4f}\")\n",
    "        \n",
    "        # Store results for this stage\n",
    "        stage_results[f'stage_{stage}'] = {\n",
    "            'val_acc': stage_val_acc,\n",
    "            'best_val_acc': best_val_acc,\n",
    "            'epochs_completed': history['epochs_completed'],\n",
    "            'training_time': history['training_time']\n",
    "        }\n",
    "    \n",
    "    # Final evaluation\n",
    "    print(\"\\n{'='*20} Final Evaluation {'='*20}\")\n",
    "    test_acc, y_true, y_pred = evaluate_model(model, test_loader, class_names)\n",
    "    \n",
    "    # Store test accuracy\n",
    "    results = {\n",
    "        'model_name': model_name,\n",
    "        'test_accuracy': test_acc,\n",
    "        'stage_results': stage_results,\n",
    "        'all_histories': all_histories\n",
    "    }\n",
    "    \n",
    "    # Plot training curves\n",
    "    if plot_results:\n",
    "        plot_progressive_unfreezing_results(results)\n",
    "    \n",
    "    # Save model and results\n",
    "    save_progressive_unfreezing_results(model, results, class_to_idx)\n",
    "    \n",
    "    return model, results, test_acc"
   ]
  },
  {
   "cell_type": "code",
   "execution_count": 16,
   "metadata": {},
   "outputs": [],
   "source": [
    "# Function to compare progressive unfreezing with traditional approaches\n",
    "def compare_with_traditional_approaches(model_name='resnet18', batch_size=32):\n",
    "    \"\"\"\n",
    "    Compare progressive unfreezing with fully frozen and fully unfrozen approaches\n",
    "    \n",
    "    Args:\n",
    "        model_name: Model architecture to use\n",
    "        batch_size: Batch size for training\n",
    "    \"\"\"\n",
    "    print(\"\\n\\n{'='*20} COMPARING TRANSFER LEARNING APPROACHES {'='*20}\\n\")\n",
    "    \n",
    "    # Load data\n",
    "    train_loader, val_loader, test_loader, class_to_idx, idx_to_class = get_data_loaders(batch_size=batch_size)\n",
    "    class_names = [idx_to_class[i] for i in range(len(class_to_idx))]\n",
    "    num_classes = len(class_to_idx)\n",
    "    \n",
    "    # Approach 1: Only train classifier (fully frozen backbone)\n",
    "    print(\"\\n{'='*20} Approach 1: Frozen Backbone {'='*20}\\n\")\n",
    "    model_frozen = create_model(model_name=model_name, num_classes=num_classes)\n",
    "    optimizer_frozen = optim.Adam([p for p in model_frozen.parameters() if p.requires_grad], lr=0.01)\n",
    "    criterion = nn.CrossEntropyLoss()\n",
    "    scheduler_frozen = optim.lr_scheduler.ReduceLROnPlateau(optimizer_frozen, mode='min', factor=0.1, patience=3, verbose=True)\n",
    "    \n",
    "    model_frozen, history_frozen, _ = train_model(\n",
    "        model=model_frozen,\n",
    "        train_loader=train_loader,\n",
    "        val_loader=val_loader,\n",
    "        criterion=criterion,\n",
    "        optimizer=optimizer_frozen,\n",
    "        scheduler=scheduler_frozen,\n",
    "        num_epochs=15\n",
    "    )\n",
    "    \n",
    "    test_acc_frozen, _, _ = evaluate_model(model_frozen, test_loader)\n",
    "    \n",
    "    # Approach 2: Train all layers (fully unfrozen)\n",
    "    print(\"\\n{'='*20} Approach 2: Unfrozen Backbone {'='*20}\\n\")\n",
    "    model_unfrozen = create_model(model_name=model_name, num_classes=num_classes)\n",
    "    \n",
    "    # Unfreeze all layers\n",
    "    for param in model_unfrozen.parameters():\n",
    "        param.requires_grad = True\n",
    "    \n",
    "    optimizer_unfrozen = optim.Adam(model_unfrozen.parameters(), lr=0.001)  # Lower learning rate for unfrozen\n",
    "    scheduler_unfrozen = optim.lr_scheduler.ReduceLROnPlateau(optimizer_unfrozen, mode='min', factor=0.1, patience=3, verbose=True)\n",
    "    \n",
    "    model_unfrozen, history_unfrozen, _ = train_model(\n",
    "        model=model_unfrozen,\n",
    "        train_loader=train_loader,\n",
    "        val_loader=val_loader,\n",
    "        criterion=criterion,\n",
    "        optimizer=optimizer_unfrozen,\n",
    "        scheduler=scheduler_unfrozen,\n",
    "        num_epochs=15\n",
    "    )\n",
    "    \n",
    "    test_acc_unfrozen, _, _ = evaluate_model(model_unfrozen, test_loader)\n",
    "    \n",
    "    # Approach 3: Progressive Unfreezing (run the full experiment)\n",
    "    print(\"\\n{'='*20} Approach 3: Progressive Unfreezing {'='*20}\\n\")\n",
    "    _, results_progressive, test_acc_progressive = run_progressive_unfreezing_experiment(\n",
    "        model_name=model_name,\n",
    "        batch_size=batch_size,\n",
    "        epochs_per_stage=3,  # Fewer epochs per stage for quicker comparison\n",
    "        total_stages=5,\n",
    "        plot_results=False  # We'll create our own comparison plot\n",
    "    )\n",
    "    \n",
    "    # Compare results\n",
    "    approaches = [\"Frozen Backbone\", \"Unfrozen Backbone\", \"Progressive Unfreezing\"]\n",
    "    accuracies = [test_acc_frozen, test_acc_unfrozen, test_acc_progressive]\n",
    "    training_time_frozen = history_frozen['training_time']\n",
    "    training_time_unfrozen = history_unfrozen['training_time']\n",
    "    training_time_progressive = sum(results_progressive['stage_results'][s]['training_time'] for s in results_progressive['stage_results'])\n",
    "    \n",
    "    training_times = [training_time_frozen, training_time_unfrozen, training_time_progressive]\n",
    "    \n",
    "    # Plot comparison\n",
    "    fig, (ax1, ax2) = plt.subplots(1, 2, figsize=(15, 6))\n",
    "    \n",
    "    # Plot test accuracies\n",
    "    ax1.bar(approaches, accuracies, color=['blue', 'green', 'red'])\n",
    "    ax1.set_ylabel('Test Accuracy')\n",
    "    ax1.set_title('Test Accuracy Comparison')\n",
    "    ax1.set_ylim(0.8, 1.0)  # Adjust based on your expected accuracy range\n",
    "    \n",
    "    # Add accuracy values on top of bars\n",
    "    for i, v in enumerate(accuracies):\n",
    "        ax1.text(i, v + 0.01, f\"{v:.4f}\", ha='center')\n",
    "    \n",
    "    # Plot training times\n",
    "    ax2.bar(approaches, [t/60 for t in training_times], color=['blue', 'green', 'red'])\n",
    "    ax2.set_ylabel('Training Time (minutes)')\n",
    "    ax2.set_title('Training Time Comparison')\n",
    "    \n",
    "    # Add training time values on top of bars\n",
    "    for i, v in enumerate(training_times):\n",
    "        ax2.text(i, v/60 + 1, f\"{v/60:.1f}\", ha='center')\n",
    "    \n",
    "    plt.tight_layout()\n",
    "    plt.savefig(os.path.join(RESULTS_DIR, f\"{model_name}_approach_comparison.png\"))\n",
    "    plt.show()\n",
    "    \n",
    "    # Create a summary table\n",
    "    summary = {\n",
    "        'Approach': approaches,\n",
    "        'Test Accuracy': [f\"{acc:.4f}\" for acc in accuracies],\n",
    "        'Training Time (min)': [f\"{t/60:.1f}\" for t in training_times],\n",
    "        'Accuracy/Time Ratio': [f\"{acc/(t/60):.4f}\" for acc, t in zip(accuracies, training_times)]\n",
    "    }\n",
    "    \n",
    "    # Print summary table\n",
    "    print(\"\\n{'='*20} SUMMARY {'='*20}\")\n",
    "    print(f\"{'Approach':<25} {'Test Accuracy':<15} {'Training Time (min)':<20} {'Efficiency Ratio':<20}\")\n",
    "    print('-' * 80)\n",
    "    for i in range(len(approaches)):\n",
    "        print(f\"{summary['Approach'][i]:<25} {summary['Test Accuracy'][i]:<15} {summary['Training Time (min)'][i]:<20} {summary['Accuracy/Time Ratio'][i]:<20}\")"
   ]
  },
  {
   "cell_type": "code",
   "execution_count": 17,
   "metadata": {},
   "outputs": [
    {
     "name": "stdout",
     "output_type": "stream",
     "text": [
      "Loading existing dataset splits...\n",
      "Dataset loaded with 18900 training, 4050 validation, and 4050 test images\n",
      "\n",
      "==================== Stage 0: Unfreezing more layers ====================\n",
      "Unfrozen layers: fc\n",
      "Trainable parameters: 5,130 / 11,181,642 (0.05%)\n",
      "Learning rate for stage 0: 0.01\n",
      "Epoch 1/5\n",
      "----------\n"
     ]
    },
    {
     "data": {
      "application/vnd.jupyter.widget-view+json": {
       "model_id": "e3098967bbad423b9e9ef7394a4b911a",
       "version_major": 2,
       "version_minor": 0
      },
      "text/plain": [
       "Train Batch:   0%|          | 0/591 [00:00<?, ?it/s]"
      ]
     },
     "metadata": {},
     "output_type": "display_data"
    },
    {
     "name": "stdout",
     "output_type": "stream",
     "text": [
      "train Loss: 1.2369 Acc: 0.6796\n"
     ]
    },
    {
     "data": {
      "application/vnd.jupyter.widget-view+json": {
       "model_id": "fa544ea63a40450bb19736b66418e84f",
       "version_major": 2,
       "version_minor": 0
      },
      "text/plain": [
       "Val Batch:   0%|          | 0/127 [00:00<?, ?it/s]"
      ]
     },
     "metadata": {},
     "output_type": "display_data"
    },
    {
     "name": "stdout",
     "output_type": "stream",
     "text": [
      "val Loss: 0.9064 Acc: 0.7654\n",
      "\n",
      "Epoch 2/5\n",
      "----------\n"
     ]
    },
    {
     "data": {
      "application/vnd.jupyter.widget-view+json": {
       "model_id": "c24019173d2347d79ee19dc7c5a5df7f",
       "version_major": 2,
       "version_minor": 0
      },
      "text/plain": [
       "Train Batch:   0%|          | 0/591 [00:00<?, ?it/s]"
      ]
     },
     "metadata": {},
     "output_type": "display_data"
    },
    {
     "name": "stdout",
     "output_type": "stream",
     "text": [
      "train Loss: 1.2083 Acc: 0.7183\n"
     ]
    },
    {
     "data": {
      "application/vnd.jupyter.widget-view+json": {
       "model_id": "2462c9bbdbed48e9be87bc847ae7be82",
       "version_major": 2,
       "version_minor": 0
      },
      "text/plain": [
       "Val Batch:   0%|          | 0/127 [00:00<?, ?it/s]"
      ]
     },
     "metadata": {},
     "output_type": "display_data"
    },
    {
     "name": "stdout",
     "output_type": "stream",
     "text": [
      "val Loss: 1.6349 Acc: 0.6331\n",
      "\n",
      "Epoch 3/5\n",
      "----------\n"
     ]
    },
    {
     "data": {
      "application/vnd.jupyter.widget-view+json": {
       "model_id": "c0356b3ff5e94554af4b25417a04e7d5",
       "version_major": 2,
       "version_minor": 0
      },
      "text/plain": [
       "Train Batch:   0%|          | 0/591 [00:00<?, ?it/s]"
      ]
     },
     "metadata": {},
     "output_type": "display_data"
    },
    {
     "name": "stdout",
     "output_type": "stream",
     "text": [
      "train Loss: 1.2032 Acc: 0.7229\n"
     ]
    },
    {
     "data": {
      "application/vnd.jupyter.widget-view+json": {
       "model_id": "8160769684d049a1bec6825941baa663",
       "version_major": 2,
       "version_minor": 0
      },
      "text/plain": [
       "Val Batch:   0%|          | 0/127 [00:00<?, ?it/s]"
      ]
     },
     "metadata": {},
     "output_type": "display_data"
    },
    {
     "name": "stdout",
     "output_type": "stream",
     "text": [
      "val Loss: 1.1711 Acc: 0.6983\n",
      "\n",
      "Epoch 4/5\n",
      "----------\n"
     ]
    },
    {
     "data": {
      "application/vnd.jupyter.widget-view+json": {
       "model_id": "80135c7e383747159094e36f64a4025e",
       "version_major": 2,
       "version_minor": 0
      },
      "text/plain": [
       "Train Batch:   0%|          | 0/591 [00:00<?, ?it/s]"
      ]
     },
     "metadata": {},
     "output_type": "display_data"
    },
    {
     "name": "stdout",
     "output_type": "stream",
     "text": [
      "train Loss: 1.2279 Acc: 0.7194\n"
     ]
    },
    {
     "data": {
      "application/vnd.jupyter.widget-view+json": {
       "model_id": "b14a20ac82054d12beda154a8977543c",
       "version_major": 2,
       "version_minor": 0
      },
      "text/plain": [
       "Val Batch:   0%|          | 0/127 [00:00<?, ?it/s]"
      ]
     },
     "metadata": {},
     "output_type": "display_data"
    },
    {
     "name": "stdout",
     "output_type": "stream",
     "text": [
      "val Loss: 1.0909 Acc: 0.7590\n",
      "\n",
      "Epoch 5/5\n",
      "----------\n"
     ]
    },
    {
     "data": {
      "application/vnd.jupyter.widget-view+json": {
       "model_id": "3456f7c4ab0d49329ae690176eccf924",
       "version_major": 2,
       "version_minor": 0
      },
      "text/plain": [
       "Train Batch:   0%|          | 0/591 [00:00<?, ?it/s]"
      ]
     },
     "metadata": {},
     "output_type": "display_data"
    },
    {
     "name": "stdout",
     "output_type": "stream",
     "text": [
      "train Loss: 0.9609 Acc: 0.7549\n"
     ]
    },
    {
     "data": {
      "application/vnd.jupyter.widget-view+json": {
       "model_id": "a991db8018ce4af282b392f7c74d3a5a",
       "version_major": 2,
       "version_minor": 0
      },
      "text/plain": [
       "Val Batch:   0%|          | 0/127 [00:00<?, ?it/s]"
      ]
     },
     "metadata": {},
     "output_type": "display_data"
    },
    {
     "name": "stdout",
     "output_type": "stream",
     "text": [
      "val Loss: 0.7687 Acc: 0.8002\n",
      "\n",
      "Training complete in 6m 17s\n",
      "Best validation accuracy: 0.8002\n",
      "Stage 0 completed. Validation accuracy: 0.8002\n",
      "\n",
      "==================== Stage 1: Unfreezing more layers ====================\n",
      "Unfrozen layers: fc\n",
      "Unfrozen layers: fc, layer4\n",
      "Trainable parameters: 8,398,858 / 11,181,642 (75.11%)\n",
      "Learning rate for stage 1: 0.002\n",
      "Epoch 1/5\n",
      "----------\n"
     ]
    },
    {
     "data": {
      "application/vnd.jupyter.widget-view+json": {
       "model_id": "3c6780eeb6d84acfb40510a979a54640",
       "version_major": 2,
       "version_minor": 0
      },
      "text/plain": [
       "Train Batch:   0%|          | 0/591 [00:00<?, ?it/s]"
      ]
     },
     "metadata": {},
     "output_type": "display_data"
    },
    {
     "name": "stdout",
     "output_type": "stream",
     "text": [
      "train Loss: 0.7049 Acc: 0.8162\n"
     ]
    },
    {
     "data": {
      "application/vnd.jupyter.widget-view+json": {
       "model_id": "dfc6686bc6e64180a4d277645fed3a29",
       "version_major": 2,
       "version_minor": 0
      },
      "text/plain": [
       "Val Batch:   0%|          | 0/127 [00:00<?, ?it/s]"
      ]
     },
     "metadata": {},
     "output_type": "display_data"
    },
    {
     "name": "stdout",
     "output_type": "stream",
     "text": [
      "val Loss: 0.3833 Acc: 0.8625\n",
      "\n",
      "Epoch 2/5\n",
      "----------\n"
     ]
    },
    {
     "data": {
      "application/vnd.jupyter.widget-view+json": {
       "model_id": "466dff64efc74eb694a865c983edf406",
       "version_major": 2,
       "version_minor": 0
      },
      "text/plain": [
       "Train Batch:   0%|          | 0/591 [00:00<?, ?it/s]"
      ]
     },
     "metadata": {},
     "output_type": "display_data"
    },
    {
     "name": "stdout",
     "output_type": "stream",
     "text": [
      "train Loss: 0.3493 Acc: 0.8875\n"
     ]
    },
    {
     "data": {
      "application/vnd.jupyter.widget-view+json": {
       "model_id": "a56afec3c8fa4eddaf1f68aa2197861c",
       "version_major": 2,
       "version_minor": 0
      },
      "text/plain": [
       "Val Batch:   0%|          | 0/127 [00:00<?, ?it/s]"
      ]
     },
     "metadata": {},
     "output_type": "display_data"
    },
    {
     "name": "stdout",
     "output_type": "stream",
     "text": [
      "val Loss: 0.2323 Acc: 0.9198\n",
      "\n",
      "Epoch 3/5\n",
      "----------\n"
     ]
    },
    {
     "data": {
      "application/vnd.jupyter.widget-view+json": {
       "model_id": "c1c4b02b66e94549af8d1cb730a97b7d",
       "version_major": 2,
       "version_minor": 0
      },
      "text/plain": [
       "Train Batch:   0%|          | 0/591 [00:00<?, ?it/s]"
      ]
     },
     "metadata": {},
     "output_type": "display_data"
    },
    {
     "name": "stdout",
     "output_type": "stream",
     "text": [
      "train Loss: 0.2947 Acc: 0.8980\n"
     ]
    },
    {
     "data": {
      "application/vnd.jupyter.widget-view+json": {
       "model_id": "85d17343e5a142b69456d334512b1348",
       "version_major": 2,
       "version_minor": 0
      },
      "text/plain": [
       "Val Batch:   0%|          | 0/127 [00:00<?, ?it/s]"
      ]
     },
     "metadata": {},
     "output_type": "display_data"
    },
    {
     "name": "stdout",
     "output_type": "stream",
     "text": [
      "val Loss: 0.2235 Acc: 0.9240\n",
      "\n",
      "Epoch 4/5\n",
      "----------\n"
     ]
    },
    {
     "data": {
      "application/vnd.jupyter.widget-view+json": {
       "model_id": "ffb399aec06a40f0802bf235325c000f",
       "version_major": 2,
       "version_minor": 0
      },
      "text/plain": [
       "Train Batch:   0%|          | 0/591 [00:00<?, ?it/s]"
      ]
     },
     "metadata": {},
     "output_type": "display_data"
    },
    {
     "name": "stdout",
     "output_type": "stream",
     "text": [
      "train Loss: 0.2576 Acc: 0.9142\n"
     ]
    },
    {
     "data": {
      "application/vnd.jupyter.widget-view+json": {
       "model_id": "e1cb15836697441baed58ad17d160a8f",
       "version_major": 2,
       "version_minor": 0
      },
      "text/plain": [
       "Val Batch:   0%|          | 0/127 [00:00<?, ?it/s]"
      ]
     },
     "metadata": {},
     "output_type": "display_data"
    },
    {
     "name": "stdout",
     "output_type": "stream",
     "text": [
      "val Loss: 0.1927 Acc: 0.9368\n",
      "\n",
      "Epoch 5/5\n",
      "----------\n"
     ]
    },
    {
     "data": {
      "application/vnd.jupyter.widget-view+json": {
       "model_id": "78987087295d48c487104951fae34617",
       "version_major": 2,
       "version_minor": 0
      },
      "text/plain": [
       "Train Batch:   0%|          | 0/591 [00:00<?, ?it/s]"
      ]
     },
     "metadata": {},
     "output_type": "display_data"
    },
    {
     "name": "stdout",
     "output_type": "stream",
     "text": [
      "train Loss: 0.2545 Acc: 0.9133\n"
     ]
    },
    {
     "data": {
      "application/vnd.jupyter.widget-view+json": {
       "model_id": "269021f553ce425e81efad5b340ef67e",
       "version_major": 2,
       "version_minor": 0
      },
      "text/plain": [
       "Val Batch:   0%|          | 0/127 [00:00<?, ?it/s]"
      ]
     },
     "metadata": {},
     "output_type": "display_data"
    },
    {
     "name": "stdout",
     "output_type": "stream",
     "text": [
      "val Loss: 0.1795 Acc: 0.9375\n",
      "\n",
      "Training complete in 14m 3s\n",
      "Best validation accuracy: 0.9375\n",
      "Stage 1 completed. Validation accuracy: 0.9375\n",
      "\n",
      "==================== Stage 2: Unfreezing more layers ====================\n",
      "Unfrozen layers: fc\n",
      "Unfrozen layers: fc, layer4\n",
      "Unfrozen layers: fc, layer4, layer3\n",
      "Trainable parameters: 10,498,570 / 11,181,642 (93.89%)\n",
      "Learning rate for stage 2: 0.0004\n",
      "Epoch 1/5\n",
      "----------\n"
     ]
    },
    {
     "data": {
      "application/vnd.jupyter.widget-view+json": {
       "model_id": "fe6199faf9f4400d85909034563f36b5",
       "version_major": 2,
       "version_minor": 0
      },
      "text/plain": [
       "Train Batch:   0%|          | 0/591 [00:00<?, ?it/s]"
      ]
     },
     "metadata": {},
     "output_type": "display_data"
    },
    {
     "name": "stdout",
     "output_type": "stream",
     "text": [
      "train Loss: 0.1998 Acc: 0.9311\n"
     ]
    },
    {
     "data": {
      "application/vnd.jupyter.widget-view+json": {
       "model_id": "54c6de1c26204167b9fde6174d11a254",
       "version_major": 2,
       "version_minor": 0
      },
      "text/plain": [
       "Val Batch:   0%|          | 0/127 [00:00<?, ?it/s]"
      ]
     },
     "metadata": {},
     "output_type": "display_data"
    },
    {
     "name": "stdout",
     "output_type": "stream",
     "text": [
      "val Loss: 0.1503 Acc: 0.9481\n",
      "\n",
      "Epoch 2/5\n",
      "----------\n"
     ]
    },
    {
     "data": {
      "application/vnd.jupyter.widget-view+json": {
       "model_id": "a62f1e86b03c442dbf06283ae617d373",
       "version_major": 2,
       "version_minor": 0
      },
      "text/plain": [
       "Train Batch:   0%|          | 0/591 [00:00<?, ?it/s]"
      ]
     },
     "metadata": {},
     "output_type": "display_data"
    },
    {
     "name": "stdout",
     "output_type": "stream",
     "text": [
      "train Loss: 0.1787 Acc: 0.9362\n"
     ]
    },
    {
     "data": {
      "application/vnd.jupyter.widget-view+json": {
       "model_id": "aa9d7a294a874f76b34a94da9a21fcbb",
       "version_major": 2,
       "version_minor": 0
      },
      "text/plain": [
       "Val Batch:   0%|          | 0/127 [00:00<?, ?it/s]"
      ]
     },
     "metadata": {},
     "output_type": "display_data"
    },
    {
     "name": "stdout",
     "output_type": "stream",
     "text": [
      "val Loss: 0.1406 Acc: 0.9506\n",
      "\n",
      "Epoch 3/5\n",
      "----------\n"
     ]
    },
    {
     "data": {
      "application/vnd.jupyter.widget-view+json": {
       "model_id": "bb0c89d13bcd4612b7c1cd43f2e37247",
       "version_major": 2,
       "version_minor": 0
      },
      "text/plain": [
       "Train Batch:   0%|          | 0/591 [00:00<?, ?it/s]"
      ]
     },
     "metadata": {},
     "output_type": "display_data"
    },
    {
     "name": "stdout",
     "output_type": "stream",
     "text": [
      "train Loss: 0.1709 Acc: 0.9413\n"
     ]
    },
    {
     "data": {
      "application/vnd.jupyter.widget-view+json": {
       "model_id": "3b4cb9f0060c4625a8da8508a9b0c18b",
       "version_major": 2,
       "version_minor": 0
      },
      "text/plain": [
       "Val Batch:   0%|          | 0/127 [00:00<?, ?it/s]"
      ]
     },
     "metadata": {},
     "output_type": "display_data"
    },
    {
     "name": "stdout",
     "output_type": "stream",
     "text": [
      "val Loss: 0.1383 Acc: 0.9514\n",
      "\n",
      "Epoch 4/5\n",
      "----------\n"
     ]
    },
    {
     "data": {
      "application/vnd.jupyter.widget-view+json": {
       "model_id": "febe5ca30fd74133876e20e9b914faa1",
       "version_major": 2,
       "version_minor": 0
      },
      "text/plain": [
       "Train Batch:   0%|          | 0/591 [00:00<?, ?it/s]"
      ]
     },
     "metadata": {},
     "output_type": "display_data"
    },
    {
     "name": "stdout",
     "output_type": "stream",
     "text": [
      "train Loss: 0.1549 Acc: 0.9453\n"
     ]
    },
    {
     "data": {
      "application/vnd.jupyter.widget-view+json": {
       "model_id": "cce7f0875c8448f09ea153c0af559c7a",
       "version_major": 2,
       "version_minor": 0
      },
      "text/plain": [
       "Val Batch:   0%|          | 0/127 [00:00<?, ?it/s]"
      ]
     },
     "metadata": {},
     "output_type": "display_data"
    },
    {
     "name": "stdout",
     "output_type": "stream",
     "text": [
      "val Loss: 0.1324 Acc: 0.9536\n",
      "\n",
      "Epoch 5/5\n",
      "----------\n"
     ]
    },
    {
     "data": {
      "application/vnd.jupyter.widget-view+json": {
       "model_id": "f68170d334bc4714a12d0568c0fe31da",
       "version_major": 2,
       "version_minor": 0
      },
      "text/plain": [
       "Train Batch:   0%|          | 0/591 [00:00<?, ?it/s]"
      ]
     },
     "metadata": {},
     "output_type": "display_data"
    },
    {
     "name": "stdout",
     "output_type": "stream",
     "text": [
      "train Loss: 0.1430 Acc: 0.9501\n"
     ]
    },
    {
     "data": {
      "application/vnd.jupyter.widget-view+json": {
       "model_id": "88d96c982f5c4ab19d0eae60008d58c1",
       "version_major": 2,
       "version_minor": 0
      },
      "text/plain": [
       "Val Batch:   0%|          | 0/127 [00:00<?, ?it/s]"
      ]
     },
     "metadata": {},
     "output_type": "display_data"
    },
    {
     "name": "stdout",
     "output_type": "stream",
     "text": [
      "val Loss: 0.1349 Acc: 0.9541\n",
      "\n",
      "Training complete in 15m 16s\n",
      "Best validation accuracy: 0.9541\n",
      "Stage 2 completed. Validation accuracy: 0.9541\n",
      "\n",
      "==================== Stage 3: Unfreezing more layers ====================\n",
      "Unfrozen layers: fc\n",
      "Unfrozen layers: fc, layer4\n",
      "Unfrozen layers: fc, layer4, layer3\n",
      "Unfrozen layers: fc, layer4, layer3, layer2\n",
      "Trainable parameters: 11,024,138 / 11,181,642 (98.59%)\n",
      "Learning rate for stage 3: 8e-05\n",
      "Epoch 1/5\n",
      "----------\n"
     ]
    },
    {
     "data": {
      "application/vnd.jupyter.widget-view+json": {
       "model_id": "6d7713fd87aa4c479a54a0c9c102a9fe",
       "version_major": 2,
       "version_minor": 0
      },
      "text/plain": [
       "Train Batch:   0%|          | 0/591 [00:00<?, ?it/s]"
      ]
     },
     "metadata": {},
     "output_type": "display_data"
    },
    {
     "name": "stdout",
     "output_type": "stream",
     "text": [
      "train Loss: 0.1415 Acc: 0.9496\n"
     ]
    },
    {
     "data": {
      "application/vnd.jupyter.widget-view+json": {
       "model_id": "8093db64d2434f59a9f638b979be5e1b",
       "version_major": 2,
       "version_minor": 0
      },
      "text/plain": [
       "Val Batch:   0%|          | 0/127 [00:00<?, ?it/s]"
      ]
     },
     "metadata": {},
     "output_type": "display_data"
    },
    {
     "name": "stdout",
     "output_type": "stream",
     "text": [
      "val Loss: 0.1267 Acc: 0.9563\n",
      "\n",
      "Epoch 2/5\n",
      "----------\n"
     ]
    },
    {
     "data": {
      "application/vnd.jupyter.widget-view+json": {
       "model_id": "706555bd3d7942e39db9b04ca70ec4c9",
       "version_major": 2,
       "version_minor": 0
      },
      "text/plain": [
       "Train Batch:   0%|          | 0/591 [00:00<?, ?it/s]"
      ]
     },
     "metadata": {},
     "output_type": "display_data"
    },
    {
     "name": "stdout",
     "output_type": "stream",
     "text": [
      "train Loss: 0.1414 Acc: 0.9502\n"
     ]
    },
    {
     "data": {
      "application/vnd.jupyter.widget-view+json": {
       "model_id": "3caa1c85c41848298edadb0ebb7af6bf",
       "version_major": 2,
       "version_minor": 0
      },
      "text/plain": [
       "Val Batch:   0%|          | 0/127 [00:00<?, ?it/s]"
      ]
     },
     "metadata": {},
     "output_type": "display_data"
    },
    {
     "name": "stdout",
     "output_type": "stream",
     "text": [
      "val Loss: 0.1222 Acc: 0.9565\n",
      "\n",
      "Epoch 3/5\n",
      "----------\n"
     ]
    },
    {
     "data": {
      "application/vnd.jupyter.widget-view+json": {
       "model_id": "72faebc5b29b4e0ca3a4477aa7af3039",
       "version_major": 2,
       "version_minor": 0
      },
      "text/plain": [
       "Train Batch:   0%|          | 0/591 [00:00<?, ?it/s]"
      ]
     },
     "metadata": {},
     "output_type": "display_data"
    },
    {
     "name": "stdout",
     "output_type": "stream",
     "text": [
      "train Loss: 0.1303 Acc: 0.9551\n"
     ]
    },
    {
     "data": {
      "application/vnd.jupyter.widget-view+json": {
       "model_id": "840cd9f54dd6404f8a964e38762b85da",
       "version_major": 2,
       "version_minor": 0
      },
      "text/plain": [
       "Val Batch:   0%|          | 0/127 [00:00<?, ?it/s]"
      ]
     },
     "metadata": {},
     "output_type": "display_data"
    },
    {
     "name": "stdout",
     "output_type": "stream",
     "text": [
      "val Loss: 0.1191 Acc: 0.9588\n",
      "\n",
      "Epoch 4/5\n",
      "----------\n"
     ]
    },
    {
     "data": {
      "application/vnd.jupyter.widget-view+json": {
       "model_id": "d1010e5527974f088e258d09c02689e6",
       "version_major": 2,
       "version_minor": 0
      },
      "text/plain": [
       "Train Batch:   0%|          | 0/591 [00:00<?, ?it/s]"
      ]
     },
     "metadata": {},
     "output_type": "display_data"
    },
    {
     "name": "stdout",
     "output_type": "stream",
     "text": [
      "train Loss: 0.1296 Acc: 0.9565\n"
     ]
    },
    {
     "data": {
      "application/vnd.jupyter.widget-view+json": {
       "model_id": "ead739dda88d4a3cb633e58c6c539d2d",
       "version_major": 2,
       "version_minor": 0
      },
      "text/plain": [
       "Val Batch:   0%|          | 0/127 [00:00<?, ?it/s]"
      ]
     },
     "metadata": {},
     "output_type": "display_data"
    },
    {
     "name": "stdout",
     "output_type": "stream",
     "text": [
      "val Loss: 0.1193 Acc: 0.9568\n",
      "\n",
      "Epoch 5/5\n",
      "----------\n"
     ]
    },
    {
     "data": {
      "application/vnd.jupyter.widget-view+json": {
       "model_id": "df5ad66e71594a0a8c4859f744ac39e8",
       "version_major": 2,
       "version_minor": 0
      },
      "text/plain": [
       "Train Batch:   0%|          | 0/591 [00:00<?, ?it/s]"
      ]
     },
     "metadata": {},
     "output_type": "display_data"
    },
    {
     "name": "stdout",
     "output_type": "stream",
     "text": [
      "train Loss: 0.1203 Acc: 0.9596\n"
     ]
    },
    {
     "data": {
      "application/vnd.jupyter.widget-view+json": {
       "model_id": "e8208d8077fe4312958ecd961848a0a3",
       "version_major": 2,
       "version_minor": 0
      },
      "text/plain": [
       "Val Batch:   0%|          | 0/127 [00:00<?, ?it/s]"
      ]
     },
     "metadata": {},
     "output_type": "display_data"
    },
    {
     "name": "stdout",
     "output_type": "stream",
     "text": [
      "val Loss: 0.1181 Acc: 0.9590\n",
      "\n",
      "Training complete in 18m 1s\n",
      "Best validation accuracy: 0.9590\n",
      "Stage 3 completed. Validation accuracy: 0.9590\n",
      "\n",
      "==================== Stage 4: Unfreezing more layers ====================\n",
      "Unfrozen layers: fc\n",
      "Unfrozen layers: fc, layer4\n",
      "Unfrozen layers: fc, layer4, layer3\n",
      "Unfrozen layers: fc, layer4, layer3, layer2\n",
      "Unfrozen layers: fc, layer4, layer3, layer2, layer1\n",
      "Trainable parameters: 11,172,106 / 11,181,642 (99.91%)\n",
      "Learning rate for stage 4: 1.6e-05\n",
      "Epoch 1/5\n",
      "----------\n"
     ]
    },
    {
     "data": {
      "application/vnd.jupyter.widget-view+json": {
       "model_id": "ffc8a396513e4726948d4982e1203a99",
       "version_major": 2,
       "version_minor": 0
      },
      "text/plain": [
       "Train Batch:   0%|          | 0/591 [00:00<?, ?it/s]"
      ]
     },
     "metadata": {},
     "output_type": "display_data"
    },
    {
     "name": "stdout",
     "output_type": "stream",
     "text": [
      "train Loss: 0.1267 Acc: 0.9558\n"
     ]
    },
    {
     "data": {
      "application/vnd.jupyter.widget-view+json": {
       "model_id": "87614d806a46436fa085f440170fea66",
       "version_major": 2,
       "version_minor": 0
      },
      "text/plain": [
       "Val Batch:   0%|          | 0/127 [00:00<?, ?it/s]"
      ]
     },
     "metadata": {},
     "output_type": "display_data"
    },
    {
     "name": "stdout",
     "output_type": "stream",
     "text": [
      "val Loss: 0.1160 Acc: 0.9598\n",
      "\n",
      "Epoch 2/5\n",
      "----------\n"
     ]
    },
    {
     "data": {
      "application/vnd.jupyter.widget-view+json": {
       "model_id": "62e3e1aa89c54b78aa66c5b0714769a0",
       "version_major": 2,
       "version_minor": 0
      },
      "text/plain": [
       "Train Batch:   0%|          | 0/591 [00:00<?, ?it/s]"
      ]
     },
     "metadata": {},
     "output_type": "display_data"
    },
    {
     "name": "stdout",
     "output_type": "stream",
     "text": [
      "train Loss: 0.1228 Acc: 0.9561\n"
     ]
    },
    {
     "data": {
      "application/vnd.jupyter.widget-view+json": {
       "model_id": "31b6d402eec944c48baeeb8cc2bb3a20",
       "version_major": 2,
       "version_minor": 0
      },
      "text/plain": [
       "Val Batch:   0%|          | 0/127 [00:00<?, ?it/s]"
      ]
     },
     "metadata": {},
     "output_type": "display_data"
    },
    {
     "name": "stdout",
     "output_type": "stream",
     "text": [
      "val Loss: 0.1135 Acc: 0.9607\n",
      "\n",
      "Epoch 3/5\n",
      "----------\n"
     ]
    },
    {
     "data": {
      "application/vnd.jupyter.widget-view+json": {
       "model_id": "c4d3a69fff7c43ad98a9a7361de8719b",
       "version_major": 2,
       "version_minor": 0
      },
      "text/plain": [
       "Train Batch:   0%|          | 0/591 [00:00<?, ?it/s]"
      ]
     },
     "metadata": {},
     "output_type": "display_data"
    },
    {
     "name": "stdout",
     "output_type": "stream",
     "text": [
      "train Loss: 0.1166 Acc: 0.9587\n"
     ]
    },
    {
     "data": {
      "application/vnd.jupyter.widget-view+json": {
       "model_id": "f6631fb27c994e0e8cd5035a193d98ed",
       "version_major": 2,
       "version_minor": 0
      },
      "text/plain": [
       "Val Batch:   0%|          | 0/127 [00:00<?, ?it/s]"
      ]
     },
     "metadata": {},
     "output_type": "display_data"
    },
    {
     "name": "stdout",
     "output_type": "stream",
     "text": [
      "val Loss: 0.1145 Acc: 0.9612\n",
      "\n",
      "Epoch 4/5\n",
      "----------\n"
     ]
    },
    {
     "data": {
      "application/vnd.jupyter.widget-view+json": {
       "model_id": "81f483db4d5346fd908abdb7c3d2aa79",
       "version_major": 2,
       "version_minor": 0
      },
      "text/plain": [
       "Train Batch:   0%|          | 0/591 [00:00<?, ?it/s]"
      ]
     },
     "metadata": {},
     "output_type": "display_data"
    },
    {
     "name": "stdout",
     "output_type": "stream",
     "text": [
      "train Loss: 0.1185 Acc: 0.9593\n"
     ]
    },
    {
     "data": {
      "application/vnd.jupyter.widget-view+json": {
       "model_id": "9b46236920934debbbca083b94e0e066",
       "version_major": 2,
       "version_minor": 0
      },
      "text/plain": [
       "Val Batch:   0%|          | 0/127 [00:00<?, ?it/s]"
      ]
     },
     "metadata": {},
     "output_type": "display_data"
    },
    {
     "name": "stdout",
     "output_type": "stream",
     "text": [
      "val Loss: 0.1153 Acc: 0.9590\n",
      "\n",
      "Epoch 5/5\n",
      "----------\n"
     ]
    },
    {
     "data": {
      "application/vnd.jupyter.widget-view+json": {
       "model_id": "cc9e321f314143de8e3861383ee123b6",
       "version_major": 2,
       "version_minor": 0
      },
      "text/plain": [
       "Train Batch:   0%|          | 0/591 [00:00<?, ?it/s]"
      ]
     },
     "metadata": {},
     "output_type": "display_data"
    },
    {
     "name": "stdout",
     "output_type": "stream",
     "text": [
      "train Loss: 0.1188 Acc: 0.9578\n"
     ]
    },
    {
     "data": {
      "application/vnd.jupyter.widget-view+json": {
       "model_id": "1e5a798bb121442d8d0594da075dd9bd",
       "version_major": 2,
       "version_minor": 0
      },
      "text/plain": [
       "Val Batch:   0%|          | 0/127 [00:00<?, ?it/s]"
      ]
     },
     "metadata": {},
     "output_type": "display_data"
    },
    {
     "name": "stdout",
     "output_type": "stream",
     "text": [
      "val Loss: 0.1170 Acc: 0.9588\n",
      "\n",
      "Training complete in 18m 7s\n",
      "Best validation accuracy: 0.9612\n",
      "Stage 4 completed. Validation accuracy: 0.9588\n",
      "\n",
      "{'='*20} Final Evaluation {'='*20}\n"
     ]
    },
    {
     "data": {
      "application/vnd.jupyter.widget-view+json": {
       "model_id": "944f3bc1e34740439f348275d109e26b",
       "version_major": 2,
       "version_minor": 0
      },
      "text/plain": [
       "Evaluating:   0%|          | 0/127 [00:00<?, ?it/s]"
      ]
     },
     "metadata": {},
     "output_type": "display_data"
    },
    {
     "name": "stdout",
     "output_type": "stream",
     "text": [
      "Test Loss: 0.1193\n",
      "Test Accuracy: 0.9568\n"
     ]
    },
    {
     "data": {
      "image/png": "[encoded data removed]",
      "text/plain": [
       "<Figure size 1200x1000 with 2 Axes>"
      ]
     },
     "metadata": {},
     "output_type": "display_data"
    },
    {
     "name": "stdout",
     "output_type": "stream",
     "text": [
      "Classification Report:\n",
      "                      precision    recall  f1-score   support\n",
      "\n",
      "          AnnualCrop     0.9493    0.9513    0.9503       472\n",
      "              Forest     0.9710    0.9864    0.9787       442\n",
      "HerbaceousVegetation     0.9665    0.9454    0.9558       458\n",
      "             Highway     0.9316    0.9054    0.9183       391\n",
      "          Industrial     0.9681    0.9630    0.9655       378\n",
      "             Pasture     0.9426    0.9331    0.9378       299\n",
      "       PermanentCrop     0.9597    0.9420    0.9507       379\n",
      "         Residential     0.9736    0.9844    0.9790       450\n",
      "               River     0.9182    0.9573    0.9373       375\n",
      "             SeaLake     0.9780    0.9877    0.9828       406\n",
      "\n",
      "            accuracy                         0.9568      4050\n",
      "           macro avg     0.9559    0.9556    0.9556      4050\n",
      "        weighted avg     0.9568    0.9568    0.9567      4050\n",
      "\n"
     ]
    },
    {
     "data": {
      "image/png": "[encoded data removed]",
      "text/plain": [
       "<Figure size 1500x1000 with 4 Axes>"
      ]
     },
     "metadata": {},
     "output_type": "display_data"
    },
    {
     "data": {
      "image/png": "[encoded data removed]",
      "text/plain": [
       "<Figure size 1000x600 with 1 Axes>"
      ]
     },
     "metadata": {},
     "output_type": "display_data"
    },
    {
     "name": "stdout",
     "output_type": "stream",
     "text": [
      "Model saved to ../models\\resnet18_progressive_20250407_1420.pth\n",
      "Results saved to ../results\\resnet18_progressive_results_20250407_1420.json\n",
      "Final test accuracy: 0.9568\n",
      "\n",
      "\n",
      "{'='*20} COMPARING TRANSFER LEARNING APPROACHES {'='*20}\n",
      "\n",
      "Loading existing dataset splits...\n",
      "Dataset loaded with 18900 training, 4050 validation, and 4050 test images\n",
      "\n",
      "{'='*20} Approach 1: Frozen Backbone {'='*20}\n",
      "\n",
      "Epoch 1/15\n",
      "----------\n"
     ]
    },
    {
     "data": {
      "application/vnd.jupyter.widget-view+json": {
       "model_id": "5dea04be3b1442288634bccdcfc1260d",
       "version_major": 2,
       "version_minor": 0
      },
      "text/plain": [
       "Train Batch:   0%|          | 0/591 [00:00<?, ?it/s]"
      ]
     },
     "metadata": {},
     "output_type": "display_data"
    },
    {
     "name": "stdout",
     "output_type": "stream",
     "text": [
      "train Loss: 1.3482 Acc: 0.6710\n"
     ]
    },
    {
     "data": {
      "application/vnd.jupyter.widget-view+json": {
       "model_id": "116931e691324b1cb4528477214dec35",
       "version_major": 2,
       "version_minor": 0
      },
      "text/plain": [
       "Val Batch:   0%|          | 0/127 [00:00<?, ?it/s]"
      ]
     },
     "metadata": {},
     "output_type": "display_data"
    },
    {
     "name": "stdout",
     "output_type": "stream",
     "text": [
      "val Loss: 0.9851 Acc: 0.7622\n",
      "\n",
      "Epoch 2/15\n",
      "----------\n"
     ]
    },
    {
     "data": {
      "application/vnd.jupyter.widget-view+json": {
       "model_id": "adf8deeaa4764697958dbae8c0f6f5a9",
       "version_major": 2,
       "version_minor": 0
      },
      "text/plain": [
       "Train Batch:   0%|          | 0/591 [00:00<?, ?it/s]"
      ]
     },
     "metadata": {},
     "output_type": "display_data"
    },
    {
     "name": "stdout",
     "output_type": "stream",
     "text": [
      "train Loss: 1.5398 Acc: 0.6925\n"
     ]
    },
    {
     "data": {
      "application/vnd.jupyter.widget-view+json": {
       "model_id": "d2495d714acf45219b99ea320ab25990",
       "version_major": 2,
       "version_minor": 0
      },
      "text/plain": [
       "Val Batch:   0%|          | 0/127 [00:00<?, ?it/s]"
      ]
     },
     "metadata": {},
     "output_type": "display_data"
    },
    {
     "name": "stdout",
     "output_type": "stream",
     "text": [
      "val Loss: 1.2504 Acc: 0.7427\n",
      "\n",
      "Epoch 3/15\n",
      "----------\n"
     ]
    },
    {
     "data": {
      "application/vnd.jupyter.widget-view+json": {
       "model_id": "a180cf4dcf424854ab9a44cf18da84be",
       "version_major": 2,
       "version_minor": 0
      },
      "text/plain": [
       "Train Batch:   0%|          | 0/591 [00:00<?, ?it/s]"
      ]
     },
     "metadata": {},
     "output_type": "display_data"
    },
    {
     "name": "stdout",
     "output_type": "stream",
     "text": [
      "train Loss: 1.5200 Acc: 0.7093\n"
     ]
    },
    {
     "data": {
      "application/vnd.jupyter.widget-view+json": {
       "model_id": "1b0e898ed789471590c6389aaed51c11",
       "version_major": 2,
       "version_minor": 0
      },
      "text/plain": [
       "Val Batch:   0%|          | 0/127 [00:00<?, ?it/s]"
      ]
     },
     "metadata": {},
     "output_type": "display_data"
    },
    {
     "name": "stdout",
     "output_type": "stream",
     "text": [
      "val Loss: 1.6090 Acc: 0.7284\n",
      "\n",
      "Epoch 4/15\n",
      "----------\n"
     ]
    },
    {
     "data": {
      "application/vnd.jupyter.widget-view+json": {
       "model_id": "2c4d9ddbc76d4042872bd1f00b366d08",
       "version_major": 2,
       "version_minor": 0
      },
      "text/plain": [
       "Train Batch:   0%|          | 0/591 [00:00<?, ?it/s]"
      ]
     },
     "metadata": {},
     "output_type": "display_data"
    },
    {
     "name": "stdout",
     "output_type": "stream",
     "text": [
      "train Loss: 1.5653 Acc: 0.7081\n"
     ]
    },
    {
     "data": {
      "application/vnd.jupyter.widget-view+json": {
       "model_id": "5daa5b58a0a940dda896be39485d9a38",
       "version_major": 2,
       "version_minor": 0
      },
      "text/plain": [
       "Val Batch:   0%|          | 0/127 [00:00<?, ?it/s]"
      ]
     },
     "metadata": {},
     "output_type": "display_data"
    },
    {
     "name": "stdout",
     "output_type": "stream",
     "text": [
      "val Loss: 1.4116 Acc: 0.7180\n",
      "Early stopping triggered after 4 epochs\n",
      "Training complete in 5m 40s\n",
      "Best validation accuracy: 0.7622\n"
     ]
    },
    {
     "data": {
      "application/vnd.jupyter.widget-view+json": {
       "model_id": "ac2c0ee5c5494d509321d178d8b04d3a",
       "version_major": 2,
       "version_minor": 0
      },
      "text/plain": [
       "Evaluating:   0%|          | 0/127 [00:00<?, ?it/s]"
      ]
     },
     "metadata": {},
     "output_type": "display_data"
    },
    {
     "name": "stdout",
     "output_type": "stream",
     "text": [
      "Test Loss: 1.3238\n",
      "Test Accuracy: 0.7341\n",
      "\n",
      "{'='*20} Approach 2: Unfrozen Backbone {'='*20}\n",
      "\n",
      "Epoch 1/15\n",
      "----------\n"
     ]
    },
    {
     "data": {
      "application/vnd.jupyter.widget-view+json": {
       "model_id": "12be02ba9a6d4e08a507260a2831e632",
       "version_major": 2,
       "version_minor": 0
      },
      "text/plain": [
       "Train Batch:   0%|          | 0/591 [00:00<?, ?it/s]"
      ]
     },
     "metadata": {},
     "output_type": "display_data"
    },
    {
     "name": "stdout",
     "output_type": "stream",
     "text": [
      "train Loss: 0.6090 Acc: 0.8070\n"
     ]
    },
    {
     "data": {
      "application/vnd.jupyter.widget-view+json": {
       "model_id": "843310bbbc1241c38052f162d3a268c9",
       "version_major": 2,
       "version_minor": 0
      },
      "text/plain": [
       "Val Batch:   0%|          | 0/127 [00:00<?, ?it/s]"
      ]
     },
     "metadata": {},
     "output_type": "display_data"
    },
    {
     "name": "stdout",
     "output_type": "stream",
     "text": [
      "val Loss: 0.4966 Acc: 0.8370\n",
      "\n",
      "Epoch 2/15\n",
      "----------\n"
     ]
    },
    {
     "data": {
      "application/vnd.jupyter.widget-view+json": {
       "model_id": "39d46c856d1344d69d76a7857de28e56",
       "version_major": 2,
       "version_minor": 0
      },
      "text/plain": [
       "Train Batch:   0%|          | 0/591 [00:00<?, ?it/s]"
      ]
     },
     "metadata": {},
     "output_type": "display_data"
    },
    {
     "name": "stdout",
     "output_type": "stream",
     "text": [
      "train Loss: 0.3938 Acc: 0.8733\n"
     ]
    },
    {
     "data": {
      "application/vnd.jupyter.widget-view+json": {
       "model_id": "d9abbee6f1b24208a4d4bf81815a8f45",
       "version_major": 2,
       "version_minor": 0
      },
      "text/plain": [
       "Val Batch:   0%|          | 0/127 [00:00<?, ?it/s]"
      ]
     },
     "metadata": {},
     "output_type": "display_data"
    },
    {
     "name": "stdout",
     "output_type": "stream",
     "text": [
      "val Loss: 0.3275 Acc: 0.8906\n",
      "\n",
      "Epoch 3/15\n",
      "----------\n"
     ]
    },
    {
     "data": {
      "application/vnd.jupyter.widget-view+json": {
       "model_id": "a1310102583d4d14b8b15ad91b8ac67c",
       "version_major": 2,
       "version_minor": 0
      },
      "text/plain": [
       "Train Batch:   0%|          | 0/591 [00:00<?, ?it/s]"
      ]
     },
     "metadata": {},
     "output_type": "display_data"
    },
    {
     "name": "stdout",
     "output_type": "stream",
     "text": [
      "train Loss: 0.3073 Acc: 0.8981\n"
     ]
    },
    {
     "data": {
      "application/vnd.jupyter.widget-view+json": {
       "model_id": "406ff6f414ec4a5db8ffbf6d8deaa4d3",
       "version_major": 2,
       "version_minor": 0
      },
      "text/plain": [
       "Val Batch:   0%|          | 0/127 [00:00<?, ?it/s]"
      ]
     },
     "metadata": {},
     "output_type": "display_data"
    },
    {
     "name": "stdout",
     "output_type": "stream",
     "text": [
      "val Loss: 0.2025 Acc: 0.9356\n",
      "\n",
      "Epoch 4/15\n",
      "----------\n"
     ]
    },
    {
     "data": {
      "application/vnd.jupyter.widget-view+json": {
       "model_id": "7126c4d01f9444cd835500e6b84870ab",
       "version_major": 2,
       "version_minor": 0
      },
      "text/plain": [
       "Train Batch:   0%|          | 0/591 [00:00<?, ?it/s]"
      ]
     },
     "metadata": {},
     "output_type": "display_data"
    },
    {
     "name": "stdout",
     "output_type": "stream",
     "text": [
      "train Loss: 0.2933 Acc: 0.9043\n"
     ]
    },
    {
     "data": {
      "application/vnd.jupyter.widget-view+json": {
       "model_id": "ac21d031dfc04c9f856e747ac8b86380",
       "version_major": 2,
       "version_minor": 0
      },
      "text/plain": [
       "Val Batch:   0%|          | 0/127 [00:00<?, ?it/s]"
      ]
     },
     "metadata": {},
     "output_type": "display_data"
    },
    {
     "name": "stdout",
     "output_type": "stream",
     "text": [
      "val Loss: 0.1814 Acc: 0.9375\n",
      "\n",
      "Epoch 5/15\n",
      "----------\n"
     ]
    },
    {
     "data": {
      "application/vnd.jupyter.widget-view+json": {
       "model_id": "afbde27c6e954d70ae14f8e2a8b1b01e",
       "version_major": 2,
       "version_minor": 0
      },
      "text/plain": [
       "Train Batch:   0%|          | 0/591 [00:00<?, ?it/s]"
      ]
     },
     "metadata": {},
     "output_type": "display_data"
    },
    {
     "name": "stdout",
     "output_type": "stream",
     "text": [
      "train Loss: 0.2686 Acc: 0.9135\n"
     ]
    },
    {
     "data": {
      "application/vnd.jupyter.widget-view+json": {
       "model_id": "56c31ca35d4f4d5fbea4b0285754eb9e",
       "version_major": 2,
       "version_minor": 0
      },
      "text/plain": [
       "Val Batch:   0%|          | 0/127 [00:00<?, ?it/s]"
      ]
     },
     "metadata": {},
     "output_type": "display_data"
    },
    {
     "name": "stdout",
     "output_type": "stream",
     "text": [
      "val Loss: 0.3596 Acc: 0.8958\n",
      "\n",
      "Epoch 6/15\n",
      "----------\n"
     ]
    },
    {
     "data": {
      "application/vnd.jupyter.widget-view+json": {
       "model_id": "64e3a3c467c7402a98db05b1bc8601b8",
       "version_major": 2,
       "version_minor": 0
      },
      "text/plain": [
       "Train Batch:   0%|          | 0/591 [00:00<?, ?it/s]"
      ]
     },
     "metadata": {},
     "output_type": "display_data"
    },
    {
     "name": "stdout",
     "output_type": "stream",
     "text": [
      "train Loss: 0.2550 Acc: 0.9178\n"
     ]
    },
    {
     "data": {
      "application/vnd.jupyter.widget-view+json": {
       "model_id": "14bcca071f0a453ebfa55d50c77d34f0",
       "version_major": 2,
       "version_minor": 0
      },
      "text/plain": [
       "Val Batch:   0%|          | 0/127 [00:00<?, ?it/s]"
      ]
     },
     "metadata": {},
     "output_type": "display_data"
    },
    {
     "name": "stdout",
     "output_type": "stream",
     "text": [
      "val Loss: 0.1714 Acc: 0.9442\n",
      "\n",
      "Epoch 7/15\n",
      "----------\n"
     ]
    },
    {
     "data": {
      "application/vnd.jupyter.widget-view+json": {
       "model_id": "88df3f29aafc423b8ae92cdc58eff35a",
       "version_major": 2,
       "version_minor": 0
      },
      "text/plain": [
       "Train Batch:   0%|          | 0/591 [00:00<?, ?it/s]"
      ]
     },
     "metadata": {},
     "output_type": "display_data"
    },
    {
     "name": "stdout",
     "output_type": "stream",
     "text": [
      "train Loss: 0.2256 Acc: 0.9260\n"
     ]
    },
    {
     "data": {
      "application/vnd.jupyter.widget-view+json": {
       "model_id": "182c3cc422b340c6b71250a451745b02",
       "version_major": 2,
       "version_minor": 0
      },
      "text/plain": [
       "Val Batch:   0%|          | 0/127 [00:00<?, ?it/s]"
      ]
     },
     "metadata": {},
     "output_type": "display_data"
    },
    {
     "name": "stdout",
     "output_type": "stream",
     "text": [
      "val Loss: 0.2129 Acc: 0.9279\n",
      "\n",
      "Epoch 8/15\n",
      "----------\n"
     ]
    },
    {
     "data": {
      "application/vnd.jupyter.widget-view+json": {
       "model_id": "d2dc5b30c5ce42dc83c52183d1c4e26d",
       "version_major": 2,
       "version_minor": 0
      },
      "text/plain": [
       "Train Batch:   0%|          | 0/591 [00:00<?, ?it/s]"
      ]
     },
     "metadata": {},
     "output_type": "display_data"
    },
    {
     "name": "stdout",
     "output_type": "stream",
     "text": [
      "train Loss: 0.2112 Acc: 0.9302\n"
     ]
    },
    {
     "data": {
      "application/vnd.jupyter.widget-view+json": {
       "model_id": "19efefd36f4b4fdc8868b47ed947dbb6",
       "version_major": 2,
       "version_minor": 0
      },
      "text/plain": [
       "Val Batch:   0%|          | 0/127 [00:00<?, ?it/s]"
      ]
     },
     "metadata": {},
     "output_type": "display_data"
    },
    {
     "name": "stdout",
     "output_type": "stream",
     "text": [
      "val Loss: 0.1805 Acc: 0.9415\n",
      "\n",
      "Epoch 9/15\n",
      "----------\n"
     ]
    },
    {
     "data": {
      "application/vnd.jupyter.widget-view+json": {
       "model_id": "415363fc21894fa59acbb6df80087a53",
       "version_major": 2,
       "version_minor": 0
      },
      "text/plain": [
       "Train Batch:   0%|          | 0/591 [00:00<?, ?it/s]"
      ]
     },
     "metadata": {},
     "output_type": "display_data"
    },
    {
     "name": "stdout",
     "output_type": "stream",
     "text": [
      "train Loss: 0.1959 Acc: 0.9339\n"
     ]
    },
    {
     "data": {
      "application/vnd.jupyter.widget-view+json": {
       "model_id": "03994c325389483d8f105780122e1337",
       "version_major": 2,
       "version_minor": 0
      },
      "text/plain": [
       "Val Batch:   0%|          | 0/127 [00:00<?, ?it/s]"
      ]
     },
     "metadata": {},
     "output_type": "display_data"
    },
    {
     "name": "stdout",
     "output_type": "stream",
     "text": [
      "val Loss: 0.2190 Acc: 0.9272\n",
      "Early stopping triggered after 9 epochs\n",
      "Training complete in 42m 35s\n",
      "Best validation accuracy: 0.9442\n"
     ]
    },
    {
     "data": {
      "application/vnd.jupyter.widget-view+json": {
       "model_id": "d96bb231f367498784863831bc34419d",
       "version_major": 2,
       "version_minor": 0
      },
      "text/plain": [
       "Evaluating:   0%|          | 0/127 [00:00<?, ?it/s]"
      ]
     },
     "metadata": {},
     "output_type": "display_data"
    },
    {
     "name": "stdout",
     "output_type": "stream",
     "text": [
      "Test Loss: 0.2399\n",
      "Test Accuracy: 0.9264\n",
      "\n",
      "{'='*20} Approach 3: Progressive Unfreezing {'='*20}\n",
      "\n",
      "Loading existing dataset splits...\n",
      "Dataset loaded with 18900 training, 4050 validation, and 4050 test images\n",
      "\n",
      "==================== Stage 0: Unfreezing more layers ====================\n",
      "Unfrozen layers: fc\n",
      "Trainable parameters: 5,130 / 11,181,642 (0.05%)\n",
      "Learning rate for stage 0: 0.01\n",
      "Epoch 1/3\n",
      "----------\n"
     ]
    },
    {
     "data": {
      "application/vnd.jupyter.widget-view+json": {
       "model_id": "80e14a7aac25475d83b1a56f8a1d03e5",
       "version_major": 2,
       "version_minor": 0
      },
      "text/plain": [
       "Train Batch:   0%|          | 0/591 [00:00<?, ?it/s]"
      ]
     },
     "metadata": {},
     "output_type": "display_data"
    },
    {
     "name": "stdout",
     "output_type": "stream",
     "text": [
      "train Loss: 1.2398 Acc: 0.6774\n"
     ]
    },
    {
     "data": {
      "application/vnd.jupyter.widget-view+json": {
       "model_id": "a500a103f61c4452af0e28d41f2007ce",
       "version_major": 2,
       "version_minor": 0
      },
      "text/plain": [
       "Val Batch:   0%|          | 0/127 [00:00<?, ?it/s]"
      ]
     },
     "metadata": {},
     "output_type": "display_data"
    },
    {
     "name": "stdout",
     "output_type": "stream",
     "text": [
      "val Loss: 0.9524 Acc: 0.7637\n",
      "\n",
      "Epoch 2/3\n",
      "----------\n"
     ]
    },
    {
     "data": {
      "application/vnd.jupyter.widget-view+json": {
       "model_id": "b62e075e5b104d76af9e85177be76005",
       "version_major": 2,
       "version_minor": 0
      },
      "text/plain": [
       "Train Batch:   0%|          | 0/591 [00:00<?, ?it/s]"
      ]
     },
     "metadata": {},
     "output_type": "display_data"
    },
    {
     "name": "stdout",
     "output_type": "stream",
     "text": [
      "train Loss: 1.1956 Acc: 0.7163\n"
     ]
    },
    {
     "data": {
      "application/vnd.jupyter.widget-view+json": {
       "model_id": "9a99f81b4ebb4c43848b396dc86e7204",
       "version_major": 2,
       "version_minor": 0
      },
      "text/plain": [
       "Val Batch:   0%|          | 0/127 [00:00<?, ?it/s]"
      ]
     },
     "metadata": {},
     "output_type": "display_data"
    },
    {
     "name": "stdout",
     "output_type": "stream",
     "text": [
      "val Loss: 1.0251 Acc: 0.7501\n",
      "\n",
      "Epoch 3/3\n",
      "----------\n"
     ]
    },
    {
     "data": {
      "application/vnd.jupyter.widget-view+json": {
       "model_id": "e6e201fd2b5b4689ba53f40a5f002755",
       "version_major": 2,
       "version_minor": 0
      },
      "text/plain": [
       "Train Batch:   0%|          | 0/591 [00:00<?, ?it/s]"
      ]
     },
     "metadata": {},
     "output_type": "display_data"
    },
    {
     "name": "stdout",
     "output_type": "stream",
     "text": [
      "train Loss: 1.1994 Acc: 0.7198\n"
     ]
    },
    {
     "data": {
      "application/vnd.jupyter.widget-view+json": {
       "model_id": "dbd16a4f3af6419b8c86094ef5eb4f60",
       "version_major": 2,
       "version_minor": 0
      },
      "text/plain": [
       "Val Batch:   0%|          | 0/127 [00:00<?, ?it/s]"
      ]
     },
     "metadata": {},
     "output_type": "display_data"
    },
    {
     "name": "stdout",
     "output_type": "stream",
     "text": [
      "val Loss: 1.0199 Acc: 0.7568\n",
      "\n",
      "Training complete in 4m 7s\n",
      "Best validation accuracy: 0.7637\n",
      "Stage 0 completed. Validation accuracy: 0.7568\n",
      "\n",
      "==================== Stage 1: Unfreezing more layers ====================\n",
      "Unfrozen layers: fc\n",
      "Unfrozen layers: fc, layer4\n",
      "Trainable parameters: 8,398,858 / 11,181,642 (75.11%)\n",
      "Learning rate for stage 1: 0.002\n",
      "Epoch 1/3\n",
      "----------\n"
     ]
    },
    {
     "data": {
      "application/vnd.jupyter.widget-view+json": {
       "model_id": "8199f9be102344fe92503910388ccad7",
       "version_major": 2,
       "version_minor": 0
      },
      "text/plain": [
       "Train Batch:   0%|          | 0/591 [00:00<?, ?it/s]"
      ]
     },
     "metadata": {},
     "output_type": "display_data"
    },
    {
     "name": "stdout",
     "output_type": "stream",
     "text": [
      "train Loss: 0.6661 Acc: 0.8181\n"
     ]
    },
    {
     "data": {
      "application/vnd.jupyter.widget-view+json": {
       "model_id": "849d79b63a9d4032a2715b2717f7de8e",
       "version_major": 2,
       "version_minor": 0
      },
      "text/plain": [
       "Val Batch:   0%|          | 0/127 [00:00<?, ?it/s]"
      ]
     },
     "metadata": {},
     "output_type": "display_data"
    },
    {
     "name": "stdout",
     "output_type": "stream",
     "text": [
      "val Loss: 0.2528 Acc: 0.9156\n",
      "\n",
      "Epoch 2/3\n",
      "----------\n"
     ]
    },
    {
     "data": {
      "application/vnd.jupyter.widget-view+json": {
       "model_id": "fd2e212a52b44b698e953cf2f641b2b3",
       "version_major": 2,
       "version_minor": 0
      },
      "text/plain": [
       "Train Batch:   0%|          | 0/591 [00:00<?, ?it/s]"
      ]
     },
     "metadata": {},
     "output_type": "display_data"
    },
    {
     "name": "stdout",
     "output_type": "stream",
     "text": [
      "train Loss: 0.3437 Acc: 0.8833\n"
     ]
    },
    {
     "data": {
      "application/vnd.jupyter.widget-view+json": {
       "model_id": "3b7c3dd016424666bf222c425a7adb7d",
       "version_major": 2,
       "version_minor": 0
      },
      "text/plain": [
       "Val Batch:   0%|          | 0/127 [00:00<?, ?it/s]"
      ]
     },
     "metadata": {},
     "output_type": "display_data"
    },
    {
     "name": "stdout",
     "output_type": "stream",
     "text": [
      "val Loss: 0.2548 Acc: 0.9178\n",
      "\n",
      "Epoch 3/3\n",
      "----------\n"
     ]
    },
    {
     "data": {
      "application/vnd.jupyter.widget-view+json": {
       "model_id": "9e83d217faab4375a7fce31a5c6e44a3",
       "version_major": 2,
       "version_minor": 0
      },
      "text/plain": [
       "Train Batch:   0%|          | 0/591 [00:00<?, ?it/s]"
      ]
     },
     "metadata": {},
     "output_type": "display_data"
    },
    {
     "name": "stdout",
     "output_type": "stream",
     "text": [
      "train Loss: 0.2991 Acc: 0.8972\n"
     ]
    },
    {
     "data": {
      "application/vnd.jupyter.widget-view+json": {
       "model_id": "848d4230e2364c8c9e93f1487478e4f9",
       "version_major": 2,
       "version_minor": 0
      },
      "text/plain": [
       "Val Batch:   0%|          | 0/127 [00:00<?, ?it/s]"
      ]
     },
     "metadata": {},
     "output_type": "display_data"
    },
    {
     "name": "stdout",
     "output_type": "stream",
     "text": [
      "val Loss: 0.2014 Acc: 0.9274\n",
      "\n",
      "Training complete in 8m 52s\n",
      "Best validation accuracy: 0.9274\n",
      "Stage 1 completed. Validation accuracy: 0.9274\n",
      "\n",
      "==================== Stage 2: Unfreezing more layers ====================\n",
      "Unfrozen layers: fc\n",
      "Unfrozen layers: fc, layer4\n",
      "Unfrozen layers: fc, layer4, layer3\n",
      "Trainable parameters: 10,498,570 / 11,181,642 (93.89%)\n",
      "Learning rate for stage 2: 0.0004\n",
      "Epoch 1/3\n",
      "----------\n"
     ]
    },
    {
     "data": {
      "application/vnd.jupyter.widget-view+json": {
       "model_id": "a2e8d10414b94f98a102cbe4c5e5be98",
       "version_major": 2,
       "version_minor": 0
      },
      "text/plain": [
       "Train Batch:   0%|          | 0/591 [00:00<?, ?it/s]"
      ]
     },
     "metadata": {},
     "output_type": "display_data"
    },
    {
     "name": "stdout",
     "output_type": "stream",
     "text": [
      "train Loss: 0.2331 Acc: 0.9176\n"
     ]
    },
    {
     "data": {
      "application/vnd.jupyter.widget-view+json": {
       "model_id": "cc25a5f274ff4aa79ccaafc450665259",
       "version_major": 2,
       "version_minor": 0
      },
      "text/plain": [
       "Val Batch:   0%|          | 0/127 [00:00<?, ?it/s]"
      ]
     },
     "metadata": {},
     "output_type": "display_data"
    },
    {
     "name": "stdout",
     "output_type": "stream",
     "text": [
      "val Loss: 0.1664 Acc: 0.9420\n",
      "\n",
      "Epoch 2/3\n",
      "----------\n"
     ]
    },
    {
     "data": {
      "application/vnd.jupyter.widget-view+json": {
       "model_id": "ed3f2aa3a21a4c1292a65c2c3d1080fd",
       "version_major": 2,
       "version_minor": 0
      },
      "text/plain": [
       "Train Batch:   0%|          | 0/591 [00:00<?, ?it/s]"
      ]
     },
     "metadata": {},
     "output_type": "display_data"
    },
    {
     "name": "stdout",
     "output_type": "stream",
     "text": [
      "train Loss: 0.2043 Acc: 0.9282\n"
     ]
    },
    {
     "data": {
      "application/vnd.jupyter.widget-view+json": {
       "model_id": "42b3b1fff44c40eab6f526fe11f5533d",
       "version_major": 2,
       "version_minor": 0
      },
      "text/plain": [
       "Val Batch:   0%|          | 0/127 [00:00<?, ?it/s]"
      ]
     },
     "metadata": {},
     "output_type": "display_data"
    },
    {
     "name": "stdout",
     "output_type": "stream",
     "text": [
      "val Loss: 0.1509 Acc: 0.9481\n",
      "\n",
      "Epoch 3/3\n",
      "----------\n"
     ]
    },
    {
     "data": {
      "application/vnd.jupyter.widget-view+json": {
       "model_id": "db4bb672c65047e2a565f8404d1cb982",
       "version_major": 2,
       "version_minor": 0
      },
      "text/plain": [
       "Train Batch:   0%|          | 0/591 [00:00<?, ?it/s]"
      ]
     },
     "metadata": {},
     "output_type": "display_data"
    },
    {
     "name": "stdout",
     "output_type": "stream",
     "text": [
      "train Loss: 0.1899 Acc: 0.9324\n"
     ]
    },
    {
     "data": {
      "application/vnd.jupyter.widget-view+json": {
       "model_id": "570f64a7d0694e8194d0ac63d628728f",
       "version_major": 2,
       "version_minor": 0
      },
      "text/plain": [
       "Val Batch:   0%|          | 0/127 [00:00<?, ?it/s]"
      ]
     },
     "metadata": {},
     "output_type": "display_data"
    },
    {
     "name": "stdout",
     "output_type": "stream",
     "text": [
      "val Loss: 0.1431 Acc: 0.9489\n",
      "\n",
      "Training complete in 9m 45s\n",
      "Best validation accuracy: 0.9489\n",
      "Stage 2 completed. Validation accuracy: 0.9489\n",
      "\n",
      "==================== Stage 3: Unfreezing more layers ====================\n",
      "Unfrozen layers: fc\n",
      "Unfrozen layers: fc, layer4\n",
      "Unfrozen layers: fc, layer4, layer3\n",
      "Unfrozen layers: fc, layer4, layer3, layer2\n",
      "Trainable parameters: 11,024,138 / 11,181,642 (98.59%)\n",
      "Learning rate for stage 3: 8e-05\n",
      "Epoch 1/3\n",
      "----------\n"
     ]
    },
    {
     "data": {
      "application/vnd.jupyter.widget-view+json": {
       "model_id": "2df967858caf440e8c3445a58a323013",
       "version_major": 2,
       "version_minor": 0
      },
      "text/plain": [
       "Train Batch:   0%|          | 0/591 [00:00<?, ?it/s]"
      ]
     },
     "metadata": {},
     "output_type": "display_data"
    },
    {
     "name": "stdout",
     "output_type": "stream",
     "text": [
      "train Loss: 0.1821 Acc: 0.9357\n"
     ]
    },
    {
     "data": {
      "application/vnd.jupyter.widget-view+json": {
       "model_id": "f36f30f7d79f4fea8c011503cbb5b04f",
       "version_major": 2,
       "version_minor": 0
      },
      "text/plain": [
       "Val Batch:   0%|          | 0/127 [00:00<?, ?it/s]"
      ]
     },
     "metadata": {},
     "output_type": "display_data"
    },
    {
     "name": "stdout",
     "output_type": "stream",
     "text": [
      "val Loss: 0.1362 Acc: 0.9533\n",
      "\n",
      "Epoch 2/3\n",
      "----------\n"
     ]
    },
    {
     "data": {
      "application/vnd.jupyter.widget-view+json": {
       "model_id": "e6d01c4102724a2a8c898d25e6a50c5f",
       "version_major": 2,
       "version_minor": 0
      },
      "text/plain": [
       "Train Batch:   0%|          | 0/591 [00:00<?, ?it/s]"
      ]
     },
     "metadata": {},
     "output_type": "display_data"
    },
    {
     "name": "stdout",
     "output_type": "stream",
     "text": [
      "train Loss: 0.1730 Acc: 0.9403\n"
     ]
    },
    {
     "data": {
      "application/vnd.jupyter.widget-view+json": {
       "model_id": "d027c4d396814b0cafb4b19b1ffc8de8",
       "version_major": 2,
       "version_minor": 0
      },
      "text/plain": [
       "Val Batch:   0%|          | 0/127 [00:00<?, ?it/s]"
      ]
     },
     "metadata": {},
     "output_type": "display_data"
    },
    {
     "name": "stdout",
     "output_type": "stream",
     "text": [
      "val Loss: 0.1329 Acc: 0.9565\n",
      "\n",
      "Epoch 3/3\n",
      "----------\n"
     ]
    },
    {
     "data": {
      "application/vnd.jupyter.widget-view+json": {
       "model_id": "ee43de67ea6b41c3b5203186c3c4f64d",
       "version_major": 2,
       "version_minor": 0
      },
      "text/plain": [
       "Train Batch:   0%|          | 0/591 [00:00<?, ?it/s]"
      ]
     },
     "metadata": {},
     "output_type": "display_data"
    },
    {
     "name": "stdout",
     "output_type": "stream",
     "text": [
      "train Loss: 0.1605 Acc: 0.9436\n"
     ]
    },
    {
     "data": {
      "application/vnd.jupyter.widget-view+json": {
       "model_id": "0803cd92ace04d6093803eacde87bf00",
       "version_major": 2,
       "version_minor": 0
      },
      "text/plain": [
       "Val Batch:   0%|          | 0/127 [00:00<?, ?it/s]"
      ]
     },
     "metadata": {},
     "output_type": "display_data"
    },
    {
     "name": "stdout",
     "output_type": "stream",
     "text": [
      "val Loss: 0.1287 Acc: 0.9565\n",
      "\n",
      "Training complete in 11m 13s\n",
      "Best validation accuracy: 0.9565\n",
      "Stage 3 completed. Validation accuracy: 0.9565\n",
      "\n",
      "==================== Stage 4: Unfreezing more layers ====================\n",
      "Unfrozen layers: fc\n",
      "Unfrozen layers: fc, layer4\n",
      "Unfrozen layers: fc, layer4, layer3\n",
      "Unfrozen layers: fc, layer4, layer3, layer2\n",
      "Unfrozen layers: fc, layer4, layer3, layer2, layer1\n",
      "Trainable parameters: 11,172,106 / 11,181,642 (99.91%)\n",
      "Learning rate for stage 4: 1.6e-05\n",
      "Epoch 1/3\n",
      "----------\n"
     ]
    },
    {
     "data": {
      "application/vnd.jupyter.widget-view+json": {
       "model_id": "23a02a23bbf648cca7252041d5c060be",
       "version_major": 2,
       "version_minor": 0
      },
      "text/plain": [
       "Train Batch:   0%|          | 0/591 [00:00<?, ?it/s]"
      ]
     },
     "metadata": {},
     "output_type": "display_data"
    },
    {
     "name": "stdout",
     "output_type": "stream",
     "text": [
      "train Loss: 0.1564 Acc: 0.9442\n"
     ]
    },
    {
     "data": {
      "application/vnd.jupyter.widget-view+json": {
       "model_id": "a6884a8d362e4432aefdcc67c14c2ba0",
       "version_major": 2,
       "version_minor": 0
      },
      "text/plain": [
       "Val Batch:   0%|          | 0/127 [00:00<?, ?it/s]"
      ]
     },
     "metadata": {},
     "output_type": "display_data"
    },
    {
     "name": "stdout",
     "output_type": "stream",
     "text": [
      "val Loss: 0.1288 Acc: 0.9568\n",
      "\n",
      "Epoch 2/3\n",
      "----------\n"
     ]
    },
    {
     "data": {
      "application/vnd.jupyter.widget-view+json": {
       "model_id": "e581ccf76ce343e18ec123fe8c2dbdc3",
       "version_major": 2,
       "version_minor": 0
      },
      "text/plain": [
       "Train Batch:   0%|          | 0/591 [00:00<?, ?it/s]"
      ]
     },
     "metadata": {},
     "output_type": "display_data"
    },
    {
     "name": "stdout",
     "output_type": "stream",
     "text": [
      "train Loss: 0.1563 Acc: 0.9458\n"
     ]
    },
    {
     "data": {
      "application/vnd.jupyter.widget-view+json": {
       "model_id": "3ae93079f4ad4b2d9ba2de492d875da2",
       "version_major": 2,
       "version_minor": 0
      },
      "text/plain": [
       "Val Batch:   0%|          | 0/127 [00:00<?, ?it/s]"
      ]
     },
     "metadata": {},
     "output_type": "display_data"
    },
    {
     "name": "stdout",
     "output_type": "stream",
     "text": [
      "val Loss: 0.1295 Acc: 0.9556\n",
      "\n",
      "Epoch 3/3\n",
      "----------\n"
     ]
    },
    {
     "data": {
      "application/vnd.jupyter.widget-view+json": {
       "model_id": "042d95ec849443c3847edc66479145a4",
       "version_major": 2,
       "version_minor": 0
      },
      "text/plain": [
       "Train Batch:   0%|          | 0/591 [00:00<?, ?it/s]"
      ]
     },
     "metadata": {},
     "output_type": "display_data"
    },
    {
     "name": "stdout",
     "output_type": "stream",
     "text": [
      "train Loss: 0.1606 Acc: 0.9438\n"
     ]
    },
    {
     "data": {
      "application/vnd.jupyter.widget-view+json": {
       "model_id": "66e21a3eddcb461d8d1933fbc6d6aa28",
       "version_major": 2,
       "version_minor": 0
      },
      "text/plain": [
       "Val Batch:   0%|          | 0/127 [00:00<?, ?it/s]"
      ]
     },
     "metadata": {},
     "output_type": "display_data"
    },
    {
     "name": "stdout",
     "output_type": "stream",
     "text": [
      "val Loss: 0.1253 Acc: 0.9580\n",
      "\n",
      "Training complete in 11m 19s\n",
      "Best validation accuracy: 0.9580\n",
      "Stage 4 completed. Validation accuracy: 0.9580\n",
      "\n",
      "{'='*20} Final Evaluation {'='*20}\n"
     ]
    },
    {
     "data": {
      "application/vnd.jupyter.widget-view+json": {
       "model_id": "593dcbaf7de8443fa62ef5508222bc45",
       "version_major": 2,
       "version_minor": 0
      },
      "text/plain": [
       "Evaluating:   0%|          | 0/127 [00:00<?, ?it/s]"
      ]
     },
     "metadata": {},
     "output_type": "display_data"
    },
    {
     "name": "stdout",
     "output_type": "stream",
     "text": [
      "Test Loss: 0.1314\n",
      "Test Accuracy: 0.9516\n"
     ]
    },
    {
     "data": {
      "image/png": "[encoded data removed]",
      "text/plain": [
       "<Figure size 1200x1000 with 2 Axes>"
      ]
     },
     "metadata": {},
     "output_type": "display_data"
    },
    {
     "name": "stdout",
     "output_type": "stream",
     "text": [
      "Classification Report:\n",
      "                      precision    recall  f1-score   support\n",
      "\n",
      "          AnnualCrop     0.9414    0.9534    0.9474       472\n",
      "              Forest     0.9840    0.9751    0.9795       442\n",
      "HerbaceousVegetation     0.9356    0.9520    0.9437       458\n",
      "             Highway     0.9253    0.8875    0.9060       391\n",
      "          Industrial     0.9683    0.9709    0.9696       378\n",
      "             Pasture     0.9307    0.9431    0.9369       299\n",
      "       PermanentCrop     0.9310    0.9261    0.9286       379\n",
      "         Residential     0.9778    0.9778    0.9778       450\n",
      "               River     0.9245    0.9467    0.9354       375\n",
      "             SeaLake     0.9875    0.9729    0.9801       406\n",
      "\n",
      "            accuracy                         0.9516      4050\n",
      "           macro avg     0.9506    0.9505    0.9505      4050\n",
      "        weighted avg     0.9517    0.9516    0.9516      4050\n",
      "\n",
      "Model saved to ../models\\resnet18_progressive_20250407_1554.pth\n",
      "Results saved to ../results\\resnet18_progressive_results_20250407_1554.json\n"
     ]
    },
    {
     "data": {
      "image/png": "[encoded data removed]",
      "text/plain": [
       "<Figure size 1500x600 with 2 Axes>"
      ]
     },
     "metadata": {},
     "output_type": "display_data"
    },
    {
     "name": "stdout",
     "output_type": "stream",
     "text": [
      "\n",
      "{'='*20} SUMMARY {'='*20}\n",
      "Approach                  Test Accuracy   Training Time (min)  Efficiency Ratio    \n",
      "--------------------------------------------------------------------------------\n",
      "Frozen Backbone           0.7341          5.7                  0.1296              \n",
      "Unfrozen Backbone         0.9264          42.6                 0.0218              \n",
      "Progressive Unfreezing    0.9516          45.3                 0.0210              \n"
     ]
    }
   ],
   "source": [
    "# Main execution block\n",
    "if __name__ == \"__main__\":\n",
    "    # Configuration\n",
    "    model_name = 'resnet18'  # Options: 'resnet18', 'resnet50', 'efficientnet_b0', 'efficientnet_b4'\n",
    "    batch_size = 32\n",
    "    \n",
    "    # Choose experiment to run\n",
    "    experiment_type = \"both\"  # Options: \"progressive\", \"compare\", \"both\"\n",
    "    \n",
    "    if experiment_type == \"progressive\" or experiment_type == \"both\":\n",
    "        # Run progressive unfreezing experiment\n",
    "        model, results, test_acc = run_progressive_unfreezing_experiment(\n",
    "            model_name=model_name,\n",
    "            batch_size=batch_size,\n",
    "            epochs_per_stage=5,\n",
    "            lr_start=0.01,\n",
    "            total_stages=5\n",
    "        )\n",
    "        \n",
    "        print(f\"Final test accuracy: {test_acc:.4f}\")\n",
    "    \n",
    "    if experiment_type == \"compare\" or experiment_type == \"both\":\n",
    "        # Run comparison between approaches\n",
    "        compare_with_traditional_approaches(\n",
    "            model_name=model_name,\n",
    "            batch_size=batch_size)"
   ]
  }
 ],
 "metadata": {
  "kernelspec": {
   "display_name": "Python 3",
   "language": "python",
   "name": "python3"
  },
  "language_info": {
   "codemirror_mode": {
    "name": "ipython",
    "version": 3
   },
   "file_extension": ".py",
   "mimetype": "text/x-python",
   "name": "python",
   "nbconvert_exporter": "python",
   "pygments_lexer": "ipython3",
   "version": "3.12.4"
  }
 },
 "nbformat": 4,
 "nbformat_minor": 2
}
