{
 "cells": [
  {
   "cell_type": "markdown",
   "metadata": {},
   "source": [
    "# 05_backbone_comparison.ipynb"
   ]
  },
  {
   "cell_type": "code",
   "execution_count": 1,
   "metadata": {},
   "outputs": [],
   "source": [
    "# Frozen vs Unfrozen backbone comparison\n",
    "\n",
    "# Import libraries\n",
    "import os\n",
    "import json\n",
    "import time\n",
    "import datetime\n",
    "import numpy as np\n",
    "import matplotlib.pyplot as plt\n",
    "import seaborn as sns\n",
    "from tqdm.notebook import tqdm\n",
    "from sklearn.metrics import confusion_matrix, classification_report\n",
    "import warnings\n",
    "warnings.filterwarnings('ignore')\n",
    "\n",
    "import torch\n",
    "import torch.nn as nn\n",
    "import torch.optim as optim\n",
    "from torch.utils.data import DataLoader, Dataset, Subset\n",
    "from torchvision import models, transforms\n",
    "from PIL import Image"
   ]
  },
  {
   "cell_type": "code",
   "execution_count": 2,
   "metadata": {},
   "outputs": [],
   "source": [
    "# Paths\n",
    "DATASET_DIR = \"../data/raw/EuroSAT_RGB\"\n",
    "OUTPUT_DIR = \"../data/processed\"\n",
    "MODEL_DIR = \"../models\"\n",
    "RESULTS_DIR = \"../results\"\n",
    "\n",
    "os.makedirs(MODEL_DIR, exist_ok=True)\n",
    "os.makedirs(OUTPUT_DIR, exist_ok=True)\n",
    "os.makedirs(RESULTS_DIR, exist_ok=True)"
   ]
  },
  {
   "cell_type": "code",
   "execution_count": 3,
   "metadata": {},
   "outputs": [],
   "source": [
    "# Set random seeds for reproducibility\n",
    "SEED = 1\n",
    "torch.manual_seed(SEED)\n",
    "np.random.seed(SEED)\n",
    "if torch.cuda.is_available():\n",
    "    torch.cuda.manual_seed(SEED)\n",
    "    torch.backends.cudnn.deterministic = True"
   ]
  },
  {
   "cell_type": "code",
   "execution_count": 4,
   "metadata": {},
   "outputs": [
    {
     "name": "stdout",
     "output_type": "stream",
     "text": [
      "Using device: cpu\n"
     ]
    }
   ],
   "source": [
    "# Set device\n",
    "device = torch.device(\"cuda:0\" if torch.cuda.is_available() else \"cpu\")\n",
    "print(f\"Using device: {device}\")"
   ]
  },
  {
   "cell_type": "code",
   "execution_count": 5,
   "metadata": {},
   "outputs": [],
   "source": [
    "# Dataset and Dataloader setup\n",
    "class EuroSATDataset(Dataset):\n",
    "    \"\"\"\n",
    "    Dataset class for EuroSAT dataset\n",
    "    \"\"\"\n",
    "    def __init__(self, root_dir, transform=None):\n",
    "        self.root_dir = root_dir\n",
    "        self.transform = transform\n",
    "        self.classes = sorted([d for d in os.listdir(root_dir) if os.path.isdir(os.path.join(root_dir, d))])\n",
    "        self.class_to_idx = {cls_name: i for i, cls_name in enumerate(self.classes)}\n",
    "        \n",
    "        self.images = []\n",
    "        self.labels = []\n",
    "        \n",
    "        # Load all image paths and labels\n",
    "        for class_name in self.classes:\n",
    "            class_dir = os.path.join(root_dir, class_name)\n",
    "            class_idx = self.class_to_idx[class_name]\n",
    "            \n",
    "            for img_name in os.listdir(class_dir):\n",
    "                if img_name.endswith('.jpg'):\n",
    "                    self.images.append(os.path.join(class_dir, img_name))\n",
    "                    self.labels.append(class_idx)\n",
    "    \n",
    "    def __len__(self):\n",
    "        return len(self.images)\n",
    "    \n",
    "    def __getitem__(self, idx):\n",
    "        img_path = self.images[idx]\n",
    "        image = Image.open(img_path).convert('RGB')\n",
    "        label = self.labels[idx]\n",
    "        \n",
    "        if self.transform:\n",
    "            image = self.transform(image)\n",
    "            \n",
    "        return image, label"
   ]
  },
  {
   "cell_type": "code",
   "execution_count": 6,
   "metadata": {},
   "outputs": [],
   "source": [
    "class TransformedSubset(Dataset):\n",
    "    \"\"\"\n",
    "    Dataset wrapper that applies transforms to a subset\n",
    "    \"\"\"\n",
    "    def __init__(self, subset, transform=None):\n",
    "        self.subset = subset\n",
    "        self.transform = transform\n",
    "        \n",
    "    def __getitem__(self, idx):\n",
    "        x, y = self.subset[idx]\n",
    "        if self.transform:\n",
    "            x = self.transform(x)\n",
    "        return x, y\n",
    "    \n",
    "    def __len__(self):\n",
    "        return len(self.subset)"
   ]
  },
  {
   "cell_type": "code",
   "execution_count": 8,
   "metadata": {},
   "outputs": [],
   "source": [
    "# Load data splits or create them if not available\n",
    "def get_data_loaders(batch_size=32, num_workers=0): # set num_workers > 0 for parallel data loading\n",
    "    \"\"\"\n",
    "    Prepare datasets and dataloaders\n",
    "    \n",
    "    Args:\n",
    "        batch_size: Batch size for training\n",
    "        num_workers: Number of workers for data loading\n",
    "        \n",
    "    Returns:\n",
    "        train_loader, val_loader, test_loader, class_to_idx, idx_to_class\n",
    "    \"\"\"\n",
    "    # Define transformations\n",
    "    train_transform = transforms.Compose([\n",
    "        transforms.RandomHorizontalFlip(),\n",
    "        transforms.RandomVerticalFlip(),\n",
    "        transforms.RandomRotation(10),\n",
    "        transforms.ColorJitter(brightness=0.2, contrast=0.2),\n",
    "        transforms.ToTensor(),\n",
    "        transforms.Normalize([0.485, 0.456, 0.406], [0.229, 0.224, 0.225]) # ImageNet stats\n",
    "    ])\n",
    "\n",
    "    val_transform = transforms.Compose([\n",
    "        transforms.ToTensor(),\n",
    "        transforms.Normalize([0.485, 0.456, 0.406], [0.229, 0.224, 0.225]) # ImageNet stats\n",
    "    ])\n",
    "    \n",
    "    # Try loading existing splits\n",
    "    splits_path = os.path.join(OUTPUT_DIR, 'dataset_splits.pt')\n",
    "    \n",
    "    if os.path.exists(splits_path):\n",
    "        print(\"Loading existing dataset splits...\")\n",
    "        full_dataset = EuroSATDataset(DATASET_DIR, transform=None)\n",
    "        class_to_idx = full_dataset.class_to_idx\n",
    "        idx_to_class = {i: name for name, i in class_to_idx.items()}\n",
    "        \n",
    "        # Load dataset splits\n",
    "        splits = torch.load(splits_path)\n",
    "        train_indices = splits['train_indices']\n",
    "        val_indices = splits['val_indices']\n",
    "        test_indices = splits['test_indices']\n",
    "        \n",
    "        # Create subsets\n",
    "        train_dataset = Subset(full_dataset, train_indices)\n",
    "        val_dataset = Subset(full_dataset, val_indices)\n",
    "        test_dataset = Subset(full_dataset, test_indices)\n",
    "        \n",
    "    else:\n",
    "        print(\"Creating new dataset splits...\")\n",
    "        # Create full dataset\n",
    "        full_dataset = EuroSATDataset(DATASET_DIR, transform=None)\n",
    "        class_to_idx = full_dataset.class_to_idx\n",
    "        idx_to_class = {i: name for name, i in class_to_idx.items()}\n",
    "        \n",
    "        # Split dataset into train, validation, and test sets\n",
    "        total_size = len(full_dataset)\n",
    "        train_size = int(0.7 * total_size)\n",
    "        val_size = int(0.15 * total_size)\n",
    "        test_size = total_size - (train_size + val_size)\n",
    "        \n",
    "        train_dataset, val_dataset, test_dataset = torch.utils.data.random_split(\n",
    "            full_dataset, [train_size, val_size, test_size], \n",
    "            generator=torch.Generator().manual_seed(SEED)\n",
    "        )\n",
    "        \n",
    "        # Save dataset splits\n",
    "        torch.save({\n",
    "            'train_indices': train_dataset.indices,\n",
    "            'val_indices': val_dataset.indices,\n",
    "            'test_indices': test_dataset.indices,\n",
    "        }, splits_path)\n",
    "        \n",
    "        # Save class mappings\n",
    "        with open(os.path.join(OUTPUT_DIR, \"class_mappings.json\"), \"w\") as f:\n",
    "            json.dump({\"class_to_idx\": class_to_idx, \"idx_to_class\": idx_to_class}, f)\n",
    "    \n",
    "    # Apply transformations to datasets\n",
    "    train_dataset = TransformedSubset(train_dataset, train_transform)\n",
    "    val_dataset = TransformedSubset(val_dataset, val_transform)\n",
    "    test_dataset = TransformedSubset(test_dataset, val_transform)\n",
    "    \n",
    "    # Create data loaders\n",
    "    train_loader = DataLoader(train_dataset, batch_size=batch_size, shuffle=True, num_workers=num_workers)\n",
    "    val_loader = DataLoader(val_dataset, batch_size=batch_size, shuffle=False, num_workers=num_workers)\n",
    "    test_loader = DataLoader(test_dataset, batch_size=batch_size, shuffle=False, num_workers=num_workers)\n",
    "    \n",
    "    print(f\"Dataset loaded with {len(train_dataset)} training, {len(val_dataset)} validation, and {len(test_dataset)} test images\")\n",
    "    \n",
    "    return train_loader, val_loader, test_loader, class_to_idx, idx_to_class"
   ]
  },
  {
   "cell_type": "code",
   "execution_count": 15,
   "metadata": {},
   "outputs": [],
   "source": [
    "# Model creation function\n",
    "def create_model(model_name='resnet50', num_classes=10, freeze_backbone=True):\n",
    "    \"\"\"\n",
    "    Create a model with a pretrained backbone\n",
    "    \n",
    "    Args:\n",
    "        model_name: Name of the model to use\n",
    "        num_classes: Number of output classes\n",
    "        freeze_backbone: Whether to freeze the backbone weights\n",
    "        \n",
    "    Returns:\n",
    "        model: PyTorch model\n",
    "    \"\"\"\n",
    "    # Load pretrained model\n",
    "    if model_name == 'resnet18':\n",
    "        model = models.resnet18(weights='IMAGENET1K_V1')\n",
    "    elif model_name == 'resnet50':\n",
    "        model = models.resnet50(weights='IMAGENET1K_V1')\n",
    "    elif model_name == 'efficientnet_b0':\n",
    "        model = models.efficientnet_b0(weights='IMAGENET1K_V1')\n",
    "    elif model_name == 'efficientnet_b4':\n",
    "        model = models.efficientnet_b4(weights='IMAGENET1K_V1')\n",
    "    else:\n",
    "        raise ValueError(f\"Model {model_name} not supported\")\n",
    "    \n",
    "    # Freeze backbone if specified\n",
    "    if freeze_backbone:\n",
    "        for param in model.parameters():\n",
    "            param.requires_grad = False\n",
    "    \n",
    "    # Replace the last fully connected layer\n",
    "    if model_name.startswith('resnet'):\n",
    "        num_ftrs = model.fc.in_features\n",
    "        model.fc = nn.Linear(num_ftrs, num_classes)\n",
    "    elif model_name.startswith('efficientnet'):\n",
    "        num_ftrs = model.classifier[1].in_features\n",
    "        model.classifier[1] = nn.Linear(num_ftrs, num_classes)\n",
    "    \n",
    "    return model"
   ]
  },
  {
   "cell_type": "code",
   "execution_count": 18,
   "metadata": {},
   "outputs": [],
   "source": [
    "# Training function\n",
    "def train_model(model, train_loader, val_loader, criterion, optimizer, scheduler=None, num_epochs=25, patience=8, min_delta=0.0005):\n",
    "    \"\"\"\n",
    "    Train a model with early stopping\n",
    "    \n",
    "    Args:\n",
    "        model: PyTorch model to train\n",
    "        train_loader: DataLoader for training data\n",
    "        val_loader: DataLoader for validation data\n",
    "        criterion: Loss function\n",
    "        optimizer: Optimizer\n",
    "        scheduler: Learning rate scheduler (optional)\n",
    "        num_epochs: Maximum number of epochs to train for\n",
    "        patience: Number of epochs to wait for improvement before early stopping\n",
    "        \n",
    "    Returns:\n",
    "        model: Trained model\n",
    "        history: Training history dictionary\n",
    "    \"\"\"\n",
    "    model = model.to(device)\n",
    "    \n",
    "    # Initialize training metrics\n",
    "    best_model_wts = model.state_dict()\n",
    "    best_acc = 0.0\n",
    "    epochs_no_improve = 0\n",
    "    early_stopped = False\n",
    "    \n",
    "    # For tracking metrics\n",
    "    history = {\n",
    "        'train_loss': [],\n",
    "        'val_loss': [],\n",
    "        'train_acc': [],\n",
    "        'val_acc': []\n",
    "    }\n",
    "    \n",
    "    # Memory usage tracking\n",
    "    if torch.cuda.is_available():\n",
    "        peak_memory_start = torch.cuda.max_memory_allocated() / (1024 ** 2)\n",
    "        print(f\"Initial GPU memory usage: {peak_memory_start:.2f} MB\")\n",
    "    \n",
    "    # Time tracking\n",
    "    start_time = time.time()\n",
    "    \n",
    "    for epoch in range(num_epochs):\n",
    "        print(f'Epoch {epoch+1}/{num_epochs}')\n",
    "        print('-' * 10)\n",
    "        \n",
    "        # Each epoch has a training and validation phase\n",
    "        for phase in ['train', 'val']:\n",
    "            if phase == 'train':\n",
    "                model.train()\n",
    "                dataloader = train_loader\n",
    "            else:\n",
    "                model.eval()\n",
    "                dataloader = val_loader\n",
    "            \n",
    "            running_loss = 0.0\n",
    "            running_corrects = 0\n",
    "            \n",
    "            # Iterate over data\n",
    "            progress_bar = tqdm(dataloader, desc=f\"{phase.capitalize()} Batch\")\n",
    "            for inputs, labels in progress_bar:\n",
    "                inputs = inputs.to(device)\n",
    "                labels = labels.to(device)\n",
    "                \n",
    "                # Zero the parameter gradients\n",
    "                optimizer.zero_grad()\n",
    "                \n",
    "                # Forward pass\n",
    "                with torch.set_grad_enabled(phase == 'train'):\n",
    "                    outputs = model(inputs)\n",
    "                    _, preds = torch.max(outputs, 1)\n",
    "                    loss = criterion(outputs, labels)\n",
    "                    \n",
    "                    # Backward + optimize only if in training phase\n",
    "                    if phase == 'train':\n",
    "                        loss.backward()\n",
    "                        optimizer.step()\n",
    "                \n",
    "                # Stats\n",
    "                batch_loss = loss.item() * inputs.size(0)\n",
    "                batch_corrects = torch.sum(preds == labels.data).item()\n",
    "                batch_accuracy = batch_corrects / inputs.size(0)\n",
    "                \n",
    "                running_loss += batch_loss\n",
    "                running_corrects += batch_corrects\n",
    "                \n",
    "                # Update progress bar\n",
    "                progress_bar.set_postfix({\n",
    "                    'loss': batch_loss / inputs.size(0),\n",
    "                    'acc': batch_accuracy\n",
    "                })\n",
    "            \n",
    "            epoch_loss = running_loss / len(dataloader.dataset)\n",
    "            epoch_acc = running_corrects / len(dataloader.dataset)\n",
    "            \n",
    "            # Store history\n",
    "            if phase == 'train':\n",
    "                history['train_loss'].append(epoch_loss)\n",
    "                history['train_acc'].append(epoch_acc)\n",
    "                if scheduler and scheduler.__class__.__name__ != 'ReduceLROnPlateau':\n",
    "                    scheduler.step()\n",
    "            else:  # val\n",
    "                history['val_loss'].append(epoch_loss)\n",
    "                history['val_acc'].append(epoch_acc)\n",
    "                \n",
    "                # If scheduler is ReduceLROnPlateau, step based on validation loss\n",
    "                if scheduler and scheduler.__class__.__name__ == 'ReduceLROnPlateau':\n",
    "                    scheduler.step(epoch_loss)\n",
    "                \n",
    "                # Deep copy the model if best validation accuracy\n",
    "                if epoch_acc > best_acc:\n",
    "                    best_acc = epoch_acc\n",
    "                    best_model_wts = model.state_dict().copy()\n",
    "                    epochs_no_improve = 0\n",
    "                else:\n",
    "                    epochs_no_improve += 1\n",
    "            \n",
    "            print(f'{phase} Loss: {epoch_loss:.4f} Acc: {epoch_acc:.4f}')\n",
    "        \n",
    "        # Early stopping check\n",
    "        if epochs_no_improve >= patience:\n",
    "            print(f'Early stopping triggered after {epoch+1} epochs')\n",
    "            early_stopped = True\n",
    "            break\n",
    "        \n",
    "        print()  # Empty line between epochs\n",
    "    \n",
    "    # Calculate training time\n",
    "    time_elapsed = time.time() - start_time\n",
    "    print(f'Training complete in {time_elapsed // 60:.0f}m {time_elapsed % 60:.0f}s')\n",
    "    print(f'Best validation accuracy: {best_acc:.4f}')\n",
    "    \n",
    "    # Memory usage reporting\n",
    "    if torch.cuda.is_available():\n",
    "        peak_memory = torch.cuda.max_memory_allocated() / (1024 ** 2)\n",
    "        print(f\"Peak GPU memory usage: {peak_memory:.2f} MB\")\n",
    "    \n",
    "    # Add early stopping info to history\n",
    "    history['early_stopped'] = early_stopped\n",
    "    history['epochs_completed'] = epoch + 1\n",
    "    history['best_val_acc'] = best_acc\n",
    "    history['training_time'] = time_elapsed\n",
    "    \n",
    "    # Load best model weights\n",
    "    model.load_state_dict(best_model_wts)\n",
    "    return model, history"
   ]
  },
  {
   "cell_type": "code",
   "execution_count": 19,
   "metadata": {},
   "outputs": [],
   "source": [
    "# Evaluation function\n",
    "def evaluate_model(model, test_loader, class_names):\n",
    "    \"\"\"\n",
    "    Evaluate a trained model on the test set\n",
    "    \n",
    "    Args:\n",
    "        model: Trained PyTorch model\n",
    "        test_loader: DataLoader for test data\n",
    "        class_names: List of class names\n",
    "        \n",
    "    Returns:\n",
    "        test_acc: Test accuracy\n",
    "        y_true: True labels\n",
    "        y_pred: Predicted labels\n",
    "    \"\"\"\n",
    "    model.eval()\n",
    "    \n",
    "    y_true = []\n",
    "    y_pred = []\n",
    "    test_loss = 0\n",
    "    criterion = nn.CrossEntropyLoss()\n",
    "    \n",
    "    with torch.no_grad():\n",
    "        for inputs, labels in tqdm(test_loader, desc=\"Evaluating\"):\n",
    "            inputs = inputs.to(device)\n",
    "            labels = labels.to(device)\n",
    "            \n",
    "            outputs = model(inputs)\n",
    "            _, preds = torch.max(outputs, 1)\n",
    "            \n",
    "            # Calculate loss\n",
    "            loss = criterion(outputs, labels)\n",
    "            test_loss += loss.item() * inputs.size(0)\n",
    "            \n",
    "            y_true.extend(labels.cpu().numpy())\n",
    "            y_pred.extend(preds.cpu().numpy())\n",
    "    \n",
    "    # Calculate metrics\n",
    "    test_loss = test_loss / len(test_loader.dataset)\n",
    "    test_acc = (np.array(y_true) == np.array(y_pred)).mean()\n",
    "    \n",
    "    print(f'Test Loss: {test_loss:.4f}')\n",
    "    print(f'Test Accuracy: {test_acc:.4f}')\n",
    "    \n",
    "    # Create confusion matrix\n",
    "    cm = confusion_matrix(y_true, y_pred)\n",
    "    \n",
    "    plt.figure(figsize=(12, 10))\n",
    "    sns.heatmap(cm, annot=True, fmt='d', cmap='Blues', xticklabels=class_names, yticklabels=class_names)\n",
    "    plt.xlabel('Predicted')\n",
    "    plt.ylabel('True')\n",
    "    plt.title(f'Confusion Matrix - {model.__class__.__name__}')\n",
    "    plt.xticks(rotation=45, ha='right')\n",
    "    plt.tight_layout()\n",
    "    plt.show()\n",
    "    \n",
    "    # Print classification report\n",
    "    print(\"Classification Report:\")\n",
    "    print(classification_report(y_true, y_pred, target_names=class_names))\n",
    "    \n",
    "    return test_acc, y_true, y_pred"
   ]
  },
  {
   "cell_type": "code",
   "execution_count": 20,
   "metadata": {},
   "outputs": [],
   "source": [
    "# Save model function\n",
    "def save_model(model, model_name, freeze_backbone, class_to_idx, history, test_acc):\n",
    "    \"\"\"\n",
    "    Save a trained model with metadata\n",
    "    \n",
    "    Args:\n",
    "        model: Trained PyTorch model\n",
    "        model_name: Name of the model architecture\n",
    "        freeze_backbone: Whether backbone was frozen during training\n",
    "        class_to_idx: Class to index mapping\n",
    "        history: Training history\n",
    "        test_acc: Test accuracy\n",
    "    \n",
    "    Returns:\n",
    "        save_path: Path where model was saved\n",
    "    \"\"\"\n",
    "    timestamp = datetime.datetime.now().strftime(\"%Y%m%d_%H%M\")\n",
    "    backbone_status = 'frozen' if freeze_backbone else 'unfrozen'\n",
    "    save_path = os.path.join(MODEL_DIR, f\"{model_name}_{backbone_status}_{timestamp}.pth\")\n",
    "    \n",
    "    checkpoint = {\n",
    "        'model_state_dict': model.state_dict(),\n",
    "        'class_to_idx': class_to_idx,\n",
    "        'idx_to_class': {i: name for name, i in class_to_idx.items()},\n",
    "        'model_name': model_name,\n",
    "        'freeze_backbone': freeze_backbone,\n",
    "        'history': history,\n",
    "        'test_accuracy': test_acc,\n",
    "        'timestamp': timestamp\n",
    "    }\n",
    "    \n",
    "    torch.save(checkpoint, save_path)\n",
    "    print(f\"Model saved to {save_path}\")\n",
    "    return save_path"
   ]
  },
  {
   "cell_type": "code",
   "execution_count": 21,
   "metadata": {},
   "outputs": [],
   "source": [
    "# Function to run experiment for a single model configuration\n",
    "def run_experiment(model_name, freeze_backbone, train_loader, val_loader, test_loader, \n",
    "                class_to_idx, class_names, num_epochs=25, batch_size=32, learning_rate=0.005):\n",
    "    \"\"\"\n",
    "    Train and evaluate a model with specified backbone freezing\n",
    "    \n",
    "    Args:\n",
    "        model_name: Name of the model architecture\n",
    "        freeze_backbone: Whether to freeze the backbone\n",
    "        train_loader: DataLoader for training data\n",
    "        val_loader: DataLoader for validation data\n",
    "        test_loader: DataLoader for test data\n",
    "        class_to_idx: Class to index mapping\n",
    "        class_names: List of class names\n",
    "        num_epochs: Number of epochs to train\n",
    "        batch_size: Batch size\n",
    "        learning_rate: Initial learning rate\n",
    "        \n",
    "    Returns:\n",
    "        results: Dictionary containing experiment results\n",
    "    \"\"\"\n",
    "    backbone_status = 'frozen' if freeze_backbone else 'unfrozen'\n",
    "    print(f\"{'='*20} Training {model_name} with {backbone_status} backbone {'='*20}\")\n",
    "    \n",
    "    # Create model\n",
    "    model = create_model(model_name, num_classes=len(class_to_idx), freeze_backbone=freeze_backbone)\n",
    "    \n",
    "    # Define loss function, optimizer, scheduler\n",
    "    criterion = nn.CrossEntropyLoss()\n",
    "    \n",
    "    # When backbone is unfrozen, use a lower learning rate\n",
    "    if not freeze_backbone:\n",
    "        learning_rate = learning_rate / 10\n",
    "    \n",
    "    # Configure optimizer with appropriate parameters\n",
    "    optimizer = optim.Adam(model.parameters(), lr=learning_rate)\n",
    "    \n",
    "    # Use ReduceLROnPlateau scheduler for adaptive learning rate\n",
    "    scheduler = optim.lr_scheduler.ReduceLROnPlateau(\n",
    "        optimizer, mode='min', factor=0.1, patience=3, verbose=True\n",
    "    )\n",
    "    \n",
    "    # Train model\n",
    "    start_time = time.time()\n",
    "    model, history = train_model(\n",
    "        model, train_loader, val_loader, criterion, optimizer, scheduler, num_epochs, patience=5\n",
    "    )\n",
    "    time_elapsed = time.time() - start_time\n",
    "    \n",
    "    # Evaluate on test set\n",
    "    test_acc, y_true, y_pred = evaluate_model(model, test_loader, class_names)\n",
    "    \n",
    "    # Save model\n",
    "    save_path = save_model(model, model_name, freeze_backbone, class_to_idx, history, test_acc)\n",
    "    \n",
    "    # Collect and return results\n",
    "    results = {\n",
    "        'model_name': model_name,\n",
    "        'freeze_backbone': freeze_backbone,\n",
    "        'history': history,\n",
    "        'test_accuracy': test_acc,\n",
    "        'training_time': time_elapsed,\n",
    "        'y_true': y_true,\n",
    "        'y_pred': y_pred,\n",
    "        'model_path': save_path\n",
    "    }\n",
    "    \n",
    "    return results"
   ]
  },
  {
   "cell_type": "code",
   "execution_count": null,
   "metadata": {},
   "outputs": [],
   "source": [
    "# Function to compare frozen vs unfrozen backbones\n",
    "def compare_models(frozen_results, unfrozen_results):\n",
    "    \"\"\"\n",
    "    Compare performance between frozen and unfrozen models\n",
    "    \n",
    "    Args:\n",
    "        frozen_results: Results from frozen backbone experiment\n",
    "        unfrozen_results: Results from unfrozen backbone experiment\n",
    "    \"\"\"\n",
    "    model_name = frozen_results['model_name']\n",
    "    timestamp = datetime.datetime.now().strftime(\"%Y%m%d\")\n",
    "    \n",
    "    # Create comparison table\n",
    "    comparison = {\n",
    "        'Model': model_name,\n",
    "        'Frozen Test Accuracy': frozen_results['test_accuracy'],\n",
    "        'Unfrozen Test Accuracy': unfrozen_results['test_accuracy'],\n",
    "        'Accuracy Difference': unfrozen_results['test_accuracy'] - frozen_results['test_accuracy'],\n",
    "        'Frozen Training Time (m)': frozen_results['training_time'] // 60,\n",
    "        'Unfrozen Training Time (m)': unfrozen_results['training_time'] // 60,\n",
    "        'Training Time Ratio': unfrozen_results['training_time'] / frozen_results['training_time'],\n",
    "        'Frozen Epochs': frozen_results['history']['epochs_completed'],\n",
    "        'Unfrozen Epochs': unfrozen_results['history']['epochs_completed']\n",
    "    }\n",
    "    \n",
    "    # Print comparison\n",
    "    print(\"\\n=== Model Performance Comparison ===\")\n",
    "    print(f\"Model: {comparison['Model']}\")\n",
    "    print(f\"Frozen Test Accuracy: {comparison['Frozen Test Accuracy']:.4f}\")\n",
    "    print(f\"Unfrozen Test Accuracy: {comparison['Unfrozen Test Accuracy']:.4f}\")\n",
    "    print(f\"Accuracy Difference: {comparison['Accuracy Difference']:.4f}\")\n",
    "    print(f\"Frozen Training Time: {comparison['Frozen Training Time (m)']:.1f} minutes\")\n",
    "    print(f\"Unfrozen Training Time: {comparison['Unfrozen Training Time (m)']:.1f} minutes\")\n",
    "    print(f\"Training Time Ratio: {comparison['Training Time Ratio']:.2f}x\")\n",
    "    print(f\"Frozen Epochs Completed: {comparison['Frozen Epochs']}\")\n",
    "    print(f\"Unfrozen Epochs Completed: {comparison['Unfrozen Epochs']}\")\n",
    "    \n",
    "    # Plot training history comparison\n",
    "    plt.figure(figsize=(15, 10))\n",
    "    \n",
    "    # Plot training loss\n",
    "    plt.subplot(2, 2, 1)\n",
    "    plt.plot(frozen_results['history']['train_loss'], label='Frozen Backbone')\n",
    "    plt.plot(unfrozen_results['history']['train_loss'], label='Unfrozen Backbone')\n",
    "    plt.title(f'{model_name} - Training Loss')\n",
    "    plt.xlabel('Epoch')\n",
    "    plt.ylabel('Loss')\n",
    "    plt.legend()\n",
    "    \n",
    "    # Plot validation loss\n",
    "    plt.subplot(2, 2, 2)\n",
    "    plt.plot(frozen_results['history']['val_loss'], label='Frozen Backbone')\n",
    "    plt.plot(unfrozen_results['history']['val_loss'], label='Unfrozen Backbone')\n",
    "    plt.title(f'{model_name} - Validation Loss')\n",
    "    plt.xlabel('Epoch')\n",
    "    plt.ylabel('Loss')\n",
    "    plt.legend()\n",
    "    \n",
    "    # Plot training accuracy\n",
    "    plt.subplot(2, 2, 3)\n",
    "    plt.plot(frozen_results['history']['train_acc'], label='Frozen Backbone')\n",
    "    plt.plot(unfrozen_results['history']['train_acc'], label='Unfrozen Backbone')\n",
    "    plt.title(f'{model_name} - Training Accuracy')\n",
    "    plt.xlabel('Epoch')\n",
    "    plt.ylabel('Accuracy')\n",
    "    plt.legend()\n",
    "    \n",
    "    # Plot validation accuracy\n",
    "    plt.subplot(2, 2, 4)\n",
    "    plt.plot(frozen_results['history']['val_acc'], label='Frozen Backbone')\n",
    "    plt.plot(unfrozen_results['history']['val_acc'], label='Unfrozen Backbone')\n",
    "    plt.title(f'{model_name} - Validation Accuracy')\n",
    "    plt.xlabel('Epoch')\n",
    "    plt.ylabel('Accuracy')\n",
    "    plt.legend()\n",
    "    \n",
    "    plt.tight_layout()\n",
    "    plt.savefig(os.path.join(RESULTS_DIR, f\"{model_name}_{timestamp}_comparison.png\"))\n",
    "    plt.show()\n",
    "    \n",
    "    # Save comparison results\n",
    "    comparison_path = os.path.join(RESULTS_DIR, f\"{model_name}_{timestamp}_comparison.json\")\n",
    "    with open(comparison_path, 'w') as f:\n",
    "        json.dump(comparison, f, indent=4)\n",
    "    \n",
    "    print(f\"Comparison saved to {comparison_path}\")"
   ]
  },
  {
   "cell_type": "code",
   "execution_count": 23,
   "metadata": {},
   "outputs": [],
   "source": [
    "# Main execution function\n",
    "def main():\n",
    "    \"\"\"Main function to run experiments\"\"\"\n",
    "    # Configuration\n",
    "    model_name = 'resnet50'  # Options: 'resnet18', 'resnet50', 'efficientnet_b0', 'efficientnet_b4'\n",
    "    num_epochs = 25\n",
    "    batch_size = 32\n",
    "    learning_rate = 0.005\n",
    "    \n",
    "    # Load data\n",
    "    train_loader, val_loader, test_loader, class_to_idx, idx_to_class = get_data_loaders(batch_size=batch_size)\n",
    "    class_names = [idx_to_class[i] for i in range(len(class_to_idx))]\n",
    "    \n",
    "    # Run frozen backbone experiment\n",
    "    frozen_results = run_experiment(\n",
    "        model_name=model_name,\n",
    "        freeze_backbone=True,\n",
    "        train_loader=train_loader,\n",
    "        val_loader=val_loader,\n",
    "        test_loader=test_loader,\n",
    "        class_to_idx=class_to_idx,\n",
    "        class_names=class_names,\n",
    "        num_epochs=num_epochs,\n",
    "        batch_size=batch_size,\n",
    "        learning_rate=learning_rate\n",
    "    )\n",
    "    \n",
    "    # Run unfrozen backbone experiment\n",
    "    unfrozen_results = run_experiment(\n",
    "        model_name=model_name,\n",
    "        freeze_backbone=False,\n",
    "        train_loader=train_loader,\n",
    "        val_loader=val_loader,\n",
    "        test_loader=test_loader,\n",
    "        class_to_idx=class_to_idx,\n",
    "        class_names=class_names,\n",
    "        num_epochs=num_epochs,\n",
    "        batch_size=batch_size,\n",
    "        learning_rate=learning_rate\n",
    "    )\n",
    "    \n",
    "    # Compare results\n",
    "    compare_models(frozen_results, unfrozen_results)"
   ]
  },
  {
   "cell_type": "code",
   "execution_count": 24,
   "metadata": {},
   "outputs": [
    {
     "name": "stdout",
     "output_type": "stream",
     "text": [
      "Loading existing dataset splits...\n",
      "Dataset loaded with 18900 training, 4050 validation, and 4050 test images\n",
      "==================== Training resnet50 with frozen backbone ====================\n",
      "Epoch 1/25\n",
      "----------\n"
     ]
    },
    {
     "data": {
      "application/vnd.jupyter.widget-view+json": {
       "model_id": "c581867e8a594bb9abe2937a03212105",
       "version_major": 2,
       "version_minor": 0
      },
      "text/plain": [
       "Train Batch:   0%|          | 0/591 [00:00<?, ?it/s]"
      ]
     },
     "metadata": {},
     "output_type": "display_data"
    },
    {
     "name": "stdout",
     "output_type": "stream",
     "text": [
      "train Loss: 1.1890 Acc: 0.6968\n"
     ]
    },
    {
     "data": {
      "application/vnd.jupyter.widget-view+json": {
       "model_id": "5b94f7c1d8424317baedc6a217077c36",
       "version_major": 2,
       "version_minor": 0
      },
      "text/plain": [
       "Val Batch:   0%|          | 0/127 [00:00<?, ?it/s]"
      ]
     },
     "metadata": {},
     "output_type": "display_data"
    },
    {
     "name": "stdout",
     "output_type": "stream",
     "text": [
      "val Loss: 1.4638 Acc: 0.7304\n",
      "\n",
      "Epoch 2/25\n",
      "----------\n"
     ]
    },
    {
     "data": {
      "application/vnd.jupyter.widget-view+json": {
       "model_id": "f60d1569711c46178121fb22de18a767",
       "version_major": 2,
       "version_minor": 0
      },
      "text/plain": [
       "Train Batch:   0%|          | 0/591 [00:00<?, ?it/s]"
      ]
     },
     "metadata": {},
     "output_type": "display_data"
    },
    {
     "name": "stdout",
     "output_type": "stream",
     "text": [
      "train Loss: 1.1178 Acc: 0.7451\n"
     ]
    },
    {
     "data": {
      "application/vnd.jupyter.widget-view+json": {
       "model_id": "12aba50ec8c947ddb084c2ff7ddfee7e",
       "version_major": 2,
       "version_minor": 0
      },
      "text/plain": [
       "Val Batch:   0%|          | 0/127 [00:00<?, ?it/s]"
      ]
     },
     "metadata": {},
     "output_type": "display_data"
    },
    {
     "name": "stdout",
     "output_type": "stream",
     "text": [
      "val Loss: 1.3274 Acc: 0.7625\n",
      "\n",
      "Epoch 3/25\n",
      "----------\n"
     ]
    },
    {
     "data": {
      "application/vnd.jupyter.widget-view+json": {
       "model_id": "501e5ff1a32849a5afeeeecb29b814b5",
       "version_major": 2,
       "version_minor": 0
      },
      "text/plain": [
       "Train Batch:   0%|          | 0/591 [00:00<?, ?it/s]"
      ]
     },
     "metadata": {},
     "output_type": "display_data"
    },
    {
     "name": "stdout",
     "output_type": "stream",
     "text": [
      "train Loss: 1.1588 Acc: 0.7587\n"
     ]
    },
    {
     "data": {
      "application/vnd.jupyter.widget-view+json": {
       "model_id": "667ee2c227ce4e339c6dc76449ccd99d",
       "version_major": 2,
       "version_minor": 0
      },
      "text/plain": [
       "Val Batch:   0%|          | 0/127 [00:00<?, ?it/s]"
      ]
     },
     "metadata": {},
     "output_type": "display_data"
    },
    {
     "name": "stdout",
     "output_type": "stream",
     "text": [
      "val Loss: 1.4892 Acc: 0.7689\n",
      "\n",
      "Epoch 4/25\n",
      "----------\n"
     ]
    },
    {
     "data": {
      "application/vnd.jupyter.widget-view+json": {
       "model_id": "5eeda568ff40478b8c971efd4c8f713b",
       "version_major": 2,
       "version_minor": 0
      },
      "text/plain": [
       "Train Batch:   0%|          | 0/591 [00:00<?, ?it/s]"
      ]
     },
     "metadata": {},
     "output_type": "display_data"
    },
    {
     "name": "stdout",
     "output_type": "stream",
     "text": [
      "train Loss: 1.1802 Acc: 0.7684\n"
     ]
    },
    {
     "data": {
      "application/vnd.jupyter.widget-view+json": {
       "model_id": "3937fdcda43a492bbe44f7e99efc6df3",
       "version_major": 2,
       "version_minor": 0
      },
      "text/plain": [
       "Val Batch:   0%|          | 0/127 [00:00<?, ?it/s]"
      ]
     },
     "metadata": {},
     "output_type": "display_data"
    },
    {
     "name": "stdout",
     "output_type": "stream",
     "text": [
      "val Loss: 0.8638 Acc: 0.8262\n",
      "\n",
      "Epoch 5/25\n",
      "----------\n"
     ]
    },
    {
     "data": {
      "application/vnd.jupyter.widget-view+json": {
       "model_id": "0a525d08b45a48a9bcd2674b726f0c55",
       "version_major": 2,
       "version_minor": 0
      },
      "text/plain": [
       "Train Batch:   0%|          | 0/591 [00:00<?, ?it/s]"
      ]
     },
     "metadata": {},
     "output_type": "display_data"
    },
    {
     "name": "stdout",
     "output_type": "stream",
     "text": [
      "train Loss: 1.2210 Acc: 0.7667\n"
     ]
    },
    {
     "data": {
      "application/vnd.jupyter.widget-view+json": {
       "model_id": "a25552bf28004a83bbe7bffb6125c540",
       "version_major": 2,
       "version_minor": 0
      },
      "text/plain": [
       "Val Batch:   0%|          | 0/127 [00:00<?, ?it/s]"
      ]
     },
     "metadata": {},
     "output_type": "display_data"
    },
    {
     "name": "stdout",
     "output_type": "stream",
     "text": [
      "val Loss: 0.9306 Acc: 0.8277\n",
      "\n",
      "Epoch 6/25\n",
      "----------\n"
     ]
    },
    {
     "data": {
      "application/vnd.jupyter.widget-view+json": {
       "model_id": "2f3efb9a649e42ed8df44d9c5ef6b5e2",
       "version_major": 2,
       "version_minor": 0
      },
      "text/plain": [
       "Train Batch:   0%|          | 0/591 [00:00<?, ?it/s]"
      ]
     },
     "metadata": {},
     "output_type": "display_data"
    },
    {
     "name": "stdout",
     "output_type": "stream",
     "text": [
      "train Loss: 1.2206 Acc: 0.7733\n"
     ]
    },
    {
     "data": {
      "application/vnd.jupyter.widget-view+json": {
       "model_id": "cef70968193543b5ac177a4de423e13a",
       "version_major": 2,
       "version_minor": 0
      },
      "text/plain": [
       "Val Batch:   0%|          | 0/127 [00:00<?, ?it/s]"
      ]
     },
     "metadata": {},
     "output_type": "display_data"
    },
    {
     "name": "stdout",
     "output_type": "stream",
     "text": [
      "val Loss: 1.0008 Acc: 0.8254\n",
      "\n",
      "Epoch 7/25\n",
      "----------\n"
     ]
    },
    {
     "data": {
      "application/vnd.jupyter.widget-view+json": {
       "model_id": "8e350d53faa04dfaab14f6cee95af467",
       "version_major": 2,
       "version_minor": 0
      },
      "text/plain": [
       "Train Batch:   0%|          | 0/591 [00:00<?, ?it/s]"
      ]
     },
     "metadata": {},
     "output_type": "display_data"
    },
    {
     "name": "stdout",
     "output_type": "stream",
     "text": [
      "train Loss: 1.2213 Acc: 0.7740\n"
     ]
    },
    {
     "data": {
      "application/vnd.jupyter.widget-view+json": {
       "model_id": "fced009a0f064fb5ac150620c3e48a86",
       "version_major": 2,
       "version_minor": 0
      },
      "text/plain": [
       "Val Batch:   0%|          | 0/127 [00:00<?, ?it/s]"
      ]
     },
     "metadata": {},
     "output_type": "display_data"
    },
    {
     "name": "stdout",
     "output_type": "stream",
     "text": [
      "val Loss: 0.9660 Acc: 0.8190\n",
      "\n",
      "Epoch 8/25\n",
      "----------\n"
     ]
    },
    {
     "data": {
      "application/vnd.jupyter.widget-view+json": {
       "model_id": "2ee71a9f75154ca3aba24a6e3c893976",
       "version_major": 2,
       "version_minor": 0
      },
      "text/plain": [
       "Train Batch:   0%|          | 0/591 [00:00<?, ?it/s]"
      ]
     },
     "metadata": {},
     "output_type": "display_data"
    },
    {
     "name": "stdout",
     "output_type": "stream",
     "text": [
      "train Loss: 1.2239 Acc: 0.7754\n"
     ]
    },
    {
     "data": {
      "application/vnd.jupyter.widget-view+json": {
       "model_id": "dd8bca328d984418a8a896e576f1a404",
       "version_major": 2,
       "version_minor": 0
      },
      "text/plain": [
       "Val Batch:   0%|          | 0/127 [00:00<?, ?it/s]"
      ]
     },
     "metadata": {},
     "output_type": "display_data"
    },
    {
     "name": "stdout",
     "output_type": "stream",
     "text": [
      "val Loss: 0.9867 Acc: 0.8240\n",
      "\n",
      "Epoch 9/25\n",
      "----------\n"
     ]
    },
    {
     "data": {
      "application/vnd.jupyter.widget-view+json": {
       "model_id": "90372588ee8b4e4fbd9bf77d4866d42a",
       "version_major": 2,
       "version_minor": 0
      },
      "text/plain": [
       "Train Batch:   0%|          | 0/591 [00:00<?, ?it/s]"
      ]
     },
     "metadata": {},
     "output_type": "display_data"
    },
    {
     "name": "stdout",
     "output_type": "stream",
     "text": [
      "train Loss: 0.8497 Acc: 0.8230\n"
     ]
    },
    {
     "data": {
      "application/vnd.jupyter.widget-view+json": {
       "model_id": "780ec75638d14c65980541364f6a3c7d",
       "version_major": 2,
       "version_minor": 0
      },
      "text/plain": [
       "Val Batch:   0%|          | 0/127 [00:00<?, ?it/s]"
      ]
     },
     "metadata": {},
     "output_type": "display_data"
    },
    {
     "name": "stdout",
     "output_type": "stream",
     "text": [
      "val Loss: 0.6979 Acc: 0.8553\n",
      "\n",
      "Epoch 10/25\n",
      "----------\n"
     ]
    },
    {
     "data": {
      "application/vnd.jupyter.widget-view+json": {
       "model_id": "8a99244e94c940f88e31e48322b15b59",
       "version_major": 2,
       "version_minor": 0
      },
      "text/plain": [
       "Train Batch:   0%|          | 0/591 [00:00<?, ?it/s]"
      ]
     },
     "metadata": {},
     "output_type": "display_data"
    },
    {
     "name": "stdout",
     "output_type": "stream",
     "text": [
      "train Loss: 0.7515 Acc: 0.8276\n"
     ]
    },
    {
     "data": {
      "application/vnd.jupyter.widget-view+json": {
       "model_id": "920e711f2ca246a783159d0e3d08c426",
       "version_major": 2,
       "version_minor": 0
      },
      "text/plain": [
       "Val Batch:   0%|          | 0/127 [00:00<?, ?it/s]"
      ]
     },
     "metadata": {},
     "output_type": "display_data"
    },
    {
     "name": "stdout",
     "output_type": "stream",
     "text": [
      "val Loss: 0.6913 Acc: 0.8501\n",
      "\n",
      "Epoch 11/25\n",
      "----------\n"
     ]
    },
    {
     "data": {
      "application/vnd.jupyter.widget-view+json": {
       "model_id": "8ad15b2dcdf34f2c99d4c7f3afa7519d",
       "version_major": 2,
       "version_minor": 0
      },
      "text/plain": [
       "Train Batch:   0%|          | 0/591 [00:00<?, ?it/s]"
      ]
     },
     "metadata": {},
     "output_type": "display_data"
    },
    {
     "name": "stdout",
     "output_type": "stream",
     "text": [
      "train Loss: 0.6931 Acc: 0.8340\n"
     ]
    },
    {
     "data": {
      "application/vnd.jupyter.widget-view+json": {
       "model_id": "043741741cab4b70aed01fcf5da6c21e",
       "version_major": 2,
       "version_minor": 0
      },
      "text/plain": [
       "Val Batch:   0%|          | 0/127 [00:00<?, ?it/s]"
      ]
     },
     "metadata": {},
     "output_type": "display_data"
    },
    {
     "name": "stdout",
     "output_type": "stream",
     "text": [
      "val Loss: 0.6774 Acc: 0.8499\n",
      "\n",
      "Epoch 12/25\n",
      "----------\n"
     ]
    },
    {
     "data": {
      "application/vnd.jupyter.widget-view+json": {
       "model_id": "2c4f812aadea42b4abb8bf5fc764b8c6",
       "version_major": 2,
       "version_minor": 0
      },
      "text/plain": [
       "Train Batch:   0%|          | 0/591 [00:00<?, ?it/s]"
      ]
     },
     "metadata": {},
     "output_type": "display_data"
    },
    {
     "name": "stdout",
     "output_type": "stream",
     "text": [
      "train Loss: 0.6464 Acc: 0.8358\n"
     ]
    },
    {
     "data": {
      "application/vnd.jupyter.widget-view+json": {
       "model_id": "a2edd5c552a2487290496fb747b2b255",
       "version_major": 2,
       "version_minor": 0
      },
      "text/plain": [
       "Val Batch:   0%|          | 0/127 [00:00<?, ?it/s]"
      ]
     },
     "metadata": {},
     "output_type": "display_data"
    },
    {
     "name": "stdout",
     "output_type": "stream",
     "text": [
      "val Loss: 0.5862 Acc: 0.8556\n",
      "\n",
      "Epoch 13/25\n",
      "----------\n"
     ]
    },
    {
     "data": {
      "application/vnd.jupyter.widget-view+json": {
       "model_id": "4065536b1b0449cdb0faf7db95aa96e5",
       "version_major": 2,
       "version_minor": 0
      },
      "text/plain": [
       "Train Batch:   0%|          | 0/591 [00:00<?, ?it/s]"
      ]
     },
     "metadata": {},
     "output_type": "display_data"
    },
    {
     "name": "stdout",
     "output_type": "stream",
     "text": [
      "train Loss: 0.6206 Acc: 0.8384\n"
     ]
    },
    {
     "data": {
      "application/vnd.jupyter.widget-view+json": {
       "model_id": "3f90f1d8ceb0478bafb9f2b94032c31b",
       "version_major": 2,
       "version_minor": 0
      },
      "text/plain": [
       "Val Batch:   0%|          | 0/127 [00:00<?, ?it/s]"
      ]
     },
     "metadata": {},
     "output_type": "display_data"
    },
    {
     "name": "stdout",
     "output_type": "stream",
     "text": [
      "val Loss: 0.6640 Acc: 0.8432\n",
      "\n",
      "Epoch 14/25\n",
      "----------\n"
     ]
    },
    {
     "data": {
      "application/vnd.jupyter.widget-view+json": {
       "model_id": "81b2416b0c3f4f61ac40b43b3b7747ba",
       "version_major": 2,
       "version_minor": 0
      },
      "text/plain": [
       "Train Batch:   0%|          | 0/591 [00:00<?, ?it/s]"
      ]
     },
     "metadata": {},
     "output_type": "display_data"
    },
    {
     "name": "stdout",
     "output_type": "stream",
     "text": [
      "train Loss: 0.5912 Acc: 0.8406\n"
     ]
    },
    {
     "data": {
      "application/vnd.jupyter.widget-view+json": {
       "model_id": "7c96f0d8c3db412fbfd8df24eb1bd7b1",
       "version_major": 2,
       "version_minor": 0
      },
      "text/plain": [
       "Val Batch:   0%|          | 0/127 [00:00<?, ?it/s]"
      ]
     },
     "metadata": {},
     "output_type": "display_data"
    },
    {
     "name": "stdout",
     "output_type": "stream",
     "text": [
      "val Loss: 0.5310 Acc: 0.8615\n",
      "\n",
      "Epoch 15/25\n",
      "----------\n"
     ]
    },
    {
     "data": {
      "application/vnd.jupyter.widget-view+json": {
       "model_id": "6a60fa6e810b44978d86d2a1cdf7a543",
       "version_major": 2,
       "version_minor": 0
      },
      "text/plain": [
       "Train Batch:   0%|          | 0/591 [00:00<?, ?it/s]"
      ]
     },
     "metadata": {},
     "output_type": "display_data"
    },
    {
     "name": "stdout",
     "output_type": "stream",
     "text": [
      "train Loss: 0.5887 Acc: 0.8385\n"
     ]
    },
    {
     "data": {
      "application/vnd.jupyter.widget-view+json": {
       "model_id": "27de2bde025a4a8697e69a7b39b93f5e",
       "version_major": 2,
       "version_minor": 0
      },
      "text/plain": [
       "Val Batch:   0%|          | 0/127 [00:00<?, ?it/s]"
      ]
     },
     "metadata": {},
     "output_type": "display_data"
    },
    {
     "name": "stdout",
     "output_type": "stream",
     "text": [
      "val Loss: 0.6210 Acc: 0.8501\n",
      "\n",
      "Epoch 16/25\n",
      "----------\n"
     ]
    },
    {
     "data": {
      "application/vnd.jupyter.widget-view+json": {
       "model_id": "fa8e7ae11bce44c7be68658611e70109",
       "version_major": 2,
       "version_minor": 0
      },
      "text/plain": [
       "Train Batch:   0%|          | 0/591 [00:00<?, ?it/s]"
      ]
     },
     "metadata": {},
     "output_type": "display_data"
    },
    {
     "name": "stdout",
     "output_type": "stream",
     "text": [
      "train Loss: 0.5694 Acc: 0.8440\n"
     ]
    },
    {
     "data": {
      "application/vnd.jupyter.widget-view+json": {
       "model_id": "a94deaa64fd24bf5b1e31a854ecd1d1e",
       "version_major": 2,
       "version_minor": 0
      },
      "text/plain": [
       "Val Batch:   0%|          | 0/127 [00:00<?, ?it/s]"
      ]
     },
     "metadata": {},
     "output_type": "display_data"
    },
    {
     "name": "stdout",
     "output_type": "stream",
     "text": [
      "val Loss: 0.5515 Acc: 0.8602\n",
      "\n",
      "Epoch 17/25\n",
      "----------\n"
     ]
    },
    {
     "data": {
      "application/vnd.jupyter.widget-view+json": {
       "model_id": "8965832041744de69008351ec1660a06",
       "version_major": 2,
       "version_minor": 0
      },
      "text/plain": [
       "Train Batch:   0%|          | 0/591 [00:00<?, ?it/s]"
      ]
     },
     "metadata": {},
     "output_type": "display_data"
    },
    {
     "name": "stdout",
     "output_type": "stream",
     "text": [
      "train Loss: 0.5495 Acc: 0.8444\n"
     ]
    },
    {
     "data": {
      "application/vnd.jupyter.widget-view+json": {
       "model_id": "33c0a48e8c22491997f84b7a160f4268",
       "version_major": 2,
       "version_minor": 0
      },
      "text/plain": [
       "Val Batch:   0%|          | 0/127 [00:00<?, ?it/s]"
      ]
     },
     "metadata": {},
     "output_type": "display_data"
    },
    {
     "name": "stdout",
     "output_type": "stream",
     "text": [
      "val Loss: 0.5248 Acc: 0.8617\n",
      "\n",
      "Epoch 18/25\n",
      "----------\n"
     ]
    },
    {
     "data": {
      "application/vnd.jupyter.widget-view+json": {
       "model_id": "1206aaad8e2d4aa7a692e440869db47d",
       "version_major": 2,
       "version_minor": 0
      },
      "text/plain": [
       "Train Batch:   0%|          | 0/591 [00:00<?, ?it/s]"
      ]
     },
     "metadata": {},
     "output_type": "display_data"
    },
    {
     "name": "stdout",
     "output_type": "stream",
     "text": [
      "train Loss: 0.5435 Acc: 0.8448\n"
     ]
    },
    {
     "data": {
      "application/vnd.jupyter.widget-view+json": {
       "model_id": "c9d444ce9eae449eb6f812a859443b33",
       "version_major": 2,
       "version_minor": 0
      },
      "text/plain": [
       "Val Batch:   0%|          | 0/127 [00:00<?, ?it/s]"
      ]
     },
     "metadata": {},
     "output_type": "display_data"
    },
    {
     "name": "stdout",
     "output_type": "stream",
     "text": [
      "val Loss: 0.6020 Acc: 0.8489\n",
      "\n",
      "Epoch 19/25\n",
      "----------\n"
     ]
    },
    {
     "data": {
      "application/vnd.jupyter.widget-view+json": {
       "model_id": "7da674f3dee442ae82bf524469ddd6ec",
       "version_major": 2,
       "version_minor": 0
      },
      "text/plain": [
       "Train Batch:   0%|          | 0/591 [00:00<?, ?it/s]"
      ]
     },
     "metadata": {},
     "output_type": "display_data"
    },
    {
     "name": "stdout",
     "output_type": "stream",
     "text": [
      "train Loss: 0.5324 Acc: 0.8424\n"
     ]
    },
    {
     "data": {
      "application/vnd.jupyter.widget-view+json": {
       "model_id": "21cbadb9914949e48a97506d1613c0cd",
       "version_major": 2,
       "version_minor": 0
      },
      "text/plain": [
       "Val Batch:   0%|          | 0/127 [00:00<?, ?it/s]"
      ]
     },
     "metadata": {},
     "output_type": "display_data"
    },
    {
     "name": "stdout",
     "output_type": "stream",
     "text": [
      "val Loss: 0.5217 Acc: 0.8578\n",
      "\n",
      "Epoch 20/25\n",
      "----------\n"
     ]
    },
    {
     "data": {
      "application/vnd.jupyter.widget-view+json": {
       "model_id": "a203a98919e241f3a39574384b04a915",
       "version_major": 2,
       "version_minor": 0
      },
      "text/plain": [
       "Train Batch:   0%|          | 0/591 [00:00<?, ?it/s]"
      ]
     },
     "metadata": {},
     "output_type": "display_data"
    },
    {
     "name": "stdout",
     "output_type": "stream",
     "text": [
      "train Loss: 0.5290 Acc: 0.8456\n"
     ]
    },
    {
     "data": {
      "application/vnd.jupyter.widget-view+json": {
       "model_id": "02066b4c81bb47818cf4821b7672d3fb",
       "version_major": 2,
       "version_minor": 0
      },
      "text/plain": [
       "Val Batch:   0%|          | 0/127 [00:00<?, ?it/s]"
      ]
     },
     "metadata": {},
     "output_type": "display_data"
    },
    {
     "name": "stdout",
     "output_type": "stream",
     "text": [
      "val Loss: 0.5140 Acc: 0.8620\n",
      "\n",
      "Epoch 21/25\n",
      "----------\n"
     ]
    },
    {
     "data": {
      "application/vnd.jupyter.widget-view+json": {
       "model_id": "4f764a0f7e894143994b858eedce7f10",
       "version_major": 2,
       "version_minor": 0
      },
      "text/plain": [
       "Train Batch:   0%|          | 0/591 [00:00<?, ?it/s]"
      ]
     },
     "metadata": {},
     "output_type": "display_data"
    },
    {
     "name": "stdout",
     "output_type": "stream",
     "text": [
      "train Loss: 0.5254 Acc: 0.8457\n"
     ]
    },
    {
     "data": {
      "application/vnd.jupyter.widget-view+json": {
       "model_id": "fe3c66b928a74f47982883fea6f295a5",
       "version_major": 2,
       "version_minor": 0
      },
      "text/plain": [
       "Val Batch:   0%|          | 0/127 [00:00<?, ?it/s]"
      ]
     },
     "metadata": {},
     "output_type": "display_data"
    },
    {
     "name": "stdout",
     "output_type": "stream",
     "text": [
      "val Loss: 0.4755 Acc: 0.8672\n",
      "\n",
      "Epoch 22/25\n",
      "----------\n"
     ]
    },
    {
     "data": {
      "application/vnd.jupyter.widget-view+json": {
       "model_id": "4dbb7f071fe14a0683e4d488ec88be92",
       "version_major": 2,
       "version_minor": 0
      },
      "text/plain": [
       "Train Batch:   0%|          | 0/591 [00:00<?, ?it/s]"
      ]
     },
     "metadata": {},
     "output_type": "display_data"
    },
    {
     "name": "stdout",
     "output_type": "stream",
     "text": [
      "train Loss: 0.5114 Acc: 0.8465\n"
     ]
    },
    {
     "data": {
      "application/vnd.jupyter.widget-view+json": {
       "model_id": "6b3db88c061048498a44ea48162909f6",
       "version_major": 2,
       "version_minor": 0
      },
      "text/plain": [
       "Val Batch:   0%|          | 0/127 [00:00<?, ?it/s]"
      ]
     },
     "metadata": {},
     "output_type": "display_data"
    },
    {
     "name": "stdout",
     "output_type": "stream",
     "text": [
      "val Loss: 0.4114 Acc: 0.8805\n",
      "\n",
      "Epoch 23/25\n",
      "----------\n"
     ]
    },
    {
     "data": {
      "application/vnd.jupyter.widget-view+json": {
       "model_id": "9851a2b1589d4c65aca663a00888a193",
       "version_major": 2,
       "version_minor": 0
      },
      "text/plain": [
       "Train Batch:   0%|          | 0/591 [00:00<?, ?it/s]"
      ]
     },
     "metadata": {},
     "output_type": "display_data"
    },
    {
     "name": "stdout",
     "output_type": "stream",
     "text": [
      "train Loss: 0.5173 Acc: 0.8479\n"
     ]
    },
    {
     "data": {
      "application/vnd.jupyter.widget-view+json": {
       "model_id": "3970ee73859442df981dac35123501dc",
       "version_major": 2,
       "version_minor": 0
      },
      "text/plain": [
       "Val Batch:   0%|          | 0/127 [00:00<?, ?it/s]"
      ]
     },
     "metadata": {},
     "output_type": "display_data"
    },
    {
     "name": "stdout",
     "output_type": "stream",
     "text": [
      "val Loss: 0.4793 Acc: 0.8635\n",
      "\n",
      "Epoch 24/25\n",
      "----------\n"
     ]
    },
    {
     "data": {
      "application/vnd.jupyter.widget-view+json": {
       "model_id": "552095a68e104bd3b097b16efde2dd47",
       "version_major": 2,
       "version_minor": 0
      },
      "text/plain": [
       "Train Batch:   0%|          | 0/591 [00:00<?, ?it/s]"
      ]
     },
     "metadata": {},
     "output_type": "display_data"
    },
    {
     "name": "stdout",
     "output_type": "stream",
     "text": [
      "train Loss: 0.5014 Acc: 0.8461\n"
     ]
    },
    {
     "data": {
      "application/vnd.jupyter.widget-view+json": {
       "model_id": "3bd651b9fb71461abfd5c86129e34352",
       "version_major": 2,
       "version_minor": 0
      },
      "text/plain": [
       "Val Batch:   0%|          | 0/127 [00:00<?, ?it/s]"
      ]
     },
     "metadata": {},
     "output_type": "display_data"
    },
    {
     "name": "stdout",
     "output_type": "stream",
     "text": [
      "val Loss: 0.4381 Acc: 0.8758\n",
      "\n",
      "Epoch 25/25\n",
      "----------\n"
     ]
    },
    {
     "data": {
      "application/vnd.jupyter.widget-view+json": {
       "model_id": "ba8d98138228416b98c6e183bb65e37b",
       "version_major": 2,
       "version_minor": 0
      },
      "text/plain": [
       "Train Batch:   0%|          | 0/591 [00:00<?, ?it/s]"
      ]
     },
     "metadata": {},
     "output_type": "display_data"
    },
    {
     "name": "stdout",
     "output_type": "stream",
     "text": [
      "train Loss: 0.5037 Acc: 0.8463\n"
     ]
    },
    {
     "data": {
      "application/vnd.jupyter.widget-view+json": {
       "model_id": "47f27e0158ec43528557892950eb1561",
       "version_major": 2,
       "version_minor": 0
      },
      "text/plain": [
       "Val Batch:   0%|          | 0/127 [00:00<?, ?it/s]"
      ]
     },
     "metadata": {},
     "output_type": "display_data"
    },
    {
     "name": "stdout",
     "output_type": "stream",
     "text": [
      "val Loss: 0.5956 Acc: 0.8506\n",
      "\n",
      "Training complete in 62m 28s\n",
      "Best validation accuracy: 0.8805\n"
     ]
    },
    {
     "data": {
      "application/vnd.jupyter.widget-view+json": {
       "model_id": "59ad989346f54bc5a23a162b56b4b713",
       "version_major": 2,
       "version_minor": 0
      },
      "text/plain": [
       "Evaluating:   0%|          | 0/127 [00:00<?, ?it/s]"
      ]
     },
     "metadata": {},
     "output_type": "display_data"
    },
    {
     "name": "stdout",
     "output_type": "stream",
     "text": [
      "Test Loss: 0.6179\n",
      "Test Accuracy: 0.8370\n"
     ]
    },
    {
     "data": {
      "image/png": "[encoded data removed]",
      "text/plain": [
       "<Figure size 1200x1000 with 2 Axes>"
      ]
     },
     "metadata": {},
     "output_type": "display_data"
    },
    {
     "name": "stdout",
     "output_type": "stream",
     "text": [
      "Classification Report:\n",
      "                      precision    recall  f1-score   support\n",
      "\n",
      "          AnnualCrop       0.82      0.93      0.87       472\n",
      "              Forest       0.92      0.68      0.78       442\n",
      "HerbaceousVegetation       0.77      0.89      0.83       458\n",
      "             Highway       0.83      0.69      0.75       391\n",
      "          Industrial       0.91      0.92      0.91       378\n",
      "             Pasture       0.88      0.79      0.84       299\n",
      "       PermanentCrop       0.91      0.70      0.79       379\n",
      "         Residential       0.93      0.92      0.93       450\n",
      "               River       0.70      0.86      0.77       375\n",
      "             SeaLake       0.80      0.96      0.87       406\n",
      "\n",
      "            accuracy                           0.84      4050\n",
      "           macro avg       0.85      0.83      0.83      4050\n",
      "        weighted avg       0.85      0.84      0.84      4050\n",
      "\n",
      "Model saved to ../models\\resnet50_frozen_20250409_1821.pth\n",
      "==================== Training resnet50 with unfrozen backbone ====================\n",
      "Epoch 1/25\n",
      "----------\n"
     ]
    },
    {
     "data": {
      "application/vnd.jupyter.widget-view+json": {
       "model_id": "90a92a62c6464430b791b259b37d4f7d",
       "version_major": 2,
       "version_minor": 0
      },
      "text/plain": [
       "Train Batch:   0%|          | 0/591 [00:00<?, ?it/s]"
      ]
     },
     "metadata": {},
     "output_type": "display_data"
    },
    {
     "name": "stdout",
     "output_type": "stream",
     "text": [
      "train Loss: 0.5181 Acc: 0.8410\n"
     ]
    },
    {
     "data": {
      "application/vnd.jupyter.widget-view+json": {
       "model_id": "8b2c39c6cb2b4274b9c1f62c20562732",
       "version_major": 2,
       "version_minor": 0
      },
      "text/plain": [
       "Val Batch:   0%|          | 0/127 [00:00<?, ?it/s]"
      ]
     },
     "metadata": {},
     "output_type": "display_data"
    },
    {
     "name": "stdout",
     "output_type": "stream",
     "text": [
      "val Loss: 0.2169 Acc: 0.9309\n",
      "\n",
      "Epoch 2/25\n",
      "----------\n"
     ]
    },
    {
     "data": {
      "application/vnd.jupyter.widget-view+json": {
       "model_id": "f8d20c715e4d4f6cac0e66f99d9e9bba",
       "version_major": 2,
       "version_minor": 0
      },
      "text/plain": [
       "Train Batch:   0%|          | 0/591 [00:00<?, ?it/s]"
      ]
     },
     "metadata": {},
     "output_type": "display_data"
    },
    {
     "name": "stdout",
     "output_type": "stream",
     "text": [
      "train Loss: 0.3252 Acc: 0.8950\n"
     ]
    },
    {
     "data": {
      "application/vnd.jupyter.widget-view+json": {
       "model_id": "4087128aca4e42f69eb48ca925e00c1c",
       "version_major": 2,
       "version_minor": 0
      },
      "text/plain": [
       "Val Batch:   0%|          | 0/127 [00:00<?, ?it/s]"
      ]
     },
     "metadata": {},
     "output_type": "display_data"
    },
    {
     "name": "stdout",
     "output_type": "stream",
     "text": [
      "val Loss: 0.1937 Acc: 0.9341\n",
      "\n",
      "Epoch 3/25\n",
      "----------\n"
     ]
    },
    {
     "data": {
      "application/vnd.jupyter.widget-view+json": {
       "model_id": "bc808938725b41578060229131b1705b",
       "version_major": 2,
       "version_minor": 0
      },
      "text/plain": [
       "Train Batch:   0%|          | 0/591 [00:00<?, ?it/s]"
      ]
     },
     "metadata": {},
     "output_type": "display_data"
    },
    {
     "name": "stdout",
     "output_type": "stream",
     "text": [
      "train Loss: 0.2755 Acc: 0.9069\n"
     ]
    },
    {
     "data": {
      "application/vnd.jupyter.widget-view+json": {
       "model_id": "9348775215d24206b3c251f8b5a0f369",
       "version_major": 2,
       "version_minor": 0
      },
      "text/plain": [
       "Val Batch:   0%|          | 0/127 [00:00<?, ?it/s]"
      ]
     },
     "metadata": {},
     "output_type": "display_data"
    },
    {
     "name": "stdout",
     "output_type": "stream",
     "text": [
      "val Loss: 0.1914 Acc: 0.9356\n",
      "\n",
      "Epoch 4/25\n",
      "----------\n"
     ]
    },
    {
     "data": {
      "application/vnd.jupyter.widget-view+json": {
       "model_id": "9ec649e5a8004760a4a15dc869ee0d8b",
       "version_major": 2,
       "version_minor": 0
      },
      "text/plain": [
       "Train Batch:   0%|          | 0/591 [00:00<?, ?it/s]"
      ]
     },
     "metadata": {},
     "output_type": "display_data"
    },
    {
     "name": "stdout",
     "output_type": "stream",
     "text": [
      "train Loss: 0.2619 Acc: 0.9135\n"
     ]
    },
    {
     "data": {
      "application/vnd.jupyter.widget-view+json": {
       "model_id": "ac07993d730b4be9b25fe1ad2419595b",
       "version_major": 2,
       "version_minor": 0
      },
      "text/plain": [
       "Val Batch:   0%|          | 0/127 [00:00<?, ?it/s]"
      ]
     },
     "metadata": {},
     "output_type": "display_data"
    },
    {
     "name": "stdout",
     "output_type": "stream",
     "text": [
      "val Loss: 0.1546 Acc: 0.9501\n",
      "\n",
      "Epoch 5/25\n",
      "----------\n"
     ]
    },
    {
     "data": {
      "application/vnd.jupyter.widget-view+json": {
       "model_id": "531826f5c0444f9aabe3762b7e8f05a5",
       "version_major": 2,
       "version_minor": 0
      },
      "text/plain": [
       "Train Batch:   0%|          | 0/591 [00:00<?, ?it/s]"
      ]
     },
     "metadata": {},
     "output_type": "display_data"
    },
    {
     "name": "stdout",
     "output_type": "stream",
     "text": [
      "train Loss: 0.1956 Acc: 0.9341\n"
     ]
    },
    {
     "data": {
      "application/vnd.jupyter.widget-view+json": {
       "model_id": "92a94283a0b6412fbecf90ae9f8ed816",
       "version_major": 2,
       "version_minor": 0
      },
      "text/plain": [
       "Val Batch:   0%|          | 0/127 [00:00<?, ?it/s]"
      ]
     },
     "metadata": {},
     "output_type": "display_data"
    },
    {
     "name": "stdout",
     "output_type": "stream",
     "text": [
      "val Loss: 0.1611 Acc: 0.9444\n",
      "\n",
      "Epoch 6/25\n",
      "----------\n"
     ]
    },
    {
     "data": {
      "application/vnd.jupyter.widget-view+json": {
       "model_id": "8fb2869837d342f1b1ea670dbfbaa803",
       "version_major": 2,
       "version_minor": 0
      },
      "text/plain": [
       "Train Batch:   0%|          | 0/591 [00:00<?, ?it/s]"
      ]
     },
     "metadata": {},
     "output_type": "display_data"
    },
    {
     "name": "stdout",
     "output_type": "stream",
     "text": [
      "train Loss: 0.1836 Acc: 0.9372\n"
     ]
    },
    {
     "data": {
      "application/vnd.jupyter.widget-view+json": {
       "model_id": "3de643c0246e438abc8ab0cc886defbe",
       "version_major": 2,
       "version_minor": 0
      },
      "text/plain": [
       "Val Batch:   0%|          | 0/127 [00:00<?, ?it/s]"
      ]
     },
     "metadata": {},
     "output_type": "display_data"
    },
    {
     "name": "stdout",
     "output_type": "stream",
     "text": [
      "val Loss: 0.1434 Acc: 0.9528\n",
      "\n",
      "Epoch 7/25\n",
      "----------\n"
     ]
    },
    {
     "data": {
      "application/vnd.jupyter.widget-view+json": {
       "model_id": "10c4fa449d9a4fccbdc26cec073caee1",
       "version_major": 2,
       "version_minor": 0
      },
      "text/plain": [
       "Train Batch:   0%|          | 0/591 [00:00<?, ?it/s]"
      ]
     },
     "metadata": {},
     "output_type": "display_data"
    },
    {
     "name": "stdout",
     "output_type": "stream",
     "text": [
      "train Loss: 0.1770 Acc: 0.9403\n"
     ]
    },
    {
     "data": {
      "application/vnd.jupyter.widget-view+json": {
       "model_id": "ede11816c9f04196b0aaff2d97d81c28",
       "version_major": 2,
       "version_minor": 0
      },
      "text/plain": [
       "Val Batch:   0%|          | 0/127 [00:00<?, ?it/s]"
      ]
     },
     "metadata": {},
     "output_type": "display_data"
    },
    {
     "name": "stdout",
     "output_type": "stream",
     "text": [
      "val Loss: 0.2676 Acc: 0.9121\n",
      "\n",
      "Epoch 8/25\n",
      "----------\n"
     ]
    },
    {
     "data": {
      "application/vnd.jupyter.widget-view+json": {
       "model_id": "724c611311d0443780ebd3877e714ace",
       "version_major": 2,
       "version_minor": 0
      },
      "text/plain": [
       "Train Batch:   0%|          | 0/591 [00:00<?, ?it/s]"
      ]
     },
     "metadata": {},
     "output_type": "display_data"
    },
    {
     "name": "stdout",
     "output_type": "stream",
     "text": [
      "train Loss: 0.1729 Acc: 0.9401\n"
     ]
    },
    {
     "data": {
      "application/vnd.jupyter.widget-view+json": {
       "model_id": "99fe2b65bb4d47cebad38824a390661a",
       "version_major": 2,
       "version_minor": 0
      },
      "text/plain": [
       "Val Batch:   0%|          | 0/127 [00:00<?, ?it/s]"
      ]
     },
     "metadata": {},
     "output_type": "display_data"
    },
    {
     "name": "stdout",
     "output_type": "stream",
     "text": [
      "val Loss: 0.1580 Acc: 0.9481\n",
      "\n",
      "Epoch 9/25\n",
      "----------\n"
     ]
    },
    {
     "data": {
      "application/vnd.jupyter.widget-view+json": {
       "model_id": "f1f3f5caf4314731932dba0a17ccdee2",
       "version_major": 2,
       "version_minor": 0
      },
      "text/plain": [
       "Train Batch:   0%|          | 0/591 [00:00<?, ?it/s]"
      ]
     },
     "metadata": {},
     "output_type": "display_data"
    },
    {
     "name": "stdout",
     "output_type": "stream",
     "text": [
      "train Loss: 0.1644 Acc: 0.9442\n"
     ]
    },
    {
     "data": {
      "application/vnd.jupyter.widget-view+json": {
       "model_id": "157c992ba1644b168e54b815d01a1d15",
       "version_major": 2,
       "version_minor": 0
      },
      "text/plain": [
       "Val Batch:   0%|          | 0/127 [00:00<?, ?it/s]"
      ]
     },
     "metadata": {},
     "output_type": "display_data"
    },
    {
     "name": "stdout",
     "output_type": "stream",
     "text": [
      "val Loss: 0.1354 Acc: 0.9526\n",
      "\n",
      "Epoch 10/25\n",
      "----------\n"
     ]
    },
    {
     "data": {
      "application/vnd.jupyter.widget-view+json": {
       "model_id": "1119dc338ec840e09e8e7211109a9ff3",
       "version_major": 2,
       "version_minor": 0
      },
      "text/plain": [
       "Train Batch:   0%|          | 0/591 [00:00<?, ?it/s]"
      ]
     },
     "metadata": {},
     "output_type": "display_data"
    },
    {
     "name": "stdout",
     "output_type": "stream",
     "text": [
      "train Loss: 0.1528 Acc: 0.9490\n"
     ]
    },
    {
     "data": {
      "application/vnd.jupyter.widget-view+json": {
       "model_id": "8310dabecb0a4ee7bab1e535623d9cf0",
       "version_major": 2,
       "version_minor": 0
      },
      "text/plain": [
       "Val Batch:   0%|          | 0/127 [00:00<?, ?it/s]"
      ]
     },
     "metadata": {},
     "output_type": "display_data"
    },
    {
     "name": "stdout",
     "output_type": "stream",
     "text": [
      "val Loss: 0.1235 Acc: 0.9588\n",
      "\n",
      "Epoch 11/25\n",
      "----------\n"
     ]
    },
    {
     "data": {
      "application/vnd.jupyter.widget-view+json": {
       "model_id": "6db2751d85b54311802d941142b1da05",
       "version_major": 2,
       "version_minor": 0
      },
      "text/plain": [
       "Train Batch:   0%|          | 0/591 [00:00<?, ?it/s]"
      ]
     },
     "metadata": {},
     "output_type": "display_data"
    },
    {
     "name": "stdout",
     "output_type": "stream",
     "text": [
      "train Loss: 0.1469 Acc: 0.9497\n"
     ]
    },
    {
     "data": {
      "application/vnd.jupyter.widget-view+json": {
       "model_id": "731f32c08cce4c2ca919f57ef2fc15eb",
       "version_major": 2,
       "version_minor": 0
      },
      "text/plain": [
       "Val Batch:   0%|          | 0/127 [00:00<?, ?it/s]"
      ]
     },
     "metadata": {},
     "output_type": "display_data"
    },
    {
     "name": "stdout",
     "output_type": "stream",
     "text": [
      "val Loss: 0.1190 Acc: 0.9612\n",
      "\n",
      "Epoch 12/25\n",
      "----------\n"
     ]
    },
    {
     "data": {
      "application/vnd.jupyter.widget-view+json": {
       "model_id": "0cbd5de62d4649e1ba13267c00c490cf",
       "version_major": 2,
       "version_minor": 0
      },
      "text/plain": [
       "Train Batch:   0%|          | 0/591 [00:00<?, ?it/s]"
      ]
     },
     "metadata": {},
     "output_type": "display_data"
    },
    {
     "name": "stdout",
     "output_type": "stream",
     "text": [
      "train Loss: 0.1450 Acc: 0.9508\n"
     ]
    },
    {
     "data": {
      "application/vnd.jupyter.widget-view+json": {
       "model_id": "ad8818f80a6d48679b8ac79c0a4c0684",
       "version_major": 2,
       "version_minor": 0
      },
      "text/plain": [
       "Val Batch:   0%|          | 0/127 [00:00<?, ?it/s]"
      ]
     },
     "metadata": {},
     "output_type": "display_data"
    },
    {
     "name": "stdout",
     "output_type": "stream",
     "text": [
      "val Loss: 0.1372 Acc: 0.9543\n",
      "\n",
      "Epoch 13/25\n",
      "----------\n"
     ]
    },
    {
     "data": {
      "application/vnd.jupyter.widget-view+json": {
       "model_id": "036ad00b78ff476f98cee34442127b0e",
       "version_major": 2,
       "version_minor": 0
      },
      "text/plain": [
       "Train Batch:   0%|          | 0/591 [00:00<?, ?it/s]"
      ]
     },
     "metadata": {},
     "output_type": "display_data"
    },
    {
     "name": "stdout",
     "output_type": "stream",
     "text": [
      "train Loss: 0.1367 Acc: 0.9515\n"
     ]
    },
    {
     "data": {
      "application/vnd.jupyter.widget-view+json": {
       "model_id": "6d46cd2b94df4f29b8d31fa8015084a8",
       "version_major": 2,
       "version_minor": 0
      },
      "text/plain": [
       "Val Batch:   0%|          | 0/127 [00:00<?, ?it/s]"
      ]
     },
     "metadata": {},
     "output_type": "display_data"
    },
    {
     "name": "stdout",
     "output_type": "stream",
     "text": [
      "val Loss: 0.2081 Acc: 0.9323\n",
      "\n",
      "Epoch 14/25\n",
      "----------\n"
     ]
    },
    {
     "data": {
      "application/vnd.jupyter.widget-view+json": {
       "model_id": "e683152eaac347f5869103e67ef65f52",
       "version_major": 2,
       "version_minor": 0
      },
      "text/plain": [
       "Train Batch:   0%|          | 0/591 [00:00<?, ?it/s]"
      ]
     },
     "metadata": {},
     "output_type": "display_data"
    },
    {
     "name": "stdout",
     "output_type": "stream",
     "text": [
      "train Loss: 0.1295 Acc: 0.9548\n"
     ]
    },
    {
     "data": {
      "application/vnd.jupyter.widget-view+json": {
       "model_id": "bff8b7a4aec045efa366ed1d348d003e",
       "version_major": 2,
       "version_minor": 0
      },
      "text/plain": [
       "Val Batch:   0%|          | 0/127 [00:00<?, ?it/s]"
      ]
     },
     "metadata": {},
     "output_type": "display_data"
    },
    {
     "name": "stdout",
     "output_type": "stream",
     "text": [
      "val Loss: 0.1652 Acc: 0.9481\n",
      "\n",
      "Epoch 15/25\n",
      "----------\n"
     ]
    },
    {
     "data": {
      "application/vnd.jupyter.widget-view+json": {
       "model_id": "a777345d754649a98ce95c6418f947f8",
       "version_major": 2,
       "version_minor": 0
      },
      "text/plain": [
       "Train Batch:   0%|          | 0/591 [00:00<?, ?it/s]"
      ]
     },
     "metadata": {},
     "output_type": "display_data"
    },
    {
     "name": "stdout",
     "output_type": "stream",
     "text": [
      "train Loss: 0.1283 Acc: 0.9560\n"
     ]
    },
    {
     "data": {
      "application/vnd.jupyter.widget-view+json": {
       "model_id": "17fd2f0082db44a586051ad81f1d69eb",
       "version_major": 2,
       "version_minor": 0
      },
      "text/plain": [
       "Val Batch:   0%|          | 0/127 [00:00<?, ?it/s]"
      ]
     },
     "metadata": {},
     "output_type": "display_data"
    },
    {
     "name": "stdout",
     "output_type": "stream",
     "text": [
      "val Loss: 0.1045 Acc: 0.9644\n",
      "\n",
      "Epoch 16/25\n",
      "----------\n"
     ]
    },
    {
     "data": {
      "application/vnd.jupyter.widget-view+json": {
       "model_id": "03f8bb568048470996c8de3ddcbff179",
       "version_major": 2,
       "version_minor": 0
      },
      "text/plain": [
       "Train Batch:   0%|          | 0/591 [00:00<?, ?it/s]"
      ]
     },
     "metadata": {},
     "output_type": "display_data"
    },
    {
     "name": "stdout",
     "output_type": "stream",
     "text": [
      "train Loss: 0.1188 Acc: 0.9601\n"
     ]
    },
    {
     "data": {
      "application/vnd.jupyter.widget-view+json": {
       "model_id": "d91fd6deb5a3480e81bf9bf681798cf9",
       "version_major": 2,
       "version_minor": 0
      },
      "text/plain": [
       "Val Batch:   0%|          | 0/127 [00:00<?, ?it/s]"
      ]
     },
     "metadata": {},
     "output_type": "display_data"
    },
    {
     "name": "stdout",
     "output_type": "stream",
     "text": [
      "val Loss: 0.1098 Acc: 0.9654\n",
      "\n",
      "Epoch 17/25\n",
      "----------\n"
     ]
    },
    {
     "data": {
      "application/vnd.jupyter.widget-view+json": {
       "model_id": "62b11a7bcd5d487f95a6a6b608a2cc75",
       "version_major": 2,
       "version_minor": 0
      },
      "text/plain": [
       "Train Batch:   0%|          | 0/591 [00:00<?, ?it/s]"
      ]
     },
     "metadata": {},
     "output_type": "display_data"
    },
    {
     "name": "stdout",
     "output_type": "stream",
     "text": [
      "train Loss: 0.1159 Acc: 0.9604\n"
     ]
    },
    {
     "data": {
      "application/vnd.jupyter.widget-view+json": {
       "model_id": "e95ddd47cebb43b48f143e51b4da3868",
       "version_major": 2,
       "version_minor": 0
      },
      "text/plain": [
       "Val Batch:   0%|          | 0/127 [00:00<?, ?it/s]"
      ]
     },
     "metadata": {},
     "output_type": "display_data"
    },
    {
     "name": "stdout",
     "output_type": "stream",
     "text": [
      "val Loss: 0.0901 Acc: 0.9689\n",
      "\n",
      "Epoch 18/25\n",
      "----------\n"
     ]
    },
    {
     "data": {
      "application/vnd.jupyter.widget-view+json": {
       "model_id": "64663dfe8da9494194ba9cff7c3a67a6",
       "version_major": 2,
       "version_minor": 0
      },
      "text/plain": [
       "Train Batch:   0%|          | 0/591 [00:00<?, ?it/s]"
      ]
     },
     "metadata": {},
     "output_type": "display_data"
    },
    {
     "name": "stdout",
     "output_type": "stream",
     "text": [
      "train Loss: 0.1093 Acc: 0.9613\n"
     ]
    },
    {
     "data": {
      "application/vnd.jupyter.widget-view+json": {
       "model_id": "2c227e97d2b04ae48d0e96f5656fb3f8",
       "version_major": 2,
       "version_minor": 0
      },
      "text/plain": [
       "Val Batch:   0%|          | 0/127 [00:00<?, ?it/s]"
      ]
     },
     "metadata": {},
     "output_type": "display_data"
    },
    {
     "name": "stdout",
     "output_type": "stream",
     "text": [
      "val Loss: 0.1158 Acc: 0.9632\n",
      "\n",
      "Epoch 19/25\n",
      "----------\n"
     ]
    },
    {
     "data": {
      "application/vnd.jupyter.widget-view+json": {
       "model_id": "b49d091e9ed346d3bb045ee0cdefb876",
       "version_major": 2,
       "version_minor": 0
      },
      "text/plain": [
       "Train Batch:   0%|          | 0/591 [00:00<?, ?it/s]"
      ]
     },
     "metadata": {},
     "output_type": "display_data"
    },
    {
     "name": "stdout",
     "output_type": "stream",
     "text": [
      "train Loss: 0.1134 Acc: 0.9623\n"
     ]
    },
    {
     "data": {
      "application/vnd.jupyter.widget-view+json": {
       "model_id": "202c0f59719543efbe9d870544413f63",
       "version_major": 2,
       "version_minor": 0
      },
      "text/plain": [
       "Val Batch:   0%|          | 0/127 [00:00<?, ?it/s]"
      ]
     },
     "metadata": {},
     "output_type": "display_data"
    },
    {
     "name": "stdout",
     "output_type": "stream",
     "text": [
      "val Loss: 0.1445 Acc: 0.9506\n",
      "\n",
      "Epoch 20/25\n",
      "----------\n"
     ]
    },
    {
     "data": {
      "application/vnd.jupyter.widget-view+json": {
       "model_id": "a0df7366499144c99e534626925a3424",
       "version_major": 2,
       "version_minor": 0
      },
      "text/plain": [
       "Train Batch:   0%|          | 0/591 [00:00<?, ?it/s]"
      ]
     },
     "metadata": {},
     "output_type": "display_data"
    },
    {
     "name": "stdout",
     "output_type": "stream",
     "text": [
      "train Loss: 0.1106 Acc: 0.9625\n"
     ]
    },
    {
     "data": {
      "application/vnd.jupyter.widget-view+json": {
       "model_id": "caf8e117b3a247febc037755a4ffeef3",
       "version_major": 2,
       "version_minor": 0
      },
      "text/plain": [
       "Val Batch:   0%|          | 0/127 [00:00<?, ?it/s]"
      ]
     },
     "metadata": {},
     "output_type": "display_data"
    },
    {
     "name": "stdout",
     "output_type": "stream",
     "text": [
      "val Loss: 0.1151 Acc: 0.9590\n",
      "\n",
      "Epoch 21/25\n",
      "----------\n"
     ]
    },
    {
     "data": {
      "application/vnd.jupyter.widget-view+json": {
       "model_id": "b407cb62b1a6425da3cc54005cdba43b",
       "version_major": 2,
       "version_minor": 0
      },
      "text/plain": [
       "Train Batch:   0%|          | 0/591 [00:00<?, ?it/s]"
      ]
     },
     "metadata": {},
     "output_type": "display_data"
    },
    {
     "name": "stdout",
     "output_type": "stream",
     "text": [
      "train Loss: 0.0970 Acc: 0.9664\n"
     ]
    },
    {
     "data": {
      "application/vnd.jupyter.widget-view+json": {
       "model_id": "61d45aa4d8e2434bad4e47a47c3f73af",
       "version_major": 2,
       "version_minor": 0
      },
      "text/plain": [
       "Val Batch:   0%|          | 0/127 [00:00<?, ?it/s]"
      ]
     },
     "metadata": {},
     "output_type": "display_data"
    },
    {
     "name": "stdout",
     "output_type": "stream",
     "text": [
      "val Loss: 0.1425 Acc: 0.9568\n",
      "\n",
      "Epoch 22/25\n",
      "----------\n"
     ]
    },
    {
     "data": {
      "application/vnd.jupyter.widget-view+json": {
       "model_id": "e3f7e70976fc47a1ada2b5f20d51d324",
       "version_major": 2,
       "version_minor": 0
      },
      "text/plain": [
       "Train Batch:   0%|          | 0/591 [00:00<?, ?it/s]"
      ]
     },
     "metadata": {},
     "output_type": "display_data"
    },
    {
     "name": "stdout",
     "output_type": "stream",
     "text": [
      "train Loss: 0.0603 Acc: 0.9792\n"
     ]
    },
    {
     "data": {
      "application/vnd.jupyter.widget-view+json": {
       "model_id": "642e3eb8a7b3426297004852ad4a3bb7",
       "version_major": 2,
       "version_minor": 0
      },
      "text/plain": [
       "Val Batch:   0%|          | 0/127 [00:00<?, ?it/s]"
      ]
     },
     "metadata": {},
     "output_type": "display_data"
    },
    {
     "name": "stdout",
     "output_type": "stream",
     "text": [
      "val Loss: 0.0788 Acc: 0.9743\n",
      "\n",
      "Epoch 23/25\n",
      "----------\n"
     ]
    },
    {
     "data": {
      "application/vnd.jupyter.widget-view+json": {
       "model_id": "aac9a527db414b13b030f9f73674af9c",
       "version_major": 2,
       "version_minor": 0
      },
      "text/plain": [
       "Train Batch:   0%|          | 0/591 [00:00<?, ?it/s]"
      ]
     },
     "metadata": {},
     "output_type": "display_data"
    },
    {
     "name": "stdout",
     "output_type": "stream",
     "text": [
      "train Loss: 0.0403 Acc: 0.9861\n"
     ]
    },
    {
     "data": {
      "application/vnd.jupyter.widget-view+json": {
       "model_id": "cecc0742f03b4c7ab24ecfa9a15b991f",
       "version_major": 2,
       "version_minor": 0
      },
      "text/plain": [
       "Val Batch:   0%|          | 0/127 [00:00<?, ?it/s]"
      ]
     },
     "metadata": {},
     "output_type": "display_data"
    },
    {
     "name": "stdout",
     "output_type": "stream",
     "text": [
      "val Loss: 0.0761 Acc: 0.9746\n",
      "\n",
      "Epoch 24/25\n",
      "----------\n"
     ]
    },
    {
     "data": {
      "application/vnd.jupyter.widget-view+json": {
       "model_id": "84e6d6d92be64727a72abda0e8e6fb1e",
       "version_major": 2,
       "version_minor": 0
      },
      "text/plain": [
       "Train Batch:   0%|          | 0/591 [00:00<?, ?it/s]"
      ]
     },
     "metadata": {},
     "output_type": "display_data"
    },
    {
     "name": "stdout",
     "output_type": "stream",
     "text": [
      "train Loss: 0.0365 Acc: 0.9872\n"
     ]
    },
    {
     "data": {
      "application/vnd.jupyter.widget-view+json": {
       "model_id": "66f2440cc57f4b9284b8e4bf68a99003",
       "version_major": 2,
       "version_minor": 0
      },
      "text/plain": [
       "Val Batch:   0%|          | 0/127 [00:00<?, ?it/s]"
      ]
     },
     "metadata": {},
     "output_type": "display_data"
    },
    {
     "name": "stdout",
     "output_type": "stream",
     "text": [
      "val Loss: 0.0751 Acc: 0.9738\n",
      "\n",
      "Epoch 25/25\n",
      "----------\n"
     ]
    },
    {
     "data": {
      "application/vnd.jupyter.widget-view+json": {
       "model_id": "a157facc129a42b1b6ac659ede27fd06",
       "version_major": 2,
       "version_minor": 0
      },
      "text/plain": [
       "Train Batch:   0%|          | 0/591 [00:00<?, ?it/s]"
      ]
     },
     "metadata": {},
     "output_type": "display_data"
    },
    {
     "name": "stdout",
     "output_type": "stream",
     "text": [
      "train Loss: 0.0322 Acc: 0.9898\n"
     ]
    },
    {
     "data": {
      "application/vnd.jupyter.widget-view+json": {
       "model_id": "35a52647581c44778ab77fcf1bd57a73",
       "version_major": 2,
       "version_minor": 0
      },
      "text/plain": [
       "Val Batch:   0%|          | 0/127 [00:00<?, ?it/s]"
      ]
     },
     "metadata": {},
     "output_type": "display_data"
    },
    {
     "name": "stdout",
     "output_type": "stream",
     "text": [
      "val Loss: 0.0715 Acc: 0.9768\n",
      "\n",
      "Training complete in 158m 29s\n",
      "Best validation accuracy: 0.9768\n"
     ]
    },
    {
     "data": {
      "application/vnd.jupyter.widget-view+json": {
       "model_id": "2eb2772027b14dbb96c2adb83b6e8e8d",
       "version_major": 2,
       "version_minor": 0
      },
      "text/plain": [
       "Evaluating:   0%|          | 0/127 [00:00<?, ?it/s]"
      ]
     },
     "metadata": {},
     "output_type": "display_data"
    },
    {
     "name": "stdout",
     "output_type": "stream",
     "text": [
      "Test Loss: 0.0817\n",
      "Test Accuracy: 0.9753\n"
     ]
    },
    {
     "data": {
      "image/png": "[encoded data removed]",
      "text/plain": [
       "<Figure size 1200x1000 with 2 Axes>"
      ]
     },
     "metadata": {},
     "output_type": "display_data"
    },
    {
     "name": "stdout",
     "output_type": "stream",
     "text": [
      "Classification Report:\n",
      "                      precision    recall  f1-score   support\n",
      "\n",
      "          AnnualCrop       0.97      0.95      0.96       472\n",
      "              Forest       1.00      0.98      0.99       442\n",
      "HerbaceousVegetation       0.96      0.98      0.97       458\n",
      "             Highway       0.97      0.98      0.98       391\n",
      "          Industrial       0.98      0.98      0.98       378\n",
      "             Pasture       0.96      0.96      0.96       299\n",
      "       PermanentCrop       0.96      0.96      0.96       379\n",
      "         Residential       0.99      0.98      0.99       450\n",
      "               River       0.98      0.98      0.98       375\n",
      "             SeaLake       0.98      1.00      0.99       406\n",
      "\n",
      "            accuracy                           0.98      4050\n",
      "           macro avg       0.97      0.98      0.97      4050\n",
      "        weighted avg       0.98      0.98      0.98      4050\n",
      "\n",
      "Model saved to ../models\\resnet50_unfrozen_20250409_2059.pth\n",
      "\n",
      "=== Model Performance Comparison ===\n",
      "Model: resnet50\n",
      "Frozen Test Accuracy: 0.8370\n",
      "Unfrozen Test Accuracy: 0.9753\n",
      "Accuracy Difference: 0.1383\n",
      "Frozen Training Time: 62.0 minutes\n",
      "Unfrozen Training Time: 158.0 minutes\n",
      "Training Time Ratio: 2.54x\n",
      "Frozen Epochs Completed: 25\n",
      "Unfrozen Epochs Completed: 25\n"
     ]
    },
    {
     "data": {
      "image/png": "[encoded data removed]",
      "text/plain": [
       "<Figure size 1500x1000 with 4 Axes>"
      ]
     },
     "metadata": {},
     "output_type": "display_data"
    },
    {
     "name": "stdout",
     "output_type": "stream",
     "text": [
      "Comparison saved to ../results\\resnet50_comparison.json\n"
     ]
    }
   ],
   "source": [
    "# Run the main function\n",
    "if __name__ == \"__main__\":\n",
    "    main()"
   ]
  }
 ],
 "metadata": {
  "kernelspec": {
   "display_name": "Python 3",
   "language": "python",
   "name": "python3"
  },
  "language_info": {
   "codemirror_mode": {
    "name": "ipython",
    "version": 3
   },
   "file_extension": ".py",
   "mimetype": "text/x-python",
   "name": "python",
   "nbconvert_exporter": "python",
   "pygments_lexer": "ipython3",
   "version": "3.12.4"
  }
 },
 "nbformat": 4,
 "nbformat_minor": 2
}
